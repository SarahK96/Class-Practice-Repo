{
 "cells": [
  {
   "cell_type": "markdown",
   "metadata": {},
   "source": [
    "# Class Activity 2: `numpy` Practice\n",
    "9/7/2017"
   ]
  },
  {
   "cell_type": "markdown",
   "metadata": {},
   "source": [
    "## (1) Data comes in many forms! \n",
    "\n",
    "- Build a numpy array called `exams` from the string below. \n",
    "- There are three students (rows) and their five exam scores (columns). \n",
    "- String methods such as `.split()` will come in handy. \n",
    "- You will also want to pay attention to object types: string vs. integer\n"
   ]
  },
  {
   "cell_type": "code",
   "execution_count": null,
   "metadata": {},
   "outputs": [],
   "source": [
    "teacher_notes = \"\"\"lisa: 90, 99, 100, 95, 95\n",
    "bart: 70, 82, 65, 53, 77\n",
    "nelson: 80, 85, 85, 88, 84\n",
    "\"\"\"\n",
    "print(teacher_notes)"
   ]
  },
  {
   "cell_type": "code",
   "execution_count": null,
   "metadata": {
    "collapsed": true
   },
   "outputs": [],
   "source": [
    "# Your code here. "
   ]
  },
  {
   "cell_type": "markdown",
   "metadata": {},
   "source": [
    "## (2) Accessing `exams` numpy array\n",
    "- Get Bart's exam scores\n",
    "- Get Nelson's exam scores\n",
    "- Get Lisa's 3rd exam score\n",
    "- Get Lisa's exam scores, without the last one\n",
    "- Get Bart's and Nelson's exam scores"
   ]
  },
  {
   "cell_type": "code",
   "execution_count": null,
   "metadata": {
    "collapsed": true
   },
   "outputs": [],
   "source": [
    "# Your code here."
   ]
  },
  {
   "cell_type": "markdown",
   "metadata": {},
   "source": [
    "## (3) Statistics with `numpy`\n",
    "- What is Lisa's exam average? What is Bart's?\n",
    "- What is Lisa's maximum exam score? Minimum?\n",
    "- What is the total of Lisa's exam scores?\n",
    "- What is the average of the last exam? \n",
    "- What is the average of each student? (Use `for` loop!)"
   ]
  },
  {
   "cell_type": "code",
   "execution_count": null,
   "metadata": {
    "collapsed": true
   },
   "outputs": [],
   "source": [
    "# Your code here. "
   ]
  },
  {
   "cell_type": "markdown",
   "metadata": {},
   "source": [
    "## (4) Manipulating an array\n",
    "- Teacher is having a good day. She decides to boost every exam score by 5. \n",
    "- Teacher is having a bad day. She takes 10 points off of everyone's last exam. \n",
    "- Teacher is having an even worse day. She decides to assign 0 to everyone's last exam. \n",
    "\n",
    "** Pay attention to the original `exams` array. Is it changing, or are you creating a new array?"
   ]
  },
  {
   "cell_type": "code",
   "execution_count": null,
   "metadata": {
    "collapsed": true
   },
   "outputs": [],
   "source": [
    "# Your code here. "
   ]
  },
  {
   "cell_type": "markdown",
   "metadata": {},
   "source": [
    "## (5) Adding to existing array\n",
    "- Oops, teacher forgot about Milhouse's exam scores. \n",
    "- How to add them into `exams`?\n",
    "- Hint: use `np.append()`"
   ]
  },
  {
   "cell_type": "code",
   "execution_count": null,
   "metadata": {
    "collapsed": true
   },
   "outputs": [],
   "source": [
    "milhouse = [85, 90, 90, 70, 55]\n",
    "# Your code below. "
   ]
  },
  {
   "cell_type": "markdown",
   "metadata": {},
   "source": [
    "## (6) Transforming content\n",
    "- Teacher wants to convert numeric scores to letter grades. \n",
    "- First, build a function called `letter_grade()` which takes a numeric score and returns 'A', 'B', 'C', 'D', or 'F'. \n",
    "- Then, apply this function to each element in `exam`. (Hint: use `numpy.vectorize()`)"
   ]
  },
  {
   "cell_type": "code",
   "execution_count": null,
   "metadata": {
    "collapsed": true
   },
   "outputs": [],
   "source": [
    "# Your code here. "
   ]
  }
 ],
 "metadata": {
  "kernelspec": {
   "display_name": "Python 3",
   "language": "python",
   "name": "python3"
  },
  "language_info": {
   "codemirror_mode": {
    "name": "ipython",
    "version": 3
   },
   "file_extension": ".py",
   "mimetype": "text/x-python",
   "name": "python",
   "nbconvert_exporter": "python",
   "pygments_lexer": "ipython3",
   "version": "3.5.3"
  }
 },
 "nbformat": 4,
 "nbformat_minor": 2
}
