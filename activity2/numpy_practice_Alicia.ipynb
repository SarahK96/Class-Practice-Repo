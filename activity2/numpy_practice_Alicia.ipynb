{
 "cells": [
  {
   "cell_type": "markdown",
   "metadata": {},
   "source": [
    "# Class Activity 2: `numpy` Practice\n",
    "9/7/2017"
   ]
  },
  {
   "cell_type": "markdown",
   "metadata": {},
   "source": [
    "## (1) Data comes in many forms! \n",
    "\n",
    "- Build a numpy array called `exams` from the string below. \n",
    "- There are three students (rows) and their five exam scores (columns). \n",
    "- String methods such as `.split()` will come in handy. \n",
    "- You will also want to pay attention to object types: string vs. integer\n"
   ]
  },
  {
   "cell_type": "code",
   "execution_count": 1,
   "metadata": {},
   "outputs": [
    {
     "name": "stdout",
     "output_type": "stream",
     "text": [
      "lisa: 90, 99, 100, 95, 95\n",
      "bart: 70, 82, 65, 53, 77\n",
      "nelson: 80, 85, 85, 88, 84\n",
      "\n"
     ]
    }
   ],
   "source": [
    "teacher_notes = \"\"\"lisa: 90, 99, 100, 95, 95\n",
    "bart: 70, 82, 65, 53, 77\n",
    "nelson: 80, 85, 85, 88, 84\n",
    "\"\"\"\n",
    "print(teacher_notes)"
   ]
  },
  {
   "cell_type": "code",
   "execution_count": 2,
   "metadata": {},
   "outputs": [
    {
     "name": "stdout",
     "output_type": "stream",
     "text": [
      "[[ 90  99 100  95  95]\n",
      " [ 70  82  65  53  77]\n",
      " [ 80  85  85  88  84]]\n"
     ]
    }
   ],
   "source": [
    "# My Code:\n",
    "\n",
    "#after each student's last exam, there is a \\n\n",
    "teacher_notes\n",
    "\n",
    "lists = []\n",
    "\n",
    "#to get rid of the final \\n, use .strip() <-- removes whitespace characters on either end\n",
    "for l in teacher_notes.strip().split('\\n'):\n",
    "    \n",
    "    #split on : to get name separated from first number\n",
    "    scores = l.replace(\":\",\",\").split(', ')\n",
    "    #print(scores)\n",
    "    #print(scores[1:])\n",
    "    \n",
    "    #ignores first item, and uses list comprehension to turn strings into integers\n",
    "    numbers = [int(x) for x in scores[1:]]\n",
    "    #print(numbers)\n",
    "    \n",
    "    #put all the lists in the empty list \"lists\"\n",
    "    lists.append(numbers)\n",
    "#print(lists)\n",
    "\n",
    "import numpy as np\n",
    "exams = np.array(lists)\n",
    "print(exams)"
   ]
  },
  {
   "cell_type": "markdown",
   "metadata": {},
   "source": [
    "## (2) Accessing `exams` numpy array\n",
    "- Get Bart's exam scores\n",
    "- Get Nelson's exam scores\n",
    "- Get Lisa's 3rd exam score\n",
    "- Get Lisa's exam scores, without the last one\n",
    "- Get Bart's and Nelson's exam scores"
   ]
  },
  {
   "cell_type": "code",
   "execution_count": 3,
   "metadata": {},
   "outputs": [
    {
     "data": {
      "text/plain": [
       "array([[70, 82, 65, 53, 77],\n",
       "       [80, 85, 85, 88, 84]])"
      ]
     },
     "execution_count": 3,
     "metadata": {},
     "output_type": "execute_result"
    }
   ],
   "source": [
    "# My Code:\n",
    "\n",
    "#bart\n",
    "exams[1,:]\n",
    "exams[1]      #same as above -- if only one index, it assumes rows\n",
    "#nelson\n",
    "exams[-1,:]\n",
    "#lisa exam 3\n",
    "exams[0,2]\n",
    "#lisa without last exam\n",
    "exams[0,:-1]\n",
    "#bart&nelson\n",
    "exams[1:,:]\n",
    "exams[[1,2],:]    #same as above, using explicit indexing"
   ]
  },
  {
   "cell_type": "markdown",
   "metadata": {},
   "source": [
    "## (3) Statistics with `numpy`\n",
    "- What is Lisa's exam average? What is Bart's?\n",
    "- What is Lisa's maximum exam score? Minimum?\n",
    "- What is the total of Lisa's exam scores?\n",
    "- What is the average of the last exam? \n",
    "- What is the average of each student? (Use `for` loop!)"
   ]
  },
  {
   "cell_type": "code",
   "execution_count": 4,
   "metadata": {},
   "outputs": [
    {
     "name": "stdout",
     "output_type": "stream",
     "text": [
      "95.8\n",
      "69.4\n",
      "100\n",
      "90\n",
      "479\n",
      "85.3333333333\n",
      "[ 90  99 100  95  95]\n",
      "95.8\n",
      "[70 82 65 53 77]\n",
      "69.4\n",
      "[80 85 85 88 84]\n",
      "84.4\n"
     ]
    }
   ],
   "source": [
    "# My Code:\n",
    "\n",
    "#lisa average\n",
    "print(exams[0].mean())\n",
    "\n",
    "#bart's average\n",
    "print(exams[1].mean())\n",
    "\n",
    "#lisa's max & min\n",
    "print(exams[0].max())\n",
    "print(exams[0].min())\n",
    "\n",
    "#lisa's total\n",
    "print(exams[0].sum())\n",
    "#print(sum(exams[0]))       # a lot slower than numpy sum\n",
    "\n",
    "#last exam average\n",
    "print(exams[:,-1].mean())\n",
    "\n",
    "#average per student \n",
    "for x in exams:\n",
    "    print(x)\n",
    "    print(x.mean())"
   ]
  },
  {
   "cell_type": "markdown",
   "metadata": {},
   "source": [
    "## (4) Manipulating an array\n",
    "- Teacher is having a good day. She decides to boost every exam score by 5. \n",
    "- Teacher is having a bad day. She takes 10 points off of everyone's last exam. \n",
    "- Teacher is having an even worse day. She decides to assign 0 to everyone's last exam. \n",
    "\n",
    "** Pay attention to the original `exams` array. Is it changing, or are you creating a new array?"
   ]
  },
  {
   "cell_type": "code",
   "execution_count": 5,
   "metadata": {},
   "outputs": [
    {
     "name": "stdout",
     "output_type": "stream",
     "text": [
      "[[ 90  99 100  95  95]\n",
      " [ 70  82  65  53  77]\n",
      " [ 80  85  85  88  84]]\n",
      "[[ 90  99 100  95  85]\n",
      " [ 70  82  65  53  67]\n",
      " [ 80  85  85  88  74]]\n",
      "[[ 90  99 100  95   0]\n",
      " [ 70  82  65  53   0]\n",
      " [ 80  85  85  88   0]]\n"
     ]
    }
   ],
   "source": [
    "# My Code:\n",
    "\n",
    "exams+=5   #adds 5 to original\n",
    "exams-=5   #subtracts 5 to get back to original\n",
    "print(exams)\n",
    "\n",
    "#10 off last exam\n",
    "exams[:,-1] -= 10\n",
    "print(exams)\n",
    "\n",
    "exams[:,-1] = 0\n",
    "print(exams)"
   ]
  },
  {
   "cell_type": "code",
   "execution_count": 6,
   "metadata": {
    "collapsed": true
   },
   "outputs": [],
   "source": [
    "milhouse = [85, 90, 90, 70, 55]\n",
    "# Your code below. "
   ]
  },
  {
   "cell_type": "markdown",
   "metadata": {},
   "source": [
    "## (6) Transforming content\n",
    "- Teacher wants to convert numeric scores to letter grades. \n",
    "- First, build a function called `letter_grade()` which takes a numeric score and returns 'A', 'B', 'C', 'D', or 'F'. \n",
    "- Then, apply this function to each element in `exam`. (Hint: use `numpy.vectorize()`)"
   ]
  },
  {
   "cell_type": "code",
   "execution_count": 7,
   "metadata": {
    "collapsed": true
   },
   "outputs": [],
   "source": [
    "# Your code here. "
   ]
  }
 ],
 "metadata": {
  "kernelspec": {
   "display_name": "Python 3",
   "language": "python",
   "name": "python3"
  },
  "language_info": {
   "codemirror_mode": {
    "name": "ipython",
    "version": 3
   },
   "file_extension": ".py",
   "mimetype": "text/x-python",
   "name": "python",
   "nbconvert_exporter": "python",
   "pygments_lexer": "ipython3",
   "version": "3.6.1"
  }
 },
 "nbformat": 4,
 "nbformat_minor": 2
}
