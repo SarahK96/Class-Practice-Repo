{
 "cells": [
  {
   "cell_type": "markdown",
   "metadata": {},
   "source": [
    "# Class Activity 2: `numpy` Practice\n",
    "9/7/2017"
   ]
  },
  {
   "cell_type": "markdown",
   "metadata": {},
   "source": [
    "## (1) Data comes in many forms! \n",
    "\n",
    "- Build a numpy array called `exams` from the string below. \n",
    "- There are three students (rows) and their five exam scores (columns). \n",
    "- String methods such as `.split()` will come in handy. \n",
    "- You will also want to pay attention to object types: string vs. integer\n"
   ]
  },
  {
   "cell_type": "code",
   "execution_count": 1,
   "metadata": {},
   "outputs": [
    {
     "name": "stdout",
     "output_type": "stream",
     "text": [
      "lisa: 90, 99, 100, 95, 95\n",
      "bart: 70, 82, 65, 53, 77\n",
      "nelson: 80, 85, 85, 88, 84\n",
      "\n"
     ]
    },
    {
     "data": {
      "text/plain": [
       "'lisa: 90, 99, 100, 95, 95\\nbart: 70, 82, 65, 53, 77\\nnelson: 80, 85, 85, 88, 84\\n'"
      ]
     },
     "execution_count": 1,
     "metadata": {},
     "output_type": "execute_result"
    }
   ],
   "source": [
    "teacher_notes = \"\"\"lisa: 90, 99, 100, 95, 95\n",
    "bart: 70, 82, 65, 53, 77\n",
    "nelson: 80, 85, 85, 88, 84\n",
    "\"\"\"\n",
    "print(teacher_notes)\n",
    "teacher_notes"
   ]
  },
  {
   "cell_type": "code",
   "execution_count": 2,
   "metadata": {},
   "outputs": [
    {
     "name": "stdout",
     "output_type": "stream",
     "text": [
      "[[90, 99, 100, 95, 95], [70, 82, 65, 53, 77], [80, 85, 85, 88, 84]]\n"
     ]
    },
    {
     "data": {
      "text/plain": [
       "array([[ 90,  99, 100,  95,  95],\n",
       "       [ 70,  82,  65,  53,  77],\n",
       "       [ 80,  85,  85,  88,  84]])"
      ]
     },
     "execution_count": 2,
     "metadata": {},
     "output_type": "execute_result"
    }
   ],
   "source": [
    "lists = []           # initialize an empty list, will populate later\n",
    "\n",
    "for l in teacher_notes.strip().split('\\n'):   # get rid of last '\\n' and split\n",
    "    scores = l.replace(':', \",\").split(', ')  # change : to , and split\n",
    "    #print(scores)\n",
    "    numbers = [int(x) for x in scores[1:]]    # drop 1st entry (name), integerfy\n",
    "    #print(numbers)\n",
    "    lists.append(numbers)                     # put into lists               \n",
    "\n",
    "print(lists)    # print lists, looks good\n",
    "lists           # does nothing, only last object evaluated will be returned as Out[]\n",
    "\n",
    "import numpy as np\n",
    "exams = np.array(lists)\n",
    "exams                       # success!"
   ]
  },
  {
   "cell_type": "markdown",
   "metadata": {},
   "source": [
    "## (2) Accessing `exams` numpy array\n",
    "- Get Bart's exam scores\n",
    "- Get Nelson's exam scores\n",
    "- Get Lisa's 3rd exam score\n",
    "- Get Lisa's exam scores, without the last one\n",
    "- Get Bart's and Nelson's exam scores"
   ]
  },
  {
   "cell_type": "code",
   "execution_count": 3,
   "metadata": {},
   "outputs": [
    {
     "data": {
      "text/plain": [
       "array([[70, 82, 65, 53, 77],\n",
       "       [80, 85, 85, 88, 84]])"
      ]
     },
     "execution_count": 3,
     "metadata": {},
     "output_type": "execute_result"
    }
   ],
   "source": [
    "# Note: again, only the very last line will be returned as an output. \n",
    "# Everything above will need to be passed to print() in order to show up. \n",
    "\n",
    "exams[1]               # Bart\n",
    "exams[-1]              # Nelson, same as exams[2]\n",
    "exams[0, 2]         # Lisa's 3rd exam\n",
    "exams[0, :-1]       # same as exams[0, :4]\n",
    "exams[[1,2], :]     # same as exams[1:, :]"
   ]
  },
  {
   "cell_type": "markdown",
   "metadata": {},
   "source": [
    "## (3) Statistics with `numpy`\n",
    "- What is Lisa's exam average? What is Bart's?\n",
    "- What is Lisa's maximum exam score? Minimum?\n",
    "- What is the total of Lisa's exam scores?\n",
    "- What is the average of the last exam? \n",
    "- What is the average of each student? (Use `for` loop!)"
   ]
  },
  {
   "cell_type": "code",
   "execution_count": 4,
   "metadata": {},
   "outputs": [
    {
     "name": "stdout",
     "output_type": "stream",
     "text": [
      "[ 90  99 100  95  95] 95.8\n",
      "[70 82 65 53 77] 69.4\n",
      "[80 85 85 88 84] 84.4\n"
     ]
    }
   ],
   "source": [
    "exams[0].sum()      # faster!\n",
    "sum(exams[0])       # same, but slower\n",
    "\n",
    "exams[0].max(), exams[0].min()\n",
    "\n",
    "exams[:, -1].mean()\n",
    "\n",
    "for x in exams:\n",
    "    print(x, x.mean())"
   ]
  },
  {
   "cell_type": "markdown",
   "metadata": {},
   "source": [
    "## (4) Manipulating an array\n",
    "- Teacher is having a good day. She decides to boost every exam score by 5. \n",
    "- Teacher is having a bad day. She takes 10 points off of everyone's last exam. \n",
    "- Teacher is having an even worse day. She decides to assign 0 to everyone's last exam. \n",
    "\n",
    "** Pay attention to the original `exams` array. Is it changing, or are you creating a new array?"
   ]
  },
  {
   "cell_type": "code",
   "execution_count": 5,
   "metadata": {},
   "outputs": [
    {
     "name": "stdout",
     "output_type": "stream",
     "text": [
      "[[ 90  99 100  95  95]\n",
      " [ 70  82  65  53  77]\n",
      " [ 80  85  85  88  84]]\n",
      "[[ 90  99 100  95  85]\n",
      " [ 70  82  65  53  67]\n",
      " [ 80  85  85  88  74]]\n",
      "[[ 90  99 100  95   0]\n",
      " [ 70  82  65  53   0]\n",
      " [ 80  85  85  88   0]]\n"
     ]
    }
   ],
   "source": [
    "exams + 5  # returns a new array, original array not changed\n",
    "print(exams)\n",
    "\n",
    "exams[:, -1] -= 10   # NOW this changes the exams array\n",
    "print(exams)\n",
    "\n",
    "exams[:, -1] = 0     # likewise\n",
    "print(exams)"
   ]
  },
  {
   "cell_type": "markdown",
   "metadata": {},
   "source": [
    "## (5) Adding to existing array\n",
    "- Oops, teacher forgot about Milhouse's exam scores. \n",
    "- How to add them into `exams`?\n",
    "- Hint: use `np.append()`"
   ]
  },
  {
   "cell_type": "code",
   "execution_count": 6,
   "metadata": {},
   "outputs": [
    {
     "data": {
      "text/plain": [
       "array([ 90,  99, 100,  95,   0,  70,  82,  65,  53,   0,  80,  85,  85,\n",
       "        88,   0,  85,  90,  90,  70,  55])"
      ]
     },
     "execution_count": 6,
     "metadata": {},
     "output_type": "execute_result"
    }
   ],
   "source": [
    "milhouse = [85, 90, 90, 70, 55]\n",
    "np.append(exams, milhouse)      # nope, does not work. array flattened"
   ]
  },
  {
   "cell_type": "code",
   "execution_count": 7,
   "metadata": {},
   "outputs": [
    {
     "name": "stdout",
     "output_type": "stream",
     "text": [
      "Help on function append in module numpy.lib.function_base:\n",
      "\n",
      "append(arr, values, axis=None)\n",
      "    Append values to the end of an array.\n",
      "    \n",
      "    Parameters\n",
      "    ----------\n",
      "    arr : array_like\n",
      "        Values are appended to a copy of this array.\n",
      "    values : array_like\n",
      "        These values are appended to a copy of `arr`.  It must be of the\n",
      "        correct shape (the same shape as `arr`, excluding `axis`).  If\n",
      "        `axis` is not specified, `values` can be any shape and will be\n",
      "        flattened before use.\n",
      "    axis : int, optional\n",
      "        The axis along which `values` are appended.  If `axis` is not\n",
      "        given, both `arr` and `values` are flattened before use.\n",
      "    \n",
      "    Returns\n",
      "    -------\n",
      "    append : ndarray\n",
      "        A copy of `arr` with `values` appended to `axis`.  Note that\n",
      "        `append` does not occur in-place: a new array is allocated and\n",
      "        filled.  If `axis` is None, `out` is a flattened array.\n",
      "    \n",
      "    See Also\n",
      "    --------\n",
      "    insert : Insert elements into an array.\n",
      "    delete : Delete elements from an array.\n",
      "    \n",
      "    Examples\n",
      "    --------\n",
      "    >>> np.append([1, 2, 3], [[4, 5, 6], [7, 8, 9]])\n",
      "    array([1, 2, 3, 4, 5, 6, 7, 8, 9])\n",
      "    \n",
      "    When `axis` is specified, `values` must have the correct shape.\n",
      "    \n",
      "    >>> np.append([[1, 2, 3], [4, 5, 6]], [[7, 8, 9]], axis=0)\n",
      "    array([[1, 2, 3],\n",
      "           [4, 5, 6],\n",
      "           [7, 8, 9]])\n",
      "    >>> np.append([[1, 2, 3], [4, 5, 6]], [7, 8, 9], axis=0)\n",
      "    Traceback (most recent call last):\n",
      "    ...\n",
      "    ValueError: arrays must have same number of dimensions\n",
      "\n"
     ]
    }
   ],
   "source": [
    "help(np.append)     # let's find out how this method works"
   ]
  },
  {
   "cell_type": "code",
   "execution_count": 8,
   "metadata": {},
   "outputs": [
    {
     "data": {
      "text/plain": [
       "array([[ 90,  99, 100,  95,   0],\n",
       "       [ 70,  82,  65,  53,   0],\n",
       "       [ 80,  85,  85,  88,   0],\n",
       "       [ 85,  90,  90,  70,  55]])"
      ]
     },
     "execution_count": 8,
     "metadata": {},
     "output_type": "execute_result"
    }
   ],
   "source": [
    "# Ah, so milhouse should be turned into a two-dimensional array, and axis must be specified\n",
    "np.append(exams, [milhouse], axis=0)        # SUCCESS! "
   ]
  },
  {
   "cell_type": "code",
   "execution_count": 9,
   "metadata": {},
   "outputs": [
    {
     "data": {
      "text/plain": [
       "array([[ 90,  99, 100,  95,   0],\n",
       "       [ 70,  82,  65,  53,   0],\n",
       "       [ 80,  85,  85,  88,   0],\n",
       "       [ 85,  90,  90,  70,  55]])"
      ]
     },
     "execution_count": 9,
     "metadata": {},
     "output_type": "execute_result"
    }
   ],
   "source": [
    "exams = np.append(exams, [milhouse], axis=0)   # append permanently\n",
    "exams"
   ]
  },
  {
   "cell_type": "markdown",
   "metadata": {},
   "source": [
    "## (6) Transforming content\n",
    "- Teacher wants to convert numeric scores to letter grades. \n",
    "- First, build a function called `letter_grade()` which takes a numeric score and returns 'A', 'B', 'C', 'D', or 'F'. \n",
    "- Then, apply this function to each element in `exam`. (Hint: use `numpy.vectorize()`)"
   ]
  },
  {
   "cell_type": "code",
   "execution_count": 10,
   "metadata": {
    "collapsed": true
   },
   "outputs": [],
   "source": [
    "def letter_grade(score):\n",
    "    if score >=90: return 'A'\n",
    "    elif score >=80: return 'B'\n",
    "    elif score >=70: return 'C'\n",
    "    elif score >=60: return 'D'\n",
    "    else: return 'F'"
   ]
  },
  {
   "cell_type": "code",
   "execution_count": 11,
   "metadata": {},
   "outputs": [
    {
     "data": {
      "text/plain": [
       "'B'"
      ]
     },
     "execution_count": 11,
     "metadata": {},
     "output_type": "execute_result"
    }
   ],
   "source": [
    "letter_grade(87)     # works! "
   ]
  },
  {
   "cell_type": "code",
   "execution_count": 12,
   "metadata": {},
   "outputs": [
    {
     "ename": "ValueError",
     "evalue": "The truth value of an array with more than one element is ambiguous. Use a.any() or a.all()",
     "output_type": "error",
     "traceback": [
      "\u001b[1;31m---------------------------------------------------------------------------\u001b[0m",
      "\u001b[1;31mValueError\u001b[0m                                Traceback (most recent call last)",
      "\u001b[1;32m<ipython-input-12-66b24aa7e626>\u001b[0m in \u001b[0;36m<module>\u001b[1;34m()\u001b[0m\n\u001b[1;32m----> 1\u001b[1;33m \u001b[0mletter_grade\u001b[0m\u001b[1;33m(\u001b[0m\u001b[0mexams\u001b[0m\u001b[1;33m)\u001b[0m  \u001b[1;31m# Nope. function is not array-aware.\u001b[0m\u001b[1;33m\u001b[0m\u001b[0m\n\u001b[0m",
      "\u001b[1;32m<ipython-input-10-58742011c827>\u001b[0m in \u001b[0;36mletter_grade\u001b[1;34m(score)\u001b[0m\n\u001b[0;32m      1\u001b[0m \u001b[1;32mdef\u001b[0m \u001b[0mletter_grade\u001b[0m\u001b[1;33m(\u001b[0m\u001b[0mscore\u001b[0m\u001b[1;33m)\u001b[0m\u001b[1;33m:\u001b[0m\u001b[1;33m\u001b[0m\u001b[0m\n\u001b[1;32m----> 2\u001b[1;33m     \u001b[1;32mif\u001b[0m \u001b[0mscore\u001b[0m \u001b[1;33m>=\u001b[0m\u001b[1;36m90\u001b[0m\u001b[1;33m:\u001b[0m \u001b[1;32mreturn\u001b[0m \u001b[1;34m'A'\u001b[0m\u001b[1;33m\u001b[0m\u001b[0m\n\u001b[0m\u001b[0;32m      3\u001b[0m     \u001b[1;32melif\u001b[0m \u001b[0mscore\u001b[0m \u001b[1;33m>=\u001b[0m\u001b[1;36m80\u001b[0m\u001b[1;33m:\u001b[0m \u001b[1;32mreturn\u001b[0m \u001b[1;34m'B'\u001b[0m\u001b[1;33m\u001b[0m\u001b[0m\n\u001b[0;32m      4\u001b[0m     \u001b[1;32melif\u001b[0m \u001b[0mscore\u001b[0m \u001b[1;33m>=\u001b[0m\u001b[1;36m70\u001b[0m\u001b[1;33m:\u001b[0m \u001b[1;32mreturn\u001b[0m \u001b[1;34m'C'\u001b[0m\u001b[1;33m\u001b[0m\u001b[0m\n\u001b[0;32m      5\u001b[0m     \u001b[1;32melif\u001b[0m \u001b[0mscore\u001b[0m \u001b[1;33m>=\u001b[0m\u001b[1;36m60\u001b[0m\u001b[1;33m:\u001b[0m \u001b[1;32mreturn\u001b[0m \u001b[1;34m'D'\u001b[0m\u001b[1;33m\u001b[0m\u001b[0m\n",
      "\u001b[1;31mValueError\u001b[0m: The truth value of an array with more than one element is ambiguous. Use a.any() or a.all()"
     ]
    }
   ],
   "source": [
    "letter_grade(exams)  # Nope. function is not array-aware."
   ]
  },
  {
   "cell_type": "code",
   "execution_count": 13,
   "metadata": {},
   "outputs": [
    {
     "data": {
      "text/plain": [
       "array([['A', 'A', 'A', 'A', 'F'],\n",
       "       ['C', 'B', 'D', 'F', 'F'],\n",
       "       ['B', 'B', 'B', 'B', 'F'],\n",
       "       ['B', 'A', 'A', 'C', 'F']],\n",
       "      dtype='<U1')"
      ]
     },
     "execution_count": 13,
     "metadata": {},
     "output_type": "execute_result"
    }
   ],
   "source": [
    "# Build a vectorized version of the function, which can operate on an array\n",
    "letter_grade_vec = np.vectorize(letter_grade)\n",
    "\n",
    "# Now this function can accept an array as input\n",
    "letter_grade_vec(exams)"
   ]
  },
  {
   "cell_type": "code",
   "execution_count": null,
   "metadata": {
    "collapsed": true
   },
   "outputs": [],
   "source": []
  }
 ],
 "metadata": {
  "kernelspec": {
   "display_name": "Python 3",
   "language": "python",
   "name": "python3"
  },
  "language_info": {
   "codemirror_mode": {
    "name": "ipython",
    "version": 3
   },
   "file_extension": ".py",
   "mimetype": "text/x-python",
   "name": "python",
   "nbconvert_exporter": "python",
   "pygments_lexer": "ipython3",
   "version": "3.5.3"
  }
 },
 "nbformat": 4,
 "nbformat_minor": 2
}
