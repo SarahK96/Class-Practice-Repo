{
 "cells": [
  {
   "cell_type": "markdown",
   "metadata": {},
   "source": [
    "Alicia Sigmon\n",
    "als333@pitt.edu\n",
    "9/6/2017"
   ]
  },
  {
   "cell_type": "markdown",
   "metadata": {},
   "source": [
    "# Data Camp Notes\n",
    " - Python can't do calculations on lists, so we need numpy\n",
    " - numpy arrays must contain 1 type\n",
    " - a numpy array is it's own type"
   ]
  },
  {
   "cell_type": "markdown",
   "metadata": {},
   "source": [
    "# Baseball BMI Example:"
   ]
  },
  {
   "cell_type": "code",
   "execution_count": 2,
   "metadata": {},
   "outputs": [
    {
     "name": "stdout",
     "output_type": "stream",
     "text": [
      "Height (meters): [ 1.778   1.905   2.0066  2.032 ]\n",
      "Weight (kg): [ 68.0388   81.64656  63.50288  86.18248]\n",
      "Boolean Array of BMI < 21: [False False  True  True]\n",
      "BMI < 21: [ 15.77145664  20.87236112]\n"
     ]
    }
   ],
   "source": [
    "#pip3 install numpy\n",
    "import numpy as np\n",
    "\n",
    "# Create a numpy array from height: np_height\n",
    "np_height = np.array([70,75,79,80])\n",
    "\n",
    "# Convert np_heig<21ht to m: np_height_m\n",
    "np_height_m=np_height*.0254\n",
    "\n",
    "# Print np_height_m\n",
    "print(\"Height (meters): \"+str(np_height_m))\n",
    "\n",
    "# Write / Print np_weight_kg\n",
    "np_weight_kg = np.array([150,180,140,190])*.453592\n",
    "print(\"Weight (kg): \"+str(np_weight_kg))\n",
    "\n",
    "# Calc. BMI\n",
    "bmi=np_weight_kg / np_height_m **2\n",
    "\n",
    "# Write / Print array of people with BMI < 21\n",
    "light = np.array(bmi<21)\n",
    "print(\"Boolean Array of BMI < 21:\",str(light))\n",
    "\n",
    "# Print BMI's of the people with BMI < 21\n",
    "print(\"BMI < 21:\", str(bmi[light]))\n"
   ]
  },
  {
   "cell_type": "code",
   "execution_count": 3,
   "metadata": {},
   "outputs": [
    {
     "name": "stdout",
     "output_type": "stream",
     "text": [
      "[4 5 2]\n",
      "[4 5 2]\n"
     ]
    }
   ],
   "source": [
    "# True converts to the integer 1, and False convets to the integer \n",
    "print(np.array([True, 1, 2]) + np.array([3, 4, False]))\n",
    "print(np.array([4, 3, 0]) + np.array([0, 2, 2]))"
   ]
  },
  {
   "cell_type": "markdown",
   "metadata": {},
   "source": [
    "# 2D NumPy Arrays\n",
    " - can still only have 1 type\n",
    " - if you make one position a string, all become strings"
   ]
  },
  {
   "cell_type": "code",
   "execution_count": 4,
   "metadata": {},
   "outputs": [
    {
     "name": "stdout",
     "output_type": "stream",
     "text": [
      "[[1 2 3]\n",
      " [4 5 6]]\n",
      "(2, 3)\n",
      "[['1' '2' '3']\n",
      " ['4' '5' '6']]\n",
      "(2, 3)\n"
     ]
    }
   ],
   "source": [
    "np_2d = np.array([[1,2,3],\n",
    "                [4,5,6]])\n",
    "print(np_2d)\n",
    "print(np_2d.shape)\n",
    "\n",
    "np_2d_str = np.array([[1,2,3],\n",
    "                [4,5,\"6\"]])\n",
    "print(np_2d_str)\n",
    "print(np_2d_str.shape)"
   ]
  },
  {
   "cell_type": "markdown",
   "metadata": {},
   "source": [
    "# Baseball: 2D NumPy"
   ]
  },
  {
   "cell_type": "code",
   "execution_count": 5,
   "metadata": {},
   "outputs": [
    {
     "name": "stdout",
     "output_type": "stream",
     "text": [
      "<class 'numpy.ndarray'>\n",
      "(4, 2)\n",
      "[ 215.   102.7]\n",
      "[  78.4  102.7   98.5   75.2]\n",
      "188.0\n"
     ]
    }
   ],
   "source": [
    "# Create baseball, a list of lists\n",
    "baseball = [[180, 78.4],\n",
    "            [215, 102.7],\n",
    "            [210, 98.5],\n",
    "            [188, 75.2]]\n",
    "\n",
    "# Already imported numpy as np\n",
    "\n",
    "# Create a 2D numpy array from baseball: np_baseball\n",
    "np_baseball = np.array(baseball)\n",
    "\n",
    "# Print out the type of np_baseball\n",
    "print(type(np_baseball))\n",
    "\n",
    "# Print out the shape of np_baseball\n",
    "print(np_baseball.shape)\n",
    "\n",
    "# Print out the 2nd row of np_baseball\n",
    "# This is one player's height and weight\n",
    "print(np_baseball[1])\n",
    "\n",
    "# Select the entire second column of np_baseball\n",
    "    # This is the players' weights: np_weight\n",
    "    # All of the rows, only the 2nd column\n",
    "np_weight=np_baseball[:,1]\n",
    "\n",
    "print(np_weight)\n",
    "\n",
    "# Print out height of the 4th player\n",
    "print(np_baseball[3,0])\n",
    "\n",
    "# Create np_height from np_baseball\n",
    "    # All of the rows, only the 1st column\n",
    "np_height=np_baseball[:,0]"
   ]
  },
  {
   "cell_type": "code",
   "execution_count": 6,
   "metadata": {},
   "outputs": [
    {
     "name": "stdout",
     "output_type": "stream",
     "text": [
      "np_mat*2 :\n",
      "[[ 2  4]\n",
      " [ 6  8]\n",
      " [10 12]]\n",
      "np_mat + np.array([10,10])\n",
      "[[11 12]\n",
      " [13 14]\n",
      " [15 16]]\n",
      "np_mat + np_mat\n",
      "[[ 2  4]\n",
      " [ 6  8]\n",
      " [10 12]]\n"
     ]
    }
   ],
   "source": [
    "np_mat = np.array([[1, 2],\n",
    "                   [3, 4],\n",
    "                   [5, 6]])\n",
    "print(\"np_mat*2 :\")\n",
    "print(np_mat * 2)\n",
    "\n",
    "print(\"np_mat + np.array([10,10])\")\n",
    "print(np_mat + np.array([10,10]))\n",
    "\n",
    "print(\"np_mat + np_mat\")\n",
    "print(np_mat + np_mat)"
   ]
  },
  {
   "cell_type": "markdown",
   "metadata": {},
   "source": [
    "I believe the above example shows the following:\n",
    "- np_mat does not change the original unless you set it equal to a new variable\n",
    "- when you perform actions, it adds within each cell\n",
    "        "
   ]
  },
  {
   "cell_type": "markdown",
   "metadata": {},
   "source": [
    "# Statistics with NumPy"
   ]
  },
  {
   "cell_type": "code",
   "execution_count": 7,
   "metadata": {},
   "outputs": [
    {
     "name": "stdout",
     "output_type": "stream",
     "text": [
      "Average: 198.25\n",
      "Median: 199.0\n",
      "Standard Deviation: 14.6351460533\n",
      "Correlation: [[ 1.          0.95865738]\n",
      " [ 0.95865738  1.        ]]\n"
     ]
    }
   ],
   "source": [
    "# Print out the mean of np_height\n",
    "avg=np.mean(np_height)\n",
    "print(\"Average:\",np.mean(np_height))\n",
    "\n",
    "# Print out the median of np_height\n",
    "med =np.median(np_height) \n",
    "print(\"Median:\",np.median(np_height))\n",
    "\n",
    "# Print the standard deviation of np_height\n",
    "stddev = np.std(np_height)\n",
    "print(\"Standard Deviation: \" + str(stddev))\n",
    "\n",
    "# Print the correlation between the weight and height.\n",
    "    # this can be done by looking at our 1D arrays\n",
    "    # or by slicing from the 2D arrays again\n",
    "corr = np.corrcoef(np_height,np_weight)\n",
    "#corr = np.corrcoef(np_baseball[:,0],np_baseball[:,1])\n",
    "print(\"Correlation: \" + str(corr))\n"
   ]
  },
  {
   "cell_type": "code",
   "execution_count": 8,
   "metadata": {},
   "outputs": [
    {
     "name": "stdout",
     "output_type": "stream",
     "text": [
      "[[ 180.    78.4]\n",
      " [ 210.    98.5]\n",
      " [ 188.    75.2]]\n"
     ]
    }
   ],
   "source": [
    "# You can index by the columns\n",
    "shorter = np_baseball[np_weight!=102.7]\n",
    "print(shorter)\n",
    "\n",
    "# In the Data Camp tutorial, positions was an additional column\n",
    "# so they found the heights and weights of all Goal Keepers \n",
    "# and then looked for the median"
   ]
  }
 ],
 "metadata": {
  "kernelspec": {
   "display_name": "Python 3",
   "language": "python",
   "name": "python3"
  },
  "language_info": {
   "codemirror_mode": {
    "name": "ipython",
    "version": 3
   },
   "file_extension": ".py",
   "mimetype": "text/x-python",
   "name": "python",
   "nbconvert_exporter": "python",
   "pygments_lexer": "ipython3",
   "version": "3.6.1"
  }
 },
 "nbformat": 4,
 "nbformat_minor": 2
}
