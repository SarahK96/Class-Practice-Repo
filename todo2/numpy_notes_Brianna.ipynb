{
 "cells": [
  {
   "cell_type": "markdown",
   "metadata": {},
   "source": [
    "##### Note: DataCamp slides are saved to computer! Notes written on slides."
   ]
  },
  {
   "cell_type": "markdown",
   "metadata": {},
   "source": [
    "# Chapter 2 - Intro to NumPy\n",
    "\n",
    "- NumPy = Numerical Python\n",
    "    - provides interface to store & efficiently operate w/(huge amounts of) data\n",
    "    \n",
    "[NumPy website](http://www.numpy.org)"
   ]
  },
  {
   "cell_type": "code",
   "execution_count": 1,
   "metadata": {},
   "outputs": [
    {
     "data": {
      "text/plain": [
       "'1.12.1'"
      ]
     },
     "execution_count": 1,
     "metadata": {},
     "output_type": "execute_result"
    }
   ],
   "source": [
    "import numpy as np        # import numpy\n",
    "np.__version__        # check verison of numpy\n",
    "#np?        # display built-in documentation"
   ]
  },
  {
   "cell_type": "markdown",
   "metadata": {},
   "source": [
    "## Understanding Data Types in Python\n",
    "### Integers\n",
    "- head contains reference count, type code, size\n",
    "    - reference count --> helps Python handle memory allocation\n",
    "    - type code --> encode variable type\n",
    "    - size --> specifies size of data members\n",
    "- digit --> contains actual integer values we expect var to represent\n",
    "\n",
    "### Lists\n",
    "- Python can have lists of all same type or of mixed type\n",
    "- to allow mixed type lists, each item has to be its own complete item\n",
    "    - each item has to have type info, ref count, etc.\n",
    "        - redundant if single type variable, takes too much space\n",
    "- if list is of single type, it;s more efficient to store data in fixed-type array\n",
    "    - this is a NumPy-style array\n",
    "\n",
    "#### Fixed-Type Arrays in Python"
   ]
  }
 ],
 "metadata": {
  "kernelspec": {
   "display_name": "Python 3",
   "language": "python",
   "name": "python3"
  },
  "language_info": {
   "codemirror_mode": {
    "name": "ipython",
    "version": 3
   },
   "file_extension": ".py",
   "mimetype": "text/x-python",
   "name": "python",
   "nbconvert_exporter": "python",
   "pygments_lexer": "ipython3",
   "version": "3.6.1"
  }
 },
 "nbformat": 4,
 "nbformat_minor": 2
}
