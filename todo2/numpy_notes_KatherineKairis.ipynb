{
 "cells": [
  {
   "cell_type": "markdown",
   "metadata": {},
   "source": [
    "###### Katherine Kairis, kak275@pitt.edu, 9/7/2017"
   ]
  },
  {
   "cell_type": "code",
   "execution_count": 1,
   "metadata": {
    "collapsed": true
   },
   "outputs": [],
   "source": [
    "import numpy as np"
   ]
  },
  {
   "cell_type": "markdown",
   "metadata": {},
   "source": [
    "## List vs. Fixed-type array in Python"
   ]
  },
  {
   "cell_type": "code",
   "execution_count": 2,
   "metadata": {},
   "outputs": [
    {
     "name": "stdout",
     "output_type": "stream",
     "text": [
      "<class 'int'>\n",
      "<class 'float'>\n",
      "<class 'str'>\n",
      "<class 'int'>\n",
      "<class 'float'>\n",
      "<class 'str'>\n",
      "<class 'int'>\n",
      "<class 'float'>\n",
      "<class 'str'>\n"
     ]
    }
   ],
   "source": [
    "flexible = [1, 1.0, 'one', 2, 2.0, 'two', 3, 3.0, 'three']\n",
    "for i in flexible:\n",
    "    print(type(i))"
   ]
  },
  {
   "cell_type": "code",
   "execution_count": 3,
   "metadata": {},
   "outputs": [
    {
     "name": "stdout",
     "output_type": "stream",
     "text": [
      "<class 'int'>\n",
      "<class 'int'>\n",
      "<class 'int'>\n",
      "<class 'int'>\n",
      "<class 'int'>\n",
      "<class 'int'>\n",
      "<class 'int'>\n",
      "<class 'int'>\n",
      "<class 'int'>\n",
      "<class 'int'>\n"
     ]
    }
   ],
   "source": [
    "import array\n",
    "L = [1, 2, 3, 4, 5, 6, 7, 8, 9, 10]\n",
    "fixed = array.array('i', L)  #'i' = type encoding for integer\n",
    "\n",
    "for i in fixed:\n",
    "    print(type(i))"
   ]
  },
  {
   "cell_type": "markdown",
   "metadata": {},
   "source": [
    "## Arrays in Numpy (decsribe multi-dimensional arrays here, too)\n",
    "Part of the NumPy package is an array object. Like the Python array, all of the elements in the Numpy array must be of the same data type. NumPy improves upon Python's array by adding efficient operations that can be performed upon NumPy arrays."
   ]
  },
  {
   "cell_type": "markdown",
   "metadata": {},
   "source": [
    "### Creating NumPy arrays"
   ]
  },
  {
   "cell_type": "markdown",
   "metadata": {},
   "source": [
    "#### Converting lists to NumPy arrays"
   ]
  },
  {
   "cell_type": "code",
   "execution_count": 4,
   "metadata": {},
   "outputs": [
    {
     "data": {
      "text/plain": [
       "array([1, 2, 3, 4, 5])"
      ]
     },
     "execution_count": 4,
     "metadata": {},
     "output_type": "execute_result"
    }
   ],
   "source": [
    "#Convert a Python list to a NumPy array\n",
    "np.array([1, 2, 3 ,4, 5])"
   ]
  },
  {
   "cell_type": "code",
   "execution_count": 5,
   "metadata": {},
   "outputs": [
    {
     "data": {
      "text/plain": [
       "array([ 1. ,  1.5,  2. ,  2.5,  3. ,  3.5,  4. ,  4.5,  5. ])"
      ]
     },
     "execution_count": 5,
     "metadata": {},
     "output_type": "execute_result"
    }
   ],
   "source": [
    "#All of the elements in the array must be of the same data type.\n",
    "#If a list contains elements that are of different data types, the NumPy array will convert all of the elements\n",
    "#to the higher data type, if possible. (In a list of integers and floating points, all of the elements in the\n",
    "#array will be converted to floating points).\n",
    "np.array([1, 1.5, 2, 2.5, 3, 3.5, 4, 4.5, 5])"
   ]
  },
  {
   "cell_type": "code",
   "execution_count": 6,
   "metadata": {},
   "outputs": [
    {
     "data": {
      "text/plain": [
       "array([ 1.,  2.,  3.,  4.,  5.,  6.,  7.], dtype=float32)"
      ]
     },
     "execution_count": 6,
     "metadata": {},
     "output_type": "execute_result"
    }
   ],
   "source": [
    "#Can use the dtype keyword to specify data type\n",
    "np.array([1, 2, 3, 4, 5, 6, 7], dtype='float32')"
   ]
  },
  {
   "cell_type": "markdown",
   "metadata": {},
   "source": [
    "#### Other ways to initialize arrays\n",
    "1. np.zeros(array_dimensions): create an array of the specified size whose elements are all zeros\n",
    "2. np.ones(array_dimensions): create an array of the specified size whose elements are all ones\n",
    "3. np.full(array_dimensions, element): create an array filled with a specified element\n",
    "4. np.arange(start, end): create an array containing every value between start (inclusive) and end (exclusive)\n",
    "5. np.arange(start, end, n): create an array containing every nth value between start (inclusive) and end (exclusive)\n",
    "    * n represents an interval\n",
    "6. np.linspace(start, end, n): create an array with n equally-spaced values between start (inclusive) and end (exclusive)\n",
    "    * n represents the number of elements in the array"
   ]
  },
  {
   "cell_type": "code",
   "execution_count": 7,
   "metadata": {},
   "outputs": [
    {
     "name": "stdout",
     "output_type": "stream",
     "text": [
      "Array 1:\n",
      "[0 0 0 0 0]\n",
      "\n",
      "Array 2:\n",
      "[[ 0.  0.]\n",
      " [ 0.  0.]]\n"
     ]
    }
   ],
   "source": [
    "#Create a 5-element array of all zeros using np.zeros()\n",
    "print('Array 1:')\n",
    "print(np.zeros(5, dtype = int))\n",
    "\n",
    "#Create a 2x2 (4-element) array of all zeros using np.zeros()\n",
    "print('\\nArray 2:')\n",
    "print(np.zeros((2,2)))"
   ]
  },
  {
   "cell_type": "code",
   "execution_count": 8,
   "metadata": {},
   "outputs": [
    {
     "name": "stdout",
     "output_type": "stream",
     "text": [
      "Array 1:\n",
      "[1 1 1 1 1]\n",
      "\n",
      "Array 2:\n",
      "[[ 1.  1.  1.  1.  1.]\n",
      " [ 1.  1.  1.  1.  1.]\n",
      " [ 1.  1.  1.  1.  1.]]\n"
     ]
    }
   ],
   "source": [
    "#Create a 5-element array of all ones using np.ones()\n",
    "print('Array 1:')\n",
    "print(np.ones(5, dtype = int))\n",
    "\n",
    "#Create a 3x5 array of all ones using np.ones()\n",
    "print('\\nArray 2:')\n",
    "print(np.ones((3,5)))"
   ]
  },
  {
   "cell_type": "code",
   "execution_count": 9,
   "metadata": {},
   "outputs": [
    {
     "name": "stdout",
     "output_type": "stream",
     "text": [
      "Array 1:\n",
      "[ 7.89  7.89  7.89  7.89  7.89  7.89  7.89  7.89  7.89  7.89]\n",
      "\n",
      "Array 2:\n",
      "[[4 4 4]\n",
      " [4 4 4]]\n"
     ]
    }
   ],
   "source": [
    "#Create a 10-element array, where all 10 elements are 7.89\n",
    "print('Array 1:')\n",
    "print(np.full(10, 7.89))\n",
    "\n",
    "#Create a 2x3 array, where all elements are 4\n",
    "print('\\nArray 2:')\n",
    "print(np.full((2, 3), 4))"
   ]
  },
  {
   "cell_type": "code",
   "execution_count": 10,
   "metadata": {},
   "outputs": [
    {
     "name": "stdout",
     "output_type": "stream",
     "text": [
      "Array 1:\n",
      "[0 1 2 3 4 5 6 7 8 9]\n",
      "\n",
      "Array 2:\n",
      "[50 55 60 65 70 75 80 85 90 95]\n",
      "\n",
      "Array 3:\n",
      "[ 0  3  6  9 12 15 18]\n"
     ]
    }
   ],
   "source": [
    "#Create an array whose elements are every number from 0(inclusive) to 10(exclusive)\n",
    "print('Array 1:')\n",
    "print(np.arange(0, 10))\n",
    "\n",
    "#Create an array whose elements are every 5th number from 50(inclusive) to 100(exclusive)\n",
    "print('\\nArray 2:')\n",
    "print(np.arange(50, 100, 5))\n",
    "\n",
    "#Create an array whose elements are every 3rd number from 0(inclusive) to 20(exclusive)\n",
    "print('\\nArray 3:')\n",
    "print(np.arange(0, 20, 3))\n"
   ]
  },
  {
   "cell_type": "code",
   "execution_count": 11,
   "metadata": {},
   "outputs": [
    {
     "name": "stdout",
     "output_type": "stream",
     "text": [
      "Array 1:\n",
      "[   0.   50.  100.]\n",
      "\n",
      "Array 2:\n",
      "[   0.           33.33333333   66.66666667  100.        ]\n",
      "\n",
      "Array 3:\n",
      "[   0.   25.   50.   75.  100.]\n"
     ]
    }
   ],
   "source": [
    "#Create an array filled with a linear sequence\n",
    "#Create an array with three equally spaced elements between 0(inclusive) and 100(exclusive)\n",
    "print('Array 1:')\n",
    "print(np.linspace(0, 100, 3))\n",
    "\n",
    "#Create an array with four equally spaced elements between 0(inclusive) and 100(exclusive)\n",
    "print('\\nArray 2:')\n",
    "print(np.linspace(0, 100, 4))\n",
    "\n",
    "#Create an array with five equally spaced elements between 0(inclusive) and 100(exclusive)\n",
    "print('\\nArray 3:')\n",
    "print(np.linspace(0, 100, 5))"
   ]
  },
  {
   "cell_type": "code",
   "execution_count": 12,
   "metadata": {},
   "outputs": [
    {
     "name": "stdout",
     "output_type": "stream",
     "text": [
      "np.arange:\n",
      "[0]\n",
      "\n",
      "np.linspace:\n",
      "[ 0.    0.25  0.5   0.75  1.  ]\n"
     ]
    }
   ],
   "source": [
    "#np.arange() vs. np.linspace()\n",
    "#arange() specifies the interval/distance between elements. linspace() specifies the number of elements in the array\n",
    "print('np.arange:')\n",
    "print(np.arange(0, 1, 5))\n",
    "\n",
    "print('\\nnp.linspace:')\n",
    "print(np.linspace(0, 1, 5))"
   ]
  },
  {
   "cell_type": "code",
   "execution_count": 13,
   "metadata": {},
   "outputs": [
    {
     "name": "stdout",
     "output_type": "stream",
     "text": [
      "[[ 1.  0.  0.  0.  0.]\n",
      " [ 0.  1.  0.  0.  0.]\n",
      " [ 0.  0.  1.  0.  0.]\n",
      " [ 0.  0.  0.  1.  0.]\n",
      " [ 0.  0.  0.  0.  1.]]\n"
     ]
    }
   ],
   "source": [
    "#Identity matrix\n",
    "print(np.eye(5))"
   ]
  },
  {
   "cell_type": "code",
   "execution_count": 14,
   "metadata": {},
   "outputs": [
    {
     "name": "stdout",
     "output_type": "stream",
     "text": [
      "Array 1:\n",
      "[ 1.  1.  1.  1.  1.]\n",
      "\n",
      "Array 2:\n",
      "[  33.33333333   66.66666667  100.        ]\n"
     ]
    }
   ],
   "source": [
    "#Uninitialized array of 5 elements. Values will be whatever happens to be in the location\n",
    "print('Array 1:')\n",
    "print(np.empty(5))\n",
    "\n",
    "print('\\nArray 2:')\n",
    "print(np.empty(3))"
   ]
  },
  {
   "cell_type": "markdown",
   "metadata": {},
   "source": [
    "#### Create arrays with random values"
   ]
  },
  {
   "cell_type": "markdown",
   "metadata": {},
   "source": [
    "1. np.random.random(number_of_elements): create an array of the given size with elements between 0 and 1\n",
    "2. np.random.normal(mean, standard_deviation, numner_of_elements): create an array of the specified length, whose elements have the specified mean and standard deviation.\n",
    "3. np.random.randint(start, end, number_of_elements): create an array of the specified length whose elements are between start(inclusive) and end(exclusive)."
   ]
  },
  {
   "cell_type": "code",
   "execution_count": 15,
   "metadata": {},
   "outputs": [
    {
     "name": "stdout",
     "output_type": "stream",
     "text": [
      "Array 1:\n",
      "[ 0.51739421  0.30512831  0.36010917  0.40369799  0.08618933]\n",
      "\n",
      "Array 2:\n",
      "[[ 0.9286874   0.95651563]\n",
      " [ 0.63401794  0.04382688]]\n"
     ]
    }
   ],
   "source": [
    "#Array of 5 elements with randoms values between 0 and 1\n",
    "print('Array 1:')\n",
    "print(np.random.random(5))\n",
    "\n",
    "#2x2 array of elements with random values between 0 and 1 \n",
    "print('\\nArray 2:')\n",
    "print(np.random.random((2,2)))"
   ]
  },
  {
   "cell_type": "code",
   "execution_count": 16,
   "metadata": {},
   "outputs": [
    {
     "name": "stdout",
     "output_type": "stream",
     "text": [
      "Array 1:\n",
      "[ 1.83771072 -0.76416061 -1.48999843  0.09898317 -0.01263051]\n",
      "\n",
      "Array 2:\n",
      "[ 3.97260345  5.78654941  1.11424053  5.72058774  8.37004834]\n"
     ]
    }
   ],
   "source": [
    "#Array of 5 elements with a mean of 0 and a standard deviation of 1\n",
    "print('Array 1:')\n",
    "print(np.random.normal(0, 1, 5))\n",
    "\n",
    "#Array of 5 elements with a mean of 7 and a standard deviation of 3\n",
    "print('\\nArray 2:')\n",
    "print(np.random.normal(7, 3, 5))"
   ]
  },
  {
   "cell_type": "code",
   "execution_count": 17,
   "metadata": {},
   "outputs": [
    {
     "data": {
      "text/plain": [
       "array([3, 9, 8, 4, 3])"
      ]
     },
     "execution_count": 17,
     "metadata": {},
     "output_type": "execute_result"
    }
   ],
   "source": [
    "#An array of 5 elements of random integers between 0 (inclusive) and 10 (exclusive)\n",
    "np.random.randint(0, 10, 5)"
   ]
  },
  {
   "cell_type": "markdown",
   "metadata": {},
   "source": [
    "### Properties of Arrays\n",
    "1. ndim (the number of dimensions)\n",
    "2. shape (the size of each dimension)\n",
    "3. size (the total size of the array)\n",
    "\n",
    "Other attributes include dtype (the data type of the array), itemsize (lists the size,in bytes, of each array element), and nbytes (lists the total size,in bytes, of the array)."
   ]
  },
  {
   "cell_type": "code",
   "execution_count": 18,
   "metadata": {},
   "outputs": [
    {
     "name": "stdout",
     "output_type": "stream",
     "text": [
      "[2 4 5 5 8 0]\n",
      "x1 dimensions: \n",
      "\tnumber of dimensions = 1 \n",
      "\tshape = (6,) \n",
      "\tsize = 6 \n",
      "\n",
      "[[7 2 5 5]\n",
      " [7 4 9 6]\n",
      " [9 3 9 0]]\n",
      "x2 dimensions: \n",
      "\tnumber of dimensions = 2 \n",
      "\tshape = (3, 4) \n",
      "\tsize = 12 \n",
      "\n",
      "[[[1 4 0 8 6]\n",
      "  [8 3 2 5 4]\n",
      "  [9 3 3 8 9]\n",
      "  [8 8 0 8 9]]\n",
      "\n",
      " [[1 6 1 1 3]\n",
      "  [9 7 5 2 2]\n",
      "  [4 5 8 7 9]\n",
      "  [3 7 1 9 1]]\n",
      "\n",
      " [[2 6 4 6 0]\n",
      "  [3 7 0 1 9]\n",
      "  [4 8 7 2 9]\n",
      "  [2 6 9 0 8]]]\n",
      "x3 dimensions: \n",
      "\tnumber of dimensions = 3 \n",
      "\tshape = (3, 4, 5) \n",
      "\tsize = 60\n"
     ]
    }
   ],
   "source": [
    "x1 = np.random.randint(10, size = 6)\n",
    "x2 = np.random.randint(10, size = (3, 4))\n",
    "x3 = np.random.randint(10, size = (3, 4, 5))\n",
    "print(x1)\n",
    "print('x1 dimensions:', '\\n\\tnumber of dimensions =', x1.ndim, '\\n\\tshape =', x1.shape, '\\n\\tsize =', x1.size, '\\n')\n",
    "print(x2)\n",
    "print('x2 dimensions:', '\\n\\tnumber of dimensions =', x2.ndim, '\\n\\tshape =', x2.shape, '\\n\\tsize =', x2.size, '\\n')\n",
    "print(x3)\n",
    "print('x3 dimensions:', '\\n\\tnumber of dimensions =', x3.ndim, '\\n\\tshape =', x3.shape, '\\n\\tsize =', x3.size)"
   ]
  },
  {
   "cell_type": "markdown",
   "metadata": {},
   "source": [
    "### Array indexing: Accessing and modifying elements"
   ]
  },
  {
   "cell_type": "markdown",
   "metadata": {},
   "source": [
    "#### One-dimensional arrays"
   ]
  },
  {
   "cell_type": "code",
   "execution_count": 19,
   "metadata": {},
   "outputs": [
    {
     "name": "stdout",
     "output_type": "stream",
     "text": [
      "x1[0] = 2\n",
      "x1[2] = 1\n",
      "x1[-1] = 2\n",
      "x1[-2] = 0\n",
      "\n",
      "Before modifications\n",
      "[2 5 1 5 0 2]\n",
      "\n",
      "After modifications\n",
      "[100   5   1   5   0 500]\n"
     ]
    }
   ],
   "source": [
    "x1 = np.random.randint(10, size = 6)\n",
    "\n",
    "#Get first element\n",
    "print('x1[0] =', x1[0])\n",
    "#Get 3rd element\n",
    "print('x1[2] =', x1[2])\n",
    "#Get last (in this case, the 10th) element\n",
    "print('x1[-1] =', x1[-1])\n",
    "#Gets penultimate (in this case, 9th) element\n",
    "print('x1[-2] =', x1[-2])\n",
    "\n",
    "#Change the first element to 100 and the last element to 500\n",
    "#Alters the array\n",
    "print('\\nBefore modifications')\n",
    "print(x1)\n",
    "\n",
    "x1[0] = 100\n",
    "x1[-1] = 500\n",
    "\n",
    "print('\\nAfter modifications')\n",
    "print(x1)\n"
   ]
  },
  {
   "cell_type": "markdown",
   "metadata": {},
   "source": [
    "#### Multi-dimensional arrays"
   ]
  },
  {
   "cell_type": "code",
   "execution_count": 20,
   "metadata": {},
   "outputs": [
    {
     "name": "stdout",
     "output_type": "stream",
     "text": [
      "x2[0,1] = 5\n",
      "x3[2, 0, 3] = 6\n",
      "\n",
      "x2:\n",
      "[[ 0  5  3  5]\n",
      " [ 3  7  3  4]\n",
      " [ 6 50  3  3]]\n",
      "\n",
      "x3:\n",
      "[[[  4   3   1   7   3]\n",
      "  [  9   3   6   3   0]\n",
      "  [  6   2   7   0   5]\n",
      "  [  6   3   3   0   5]]\n",
      "\n",
      " [[  1   9   9   1   7]\n",
      "  [  5   7   1   7   2]\n",
      "  [  1   5   3   2   8]\n",
      "  [  7   1   6   4   3]]\n",
      "\n",
      " [[  7   3   5   6   0]\n",
      "  [  1   3   0   5   9]\n",
      "  [  9   0   3   9   0]\n",
      "  [  9   0   7   1 500]]]\n"
     ]
    }
   ],
   "source": [
    "x2 = np.random.randint(10, size = (3, 4))\n",
    "x3 = np.random.randint(10, size = (3, 4, 5))\n",
    "\n",
    "#Use comma-separated tuple of indices\n",
    "print('x2[0,1] =', x2[0,1])\n",
    "print('x3[2, 0, 3] =', x3[2, 0, 3])\n",
    "\n",
    "x2[2, 1] = 50\n",
    "x3[2, 3, 4] = 500\n",
    "\n",
    "print('\\nx2:')\n",
    "print(x2)\n",
    "print('\\nx3:')\n",
    "print(x3)"
   ]
  },
  {
   "cell_type": "markdown",
   "metadata": {},
   "source": [
    "#### Inserting incompatible data type"
   ]
  },
  {
   "cell_type": "code",
   "execution_count": 21,
   "metadata": {},
   "outputs": [
    {
     "name": "stdout",
     "output_type": "stream",
     "text": [
      "[100   5   1   5   0 500]\n"
     ]
    }
   ],
   "source": [
    "#If insert float into array of integers, the float will be truncated\n",
    "x1[2] = 1.987\n",
    "print(x1)"
   ]
  },
  {
   "cell_type": "markdown",
   "metadata": {},
   "source": [
    "#### Fancy indexing"
   ]
  },
  {
   "cell_type": "code",
   "execution_count": 22,
   "metadata": {},
   "outputs": [
    {
     "data": {
      "text/plain": [
       "array([32, 52, 29, 36])"
      ]
     },
     "execution_count": 22,
     "metadata": {},
     "output_type": "execute_result"
    }
   ],
   "source": [
    "x = np.array([32, 46, 71, 29, 11, 65, 91, 36, 52, 84])\n",
    "indices = [0, 8, 3, 7]\n",
    "#Returns an array containing the elements found in x at the listed indices\n",
    "x[indices]"
   ]
  },
  {
   "cell_type": "code",
   "execution_count": 23,
   "metadata": {},
   "outputs": [
    {
     "data": {
      "text/plain": [
       "array([8, 5, 2])"
      ]
     },
     "execution_count": 23,
     "metadata": {},
     "output_type": "execute_result"
    }
   ],
   "source": [
    "#Fancy indexing with multi-dimensional arrays\n",
    "x = np.array([[11, 10, 9, 8],\n",
    "              [7, 6, 5, 4],\n",
    "              [3, 2, 1, 0]])\n",
    "rows = np.array([0, 1, 2])\n",
    "columns = np.array([3, 2, 1])\n",
    "#Returns an array with the following elements: x[0][3], x[1][2], x[2][1]\n",
    "x[rows, columns]"
   ]
  },
  {
   "cell_type": "markdown",
   "metadata": {},
   "source": [
    "#### Combined indexing"
   ]
  },
  {
   "cell_type": "code",
   "execution_count": 24,
   "metadata": {},
   "outputs": [
    {
     "name": "stdout",
     "output_type": "stream",
     "text": [
      "Array 1\n",
      "[4 7 6]\n",
      "\n",
      "Array 2\n",
      "[[4 7 6]\n",
      " [0 3 2]]\n"
     ]
    }
   ],
   "source": [
    "x = np.array([[11, 10, 9, 8],\n",
    "              [7, 6, 5, 4],\n",
    "              [3, 2, 1, 0]])\n",
    "#Returns an array with the following elements: x[1][3], x[1][0], x[1][1]\n",
    "print('Array 1')\n",
    "print(x[1, [3, 0, 1]])\n",
    "\n",
    "#Returns an array with the following elements: x[1][3], x[1][0], x[1][1], x[2][3], x[2][0], x[2][1]\n",
    "print('\\nArray 2')\n",
    "print(x[1:, [3, 0, 1]])"
   ]
  },
  {
   "cell_type": "markdown",
   "metadata": {},
   "source": [
    "### Array Slicing and Subarrays\n",
    "* array_name[start:stop:step]\n",
    "* start is inclusive and stop is exclusive"
   ]
  },
  {
   "cell_type": "markdown",
   "metadata": {},
   "source": [
    "#### One-dimensional arrays"
   ]
  },
  {
   "cell_type": "code",
   "execution_count": 25,
   "metadata": {},
   "outputs": [
    {
     "name": "stdout",
     "output_type": "stream",
     "text": [
      "Array 1\n",
      "[0 1 2 3 4 5 6 7 8 9]\n",
      "\n",
      "Array 2\n",
      "[10 11 12 13 14 15 16 17 18 19 20 21 22 23 24]\n",
      "\n",
      "Array 3\n",
      "[10 11 12 13 14 15 16 17 18 19]\n"
     ]
    }
   ],
   "source": [
    "x = np.arange(25)\n",
    "#First ten elements\n",
    "print('Array 1')\n",
    "print(x[:10])\n",
    "\n",
    "#All elements after index 10\n",
    "print('\\nArray 2')\n",
    "print(x[10:])\n",
    "\n",
    "#All elements between index 10(inclusive) and 20(exclusive)\n",
    "print('\\nArray 3')\n",
    "print(x[10:20])"
   ]
  },
  {
   "cell_type": "code",
   "execution_count": 26,
   "metadata": {},
   "outputs": [
    {
     "name": "stdout",
     "output_type": "stream",
     "text": [
      "Array 1\n",
      "[0 2 4 6 8]\n",
      "\n",
      "Array 2\n",
      "[ 0  5 10 15 20]\n",
      "\n",
      "Array 3\n",
      "[10 15 20]\n",
      "\n",
      "Array 4\n",
      "[ 0  5 10]\n"
     ]
    }
   ],
   "source": [
    "#Every other element between 0(inclusive) and 10 (exclusive)\n",
    "print('Array 1')\n",
    "print(x[0:10:2])\n",
    "\n",
    "#Every 5th element in the array starting at 0\n",
    "print('\\nArray 2')\n",
    "print(x[0::5])\n",
    "\n",
    "#Every 5th element in the array starting at 0\n",
    "print('\\nArray 3')\n",
    "print(x[10::5])\n",
    "\n",
    "#Every 5th element in the array ending at 15 (exclusive)\n",
    "print('\\nArray 4')\n",
    "print(x[:15:5])"
   ]
  },
  {
   "cell_type": "code",
   "execution_count": 27,
   "metadata": {},
   "outputs": [
    {
     "name": "stdout",
     "output_type": "stream",
     "text": [
      "Array 1\n",
      "[24 23 22 21 20 19 18 17 16 15 14 13 12 11 10  9  8  7  6  5  4  3  2  1  0]\n",
      "\n",
      "Array 2\n",
      "[24 22 20 18 16 14 12 10  8  6  4  2  0]\n",
      "\n",
      "Array 3\n",
      "[15 12  9  6]\n"
     ]
    }
   ],
   "source": [
    "#Using a negative step is a useful way to reverse the array. It swaps start and stop\n",
    "\n",
    "#Every element, in reverse\n",
    "print('Array 1')\n",
    "print(x[::-1])\n",
    "\n",
    "#Every other element, in reverse\n",
    "print('\\nArray 2')\n",
    "print(x[::-2])\n",
    "\n",
    "#Every third element, starting at the 15th element (inclusive) and ending at the 5th element (exculsive)\n",
    "print('\\nArray 3')\n",
    "print(x[15:5:-3])"
   ]
  },
  {
   "cell_type": "markdown",
   "metadata": {},
   "source": [
    "#### Multi-dimensional subarrays"
   ]
  },
  {
   "cell_type": "code",
   "execution_count": 28,
   "metadata": {},
   "outputs": [
    {
     "name": "stdout",
     "output_type": "stream",
     "text": [
      "Array 1\n",
      "[[0 5 3]\n",
      " [3 7 3]]\n",
      "\n",
      "Array 2\n",
      "[[0 3]\n",
      " [3 3]\n",
      " [6 3]]\n",
      "\n",
      "Array 3\n",
      "[[ 6 50  3  3]\n",
      " [ 3  7  3  4]\n",
      " [ 0  5  3  5]]\n",
      "\n",
      "Array 4\n",
      "[[ 5  3  5  0]\n",
      " [ 4  3  7  3]\n",
      " [ 3  3 50  6]]\n",
      "\n",
      "Array 5\n",
      "[[ 3  3 50  6]\n",
      " [ 4  3  7  3]\n",
      " [ 5  3  5  0]]\n"
     ]
    }
   ],
   "source": [
    "#Get the first 2 rows, and the first 3 columns\n",
    "print('Array 1')\n",
    "print(x2[:2, :3])\n",
    "\n",
    "#Get all rows, and every other column\n",
    "print('\\nArray 2')\n",
    "print(x2[:, ::2])\n",
    "\n",
    "#Reverse only the columns\n",
    "print('\\nArray 3')\n",
    "print(x2[::-1, :])\n",
    "\n",
    "#Reverse only the rows\n",
    "print('\\nArray 4')\n",
    "print(x2[:, ::-1])\n",
    "\n",
    "#Reverse both rows and columns\n",
    "print('\\nArray 5')\n",
    "print(x2[::-1, ::-1])"
   ]
  },
  {
   "cell_type": "code",
   "execution_count": 29,
   "metadata": {},
   "outputs": [
    {
     "name": "stdout",
     "output_type": "stream",
     "text": [
      "Array 1\n",
      "[0 5 3 5]\n",
      "\n",
      "Array 2\n",
      "[0 3 6]\n",
      "\n",
      "Array 3\n",
      "[ True  True  True  True]\n"
     ]
    }
   ],
   "source": [
    "#Get first row of x2\n",
    "print('Array 1')\n",
    "print(x2[0, :])\n",
    "\n",
    "#Get first column of x2\n",
    "print('\\nArray 2')\n",
    "print(x2[:, 0])\n",
    "\n",
    "#These are equivalent\n",
    "print('\\nArray 3')\n",
    "print(x2[0, :] == x2[0])"
   ]
  },
  {
   "cell_type": "markdown",
   "metadata": {},
   "source": [
    "Some important notes on subarrays:\n",
    "* Subarrays are no-copy views: array slices return views rather than copies of the array daya. In Python, however, slices are copies.\n",
    "* To explicitly copy the data in an array or subarray, use the copy() method."
   ]
  },
  {
   "cell_type": "code",
   "execution_count": 30,
   "metadata": {},
   "outputs": [
    {
     "name": "stdout",
     "output_type": "stream",
     "text": [
      "Before modification\n",
      "Original\n",
      "[[1 2 3]\n",
      " [4 5 6]]\n",
      "\n",
      "Subarray\n",
      "[4 5 6]\n",
      "\n",
      "\n",
      "After modification\n",
      "Original\n",
      "[[  1   2   3]\n",
      " [100   5 471]]\n",
      "\n",
      "Subarray\n",
      "[100   5 471]\n"
     ]
    }
   ],
   "source": [
    "original = np.array([[1, 2, 3], [4, 5, 6]])\n",
    "sub_array = original[1]\n",
    "\n",
    "print('Before modification')\n",
    "print('Original')\n",
    "print(original)\n",
    "print('\\nSubarray')\n",
    "print(sub_array)\n",
    "\n",
    "\n",
    "#Change both sub_array and original\n",
    "sub_array[0] = 100\n",
    "sub_array[2] = 471\n",
    "\n",
    "print('\\n\\nAfter modification')\n",
    "print('Original')\n",
    "print(original)\n",
    "print('\\nSubarray')\n",
    "print(sub_array)"
   ]
  },
  {
   "cell_type": "code",
   "execution_count": 31,
   "metadata": {},
   "outputs": [
    {
     "name": "stdout",
     "output_type": "stream",
     "text": [
      "original:\n",
      "[[1 2 3]\n",
      " [4 5 6]]\n",
      "\n",
      "subarray:\n",
      "[100   5 471]\n"
     ]
    }
   ],
   "source": [
    "original = np.array([[1, 2, 3], [4, 5, 6]])\n",
    "sub_array = (original.copy()[1])\n",
    "#These instructions only change sub_array. original is not modified\n",
    "sub_array[0] = 100\n",
    "sub_array[2] = 471\n",
    "\n",
    "print('original:')\n",
    "print(original)\n",
    "\n",
    "print('\\nsubarray:')\n",
    "print(sub_array)"
   ]
  },
  {
   "cell_type": "markdown",
   "metadata": {},
   "source": [
    "### Reshaping arrays\n",
    "array_name.reshape(new_dimensions)"
   ]
  },
  {
   "cell_type": "code",
   "execution_count": 32,
   "metadata": {},
   "outputs": [
    {
     "name": "stdout",
     "output_type": "stream",
     "text": [
      "Before reshape:\n",
      "[1 2 3 4 5 6 7 8 9]\n",
      "\n",
      "After reshape:\n",
      "[[1 2 3]\n",
      " [4 5 6]\n",
      " [7 8 9]]\n"
     ]
    }
   ],
   "source": [
    "#For this to work, the size of the initial array must equal the size of the reshaped array\n",
    "#If possible, the reshape method will use a no-copy view of the initial array\n",
    "\n",
    "print('Before reshape:')\n",
    "x = np.arange(1, 10)\n",
    "print(x)\n",
    "\n",
    "print('\\nAfter reshape:')\n",
    "print(x.reshape((3,3)))\n"
   ]
  },
  {
   "cell_type": "markdown",
   "metadata": {},
   "source": [
    "### Concatenation of arrays"
   ]
  },
  {
   "cell_type": "markdown",
   "metadata": {},
   "source": [
    "#### Arrays with the same dimensions (both one-dimensional and multi-dimensional)"
   ]
  },
  {
   "cell_type": "code",
   "execution_count": 33,
   "metadata": {},
   "outputs": [
    {
     "name": "stdout",
     "output_type": "stream",
     "text": [
      "Concatenate x and z\n",
      "[1 2 3 7 8 9]\n",
      "\n",
      "Concatenate x, y, and z\n",
      "[1 2 3 4 5 6 7 8 9]\n"
     ]
    }
   ],
   "source": [
    "x = np.array([1, 2, 3])\n",
    "y = np.array([4, 5, 6])\n",
    "z = np.array([7, 8, 9])\n",
    "\n",
    "print('Concatenate x and z')\n",
    "print(np.concatenate([x, z]))\n",
    "\n",
    "print('\\nConcatenate x, y, and z')\n",
    "print(np.concatenate([x, y, z]))"
   ]
  },
  {
   "cell_type": "markdown",
   "metadata": {},
   "source": [
    "#### Arrays with different dimensions\n",
    "Use np.vstack([array1, array2]) and np.hstack([array1, array2])\n"
   ]
  },
  {
   "cell_type": "code",
   "execution_count": 34,
   "metadata": {},
   "outputs": [
    {
     "name": "stdout",
     "output_type": "stream",
     "text": [
      "Concatenate x and a with vstack\n",
      "[[1 2 3]\n",
      " [1 2 3]\n",
      " [4 5 6]]\n",
      "\n",
      "Concatenate c and a with hstack\n",
      "[[13  1  2  3]\n",
      " [13  4  5  6]]\n"
     ]
    }
   ],
   "source": [
    "x = np.array([1, 2, 3])\n",
    "a = ([1, 2, 3], [4, 5, 6])\n",
    "b = ([7, 8, 9], [10, 11, 12])\n",
    "\n",
    "print('Concatenate x and a with vstack')\n",
    "print(np.vstack([x, a]))\n",
    "\n",
    "print('\\nConcatenate c and a with hstack')\n",
    "c = ([13],\n",
    "     [13])\n",
    "print(np.hstack([c, a]))"
   ]
  },
  {
   "cell_type": "markdown",
   "metadata": {},
   "source": [
    "### Splitting arrays\n",
    "Use np.split(array, [slice_index]), np.vsplit([row_to_split_on]), and np.hsplit([column_to_split_on])"
   ]
  },
  {
   "cell_type": "code",
   "execution_count": 35,
   "metadata": {},
   "outputs": [
    {
     "name": "stdout",
     "output_type": "stream",
     "text": [
      "x:\n",
      "[1, 2, 3, 4, 5, 6, 7, 8, 9]\n",
      "\n",
      "upper:\n",
      "[[0 1 2 3]\n",
      " [4 5 6 7]]\n",
      "\n",
      "lower:\n",
      "[[ 8  9 10 11]\n",
      " [12 13 14 15]]\n",
      "\n",
      "left:\n",
      "[[ 0  1]\n",
      " [ 4  5]\n",
      " [ 8  9]\n",
      " [12 13]]\n",
      "\n",
      "right:\n",
      "[[ 2  3]\n",
      " [ 6  7]\n",
      " [10 11]\n",
      " [14 15]]\n"
     ]
    }
   ],
   "source": [
    "#Splitting of arrays\n",
    "x = [1, 2, 3, 4, 5, 6, 7, 8, 9]\n",
    "x1, x2, x3 = np.split(x, [3,5])\n",
    "\n",
    "grid = np.array([[0, 1, 2, 3], [4, 5, 6, 7], [8, 9, 10, 11], [12, 13, 14, 15]])\n",
    "upper, lower = np.vsplit(grid, [2])\n",
    "left, right = np.hsplit(grid, [2])\n",
    "\n",
    "print(\"x:\")\n",
    "print(x)\n",
    "\n",
    "print(\"\\nupper:\")\n",
    "print(upper)\n",
    "\n",
    "print(\"\\nlower:\")\n",
    "print(lower)\n",
    "\n",
    "print(\"\\nleft:\")\n",
    "print(left)\n",
    "\n",
    "print(\"\\nright:\")\n",
    "print(right)"
   ]
  },
  {
   "cell_type": "markdown",
   "metadata": {},
   "source": [
    "### Computation on NumPy Arrays: Universal Functions\n",
    "Vectorized operations in NumPy are implemented via ufuncs, whose main purpose is to quickly execute repeated operations on values in NumPy arrays.\n",
    "Unary ufuncs operate on a single input and binary ufuncs operate on two inputs.\n"
   ]
  },
  {
   "cell_type": "markdown",
   "metadata": {},
   "source": [
    "#### ufuncs operations"
   ]
  },
  {
   "cell_type": "code",
   "execution_count": 36,
   "metadata": {},
   "outputs": [
    {
     "name": "stdout",
     "output_type": "stream",
     "text": [
      "x =  [0 1 2 3 4 5]\n",
      "x + 5 =  [ 5  6  7  8  9 10]\n",
      "x - 5 =  [-5 -4 -3 -2 -1  0]\n",
      "x * 2=  [ 0  2  4  6  8 10]\n",
      "x ^ 2=  [ 0  1  4  9 16 25]\n",
      "x / 2=  [ 0.   0.5  1.   1.5  2.   2.5]\n",
      "x % 2=  [0 1 0 1 0 1]\n",
      "x // 2=  [0 0 1 1 2 2]\n",
      "-x =  [ 0 -1 -2 -3 -4 -5]\n",
      "(3 + x) * 2 =  [ 6  8 10 12 14 16]\n",
      "\n",
      "x:\n",
      "[-2 -1  0  1  2]\n",
      "\n",
      "absolute(x)\n",
      "[2 1 0 1 2]\n"
     ]
    },
    {
     "data": {
      "text/plain": [
       "array([ True,  True,  True,  True,  True], dtype=bool)"
      ]
     },
     "execution_count": 36,
     "metadata": {},
     "output_type": "execute_result"
    }
   ],
   "source": [
    "x = np.arange(6)\n",
    "print(\"x = \", x)\n",
    "print(\"x + 5 = \", x + 5)\n",
    "print(\"x - 5 = \", x - 5)\n",
    "print(\"x * 2= \", x * 2)\n",
    "print(\"x ^ 2= \", x ** 2)\n",
    "print(\"x / 2= \", x / 2)\n",
    "print(\"x % 2= \", x % 2)\n",
    "print(\"x // 2= \", x // 2) #Floor division\n",
    "print(\"-x = \", -x)\n",
    "print(\"(3 + x) * 2 = \", (3 + x) * 2)\n",
    "\n",
    "x = np.array([-2, -1, 0, 1, 2])\n",
    "print('\\nx:')\n",
    "print(x)\n",
    "\n",
    "print('\\nabsolute(x)')\n",
    "print(np.absolute(x))\n",
    "abs(x) == np.absolute(x)"
   ]
  },
  {
   "cell_type": "markdown",
   "metadata": {},
   "source": [
    "### Aggregations\n",
    "Many of NumPy's aggregation operations exist in Python, but NumPy's versions operate more quickly. Here are some of NumPy's aggregation operations:\n",
    "* np.sum: Compute sum of elements\n",
    "* np.prod: Compute product of elements\n",
    "* np.mean: Compute mean of elements\n",
    "* np.std: Compute standard deviation\n",
    "* np.var: Compute variance\n",
    "* np.min: Find minimum value\n",
    "* np.max: Find maximum value\n",
    "* np.argmin: Find index of minimum value\n",
    "* np.argmax: Find index of maximum value\n",
    "* np.median: Compute median of elements\n",
    "* np.percentile: Compute rank-based statistics of elements\n",
    "* np.any: Evaluate whether any elements are true\n",
    "* np.all: Evaluate whether all elements are true\n"
   ]
  },
  {
   "cell_type": "code",
   "execution_count": 37,
   "metadata": {},
   "outputs": [
    {
     "data": {
      "text/plain": [
       "False"
      ]
     },
     "execution_count": 37,
     "metadata": {},
     "output_type": "execute_result"
    }
   ],
   "source": [
    "x = np.random.random(100)\n",
    "sum(x) #python's sum\n",
    "np.sum(x) #numpy's sum\n",
    "sum(x) == np.sum(x)\n",
    "#Same results, but numpy's version is faster/more efficient\n",
    "#because it executes the operation in compiled code, NumPy's version of the operation is computed much more quickly:"
   ]
  },
  {
   "cell_type": "code",
   "execution_count": 38,
   "metadata": {},
   "outputs": [
    {
     "name": "stdout",
     "output_type": "stream",
     "text": [
      "x:\n",
      "[ 0.10769312  0.47297913  0.91780973  0.30340703  0.11455742  0.03366912\n",
      "  0.41791628  0.31679846  0.00784425  0.506246    0.40170968  0.14355973\n",
      "  0.63160214  0.73535404  0.58197633  0.12592535  0.18619324  0.8745621\n",
      "  0.32696309  0.40190652  0.63949337  0.59191951  0.46263438  0.63507759\n",
      "  0.7910898   0.82105706  0.26740266  0.96938674  0.91367639  0.68402971\n",
      "  0.95700746  0.16752873  0.80216652  0.94124408  0.61203649  0.67099891\n",
      "  0.91179422  0.88264909  0.68811569  0.00892827  0.28105512  0.91744365\n",
      "  0.81487394  0.68847184  0.12062075  0.45655316  0.45347565  0.48064829\n",
      "  0.26422278  0.666787    0.47010632  0.0235297   0.363719    0.25126741\n",
      "  0.00560837  0.46226548  0.41063071  0.80461561  0.37305435  0.47273558\n",
      "  0.32212812  0.01298071  0.9704594   0.87176585  0.85768702  0.81861874\n",
      "  0.07382863  0.67587424  0.27086568  0.26874875  0.70213556  0.18581834\n",
      "  0.52204232  0.83680928  0.25808522  0.28516225  0.47790418  0.62441214\n",
      "  0.05803896  0.94171516  0.5497316   0.15294081  0.19348019  0.9853862\n",
      "  0.82415251  0.11563757  0.32377219  0.36747528  0.19373759  0.29720376\n",
      "  0.14572584  0.53827576  0.59967264  0.99988955  0.48757965  0.28369277\n",
      "  0.87115996  0.51092939  0.84743189  0.40572142]\n",
      "min = 0.00560836567638\n",
      "max = 0.999889546421\n",
      "sum of all elements in x = 49.5372712174\n",
      "\n",
      "\n",
      "x:\n",
      "[[ 0.19940101  0.5571115   0.96022112  0.22140713]\n",
      " [ 0.9241844   0.92778628  0.67526863  0.24748044]\n",
      " [ 0.19880656  0.5728436   0.2558508   0.43278418]]\n",
      "sum of all elements in x = 6.17314565892\n",
      "Min value in each column: [ 0.19880656  0.5571115   0.2558508   0.22140713]\n",
      "Max value in each row: [ 0.96022112  0.92778628  0.5728436 ]\n"
     ]
    }
   ],
   "source": [
    "x = np.random.random(100)\n",
    "print('x:')\n",
    "print(x)\n",
    "\n",
    "min(x) #python\n",
    "max(x) #python\n",
    "\n",
    "print(\"min =\", np.min(x)) #Numpy\n",
    "print(\"max =\", np.max(x)) #Numpy\n",
    "\n",
    "print(\"sum of all elements in x =\", np.sum(x))\n",
    "\n",
    "#Multidimensional aggregates\n",
    "x = np.random.random((3, 4))\n",
    "\n",
    "print('\\n\\nx:')\n",
    "print(x)\n",
    "\n",
    "print(\"sum of all elements in x =\", np.sum(x))\n",
    "\n",
    "print('Min value in each column:', x.min(axis=0))  #Aggregation functions take an additional argument specifying the axis along which the aggregate is computed. For example, we can find the minimum value within each column by specifying axis=0:\n",
    "print('Max value in each row:', x.max(axis=1))  # Similarly, we can find the maximum value within each row with axis = 1"
   ]
  },
  {
   "cell_type": "markdown",
   "metadata": {},
   "source": [
    "Axis keyword: specifies the dimension of the array that will be collapsed, rather than the dimension that will be returned. So specifying axis=0 means that the first axis will be collapsed: for two-dimensional arrays, this means that values within each column will be aggregated."
   ]
  },
  {
   "cell_type": "markdown",
   "metadata": {},
   "source": [
    "### Broadcasting\n",
    "For arrays of the same size, binary operations are performed on an element-by-element basis. Broadcasting allows these operations to be performed on arrays of different size."
   ]
  },
  {
   "cell_type": "code",
   "execution_count": 39,
   "metadata": {},
   "outputs": [
    {
     "name": "stdout",
     "output_type": "stream",
     "text": [
      "a:\n",
      "[0 1 2]\n",
      "b:\n",
      "[3 4 5]\n",
      "\n",
      "a+b =  [3 5 7]\n",
      "[0 1 2]\n",
      "[[0]\n",
      " [1]\n",
      " [2]]\n",
      "[[0 1 2]\n",
      " [1 2 3]\n",
      " [2 3 4]]\n"
     ]
    }
   ],
   "source": [
    "a = np.array([0, 1, 2])\n",
    "b = np.array([3, 4, 5])\n",
    "print('a:')\n",
    "print(a)\n",
    "print('b:')\n",
    "print(b)\n",
    "print('\\na+b = ', a+b)\n",
    "\n",
    "#Adding 1d array to 2d array\n",
    "c = M = np.ones((3, 3))\n",
    "c + a\n",
    "\n",
    "a = np.arange(3)\n",
    "b = np.arange(3)[:, np.newaxis]\n",
    "c = a + b\n",
    "print(a)\n",
    "print(b)\n",
    "print(c)"
   ]
  },
  {
   "cell_type": "markdown",
   "metadata": {},
   "source": [
    "#### Rules of broadcasting\n",
    "1. If the two arrays differ in their number of dimensions, the shape of the one with fewer dimensions is padded with ones on its leading (left) side.\n",
    "2. Rule 2: If the shape of the two arrays does not match in any dimension, the array with shape equal to 1 in that dimension is stretched to match the other shape.\n",
    "3. If in any dimension the sizes disagree and neither is equal to 1, an error is raised."
   ]
  },
  {
   "cell_type": "markdown",
   "metadata": {},
   "source": [
    "### Comparisons and boolean arrays"
   ]
  },
  {
   "cell_type": "code",
   "execution_count": 40,
   "metadata": {},
   "outputs": [
    {
     "name": "stdout",
     "output_type": "stream",
     "text": [
      "All values in x less than 3: [ True  True False False False]\n",
      "All values in x greater than 3: [False False False  True  True]\n",
      "All values in x greater than or equal to 3: [ True  True  True False False]\n",
      "All values in x less than or equal to 3: [False False  True  True  True]\n",
      "All values in x equal to 3: [False False  True False False]\n",
      "All values in x not equal to 3: [ True  True False  True  True]\n",
      "All values in x such at x = x^2: [ True False False False False]\n",
      "All values in x such at 2x = x^2: [False  True False False False]\n",
      "All elements in x less than 3: [1 2]\n"
     ]
    }
   ],
   "source": [
    "x = np.array([1, 2, 3, 4, 5])\n",
    "#Will return boolean array. Element will be True if corresponding element in x is less than 3. \n",
    "#Otherwise, element will be False.\n",
    "print('All values in x less than 3:', x < 3)\n",
    "print('All values in x greater than 3:', x > 3)\n",
    "print('All values in x greater than or equal to 3:', x <= 3)\n",
    "print('All values in x less than or equal to 3:', x >= 3)\n",
    "print('All values in x equal to 3:', x == 3)\n",
    "print('All values in x not equal to 3:', x != 3)\n",
    "print('All values in x such at x = x^2:', x == x ** 2)\n",
    "print('All values in x such at 2x = x^2:',(2 * x) == x ** 2)\n",
    "\n",
    "\"\"\"\n",
    "To count the number of True entries in a Boolean array, np.count_nonzero is useful:\n",
    "\"\"\"\n",
    "np.count_nonzero(x < 3)\n",
    "\n",
    "\"\"\"\n",
    "Another way to get at this information is to use np.sum; in this case, False is interpreted as 0, and True is interpreted as 1:\n",
    "\"\"\"\n",
    "np.sum(x < 3)\n",
    "\n",
    "\"\"\"\n",
    "The benefit of sum() is that like with other NumPy aggregation functions, this summation can be done along rows or columns as well:\n",
    "\"\"\"\n",
    "\n",
    "#If any or all are true\n",
    "np.any(x == 3)\n",
    "np.all(x == 3)\n",
    "np.all(x >= 0)\n",
    "\n",
    "\n",
    "#Boolean Arrays as masks. Will return only the elements in x that are less than 3.\n",
    "print('All elements in x less than 3:', x[x<3])"
   ]
  },
  {
   "cell_type": "markdown",
   "metadata": {},
   "source": [
    "### Sorting arrays\n",
    "1. np.sort(array)\n",
    "    * Returns the sorted array. By default, np.sort() uses a quicksort algorithm. Python has a version of this method, but it is much less efficient.\n",
    "2. np.argsort(array)\n",
    "    * Retruns the indices of the sorted elements, instead of the sorted array\n",
    "3. np.partition(array, n)\n",
    "    * Returns a new array with the smallest n values to the left of the partition, and the remaining values to the right. Elements on both sides of the partition are ordered arbitrarily."
   ]
  },
  {
   "cell_type": "code",
   "execution_count": 41,
   "metadata": {},
   "outputs": [
    {
     "name": "stdout",
     "output_type": "stream",
     "text": [
      "[1 2 3 4 5]\n"
     ]
    }
   ],
   "source": [
    "x = np.array([4, 3, 1, 5, 2])\n",
    "np.sort(x)\n",
    "\n",
    "\n",
    "#To sort the array in-place, use the sort method of arrays:\n",
    "x.sort()\n",
    "print(x)\n"
   ]
  },
  {
   "cell_type": "code",
   "execution_count": 42,
   "metadata": {},
   "outputs": [
    {
     "name": "stdout",
     "output_type": "stream",
     "text": [
      "Sort one-dimensional array: \n",
      "[2 4 1 0 3]\n",
      "\n",
      "Sort among rows and columns: \n",
      "[[8 5 4 6]\n",
      " [2 7 1 2]\n",
      " [9 3 4 6]\n",
      " [4 8 6 4]]\n"
     ]
    },
    {
     "data": {
      "text/plain": [
       "array([[4, 5, 6, 8],\n",
       "       [1, 2, 2, 7],\n",
       "       [3, 4, 6, 9],\n",
       "       [4, 4, 6, 8]])"
      ]
     },
     "execution_count": 42,
     "metadata": {},
     "output_type": "execute_result"
    }
   ],
   "source": [
    "#np.argsort with one-dimensional array\n",
    "x = np.array([4, 3, 1, 5, 2])\n",
    "i = np.argsort(x)\n",
    "print('Sort one-dimensional array: ')\n",
    "print(i)\n",
    "\n",
    "\n",
    "#Sort among rows and columns\n",
    "x = np.array([[8, 5, 4, 6], [2, 7, 1, 2], [9, 3, 4, 6], [4, 8, 6, 4]])\n",
    "print('\\nSort among rows and columns: ')\n",
    "print(x)\n",
    "\n",
    "#Sort each column of x\n",
    "np.sort(x, axis=0)\n",
    "#Sort each row of x\n",
    "np.sort(x, axis=1)"
   ]
  },
  {
   "cell_type": "code",
   "execution_count": 43,
   "metadata": {},
   "outputs": [
    {
     "data": {
      "text/plain": [
       "array([13,  6,  7, 26, 31, 39, 44, 88, 61])"
      ]
     },
     "execution_count": 43,
     "metadata": {},
     "output_type": "execute_result"
    }
   ],
   "source": [
    "x = np.array([61, 13, 39, 44, 26, 7, 31, 88, 6])\n",
    "np.partition(x, 4) #first 4 values are the 4 smallest"
   ]
  },
  {
   "cell_type": "markdown",
   "metadata": {},
   "source": [
    "### Structured arrays and record arrays\n",
    "These types of arrays provide efficient storage for heterogeneous data."
   ]
  },
  {
   "cell_type": "markdown",
   "metadata": {},
   "source": [
    "#### Data types\n",
    "* 'b' -- byte\n",
    "    * np.dtype('b')\n",
    "* 'i' -- signed integer\n",
    "    * np.dtype('i4') == np.int32\n",
    "* 'u' -- unsigned integer\n",
    "    * np.dtype('u1') == np.uint8\n",
    "* 'f' -- floating point\n",
    "    * np.dtype('f8') == np.int64\n",
    "* 'c'-- complex floating point\n",
    "    * np.dtype('c16') == np.complex128\n",
    "* 'S', 'a' -- string\n",
    "    * np.dtype('S5')\n",
    "* 'U' -- unicode string\n",
    "    * np.dtype('U') == np.str_\n",
    "* 'V' -- raw data(void)\n",
    "    * np.dtype('V') == np.void"
   ]
  },
  {
   "cell_type": "markdown",
   "metadata": {},
   "source": [
    "#### Creating structured arrays"
   ]
  },
  {
   "cell_type": "code",
   "execution_count": 44,
   "metadata": {},
   "outputs": [
    {
     "name": "stdout",
     "output_type": "stream",
     "text": [
      "[('Anne', 24,  64.5) ('Bob', 37,  72. ) ('Cathy', 44,  62. )\n",
      " ('Dave', 31,  70.5)]\n"
     ]
    }
   ],
   "source": [
    "#Create a 4-element array of \"people\" from lists\n",
    "names = ['Anne', 'Bob', 'Cathy', 'Dave']\n",
    "ages = [24, 37, 44, 31]\n",
    "heights = [64.5, 72, 62, 70.5]\n",
    "\n",
    "#Set up the arrays with new data types(name, age, and height) and their formats\n",
    "#Data type of name = U10 (Unicode string with a max length of 10)\n",
    "#Data type of age = i4 (4-byte/32-bit integer)\n",
    "#Data type of height = f8 (8-byte/64-bit float)\n",
    "x = np.zeros(4, dtype={'names':('name', 'age', 'height'),\n",
    "                       'formats':('U10', 'i4', 'f8')})\n",
    "\n",
    "#Put values from the lists into the people array\n",
    "x['name'] = names\n",
    "x['age'] = ages\n",
    "x['height'] = heights\n",
    "print(x)"
   ]
  },
  {
   "cell_type": "code",
   "execution_count": 45,
   "metadata": {},
   "outputs": [
    {
     "name": "stdout",
     "output_type": "stream",
     "text": [
      "Get all of the names: ['Anne' 'Bob' 'Cathy' 'Dave']\n",
      "Get the first person in the array: ('Anne', 24,  64.5)\n",
      "Get the name of the last person in the array: Dave\n",
      "Get all of the people under the age of 35: [('Anne', 24,  64.5) ('Dave', 31,  70.5)]\n",
      "Get only the names of the people under the age of 35: ['Anne' 'Dave']\n"
     ]
    }
   ],
   "source": [
    "#Get all of the names\n",
    "print('Get all of the names:', x['name'])\n",
    "\n",
    "#Get the first row (the first \"person\" in the array)\n",
    "print('Get the first person in the array:', x[0])\n",
    "\n",
    "#Get the name from the last row (the name of the last 'person' in the array)\n",
    "print('Get the name of the last person in the array:', x[-1]['name'])\n",
    "\n",
    "#Get all of the \"people\" under the age of 35\n",
    "print('Get all of the people under the age of 35:', x[x['age'] < 35])\n",
    "\n",
    "#Get only the names of the \"people\" under the age of 35\n",
    "print('Get only the names of the people under the age of 35:', x[x['age'] < 35]['name'])"
   ]
  },
  {
   "cell_type": "markdown",
   "metadata": {},
   "source": [
    "#### Additional ways to create structured arrays"
   ]
  },
  {
   "cell_type": "code",
   "execution_count": 46,
   "metadata": {},
   "outputs": [
    {
     "data": {
      "text/plain": [
       "dtype([('name', '<U10'), ('age', '<i8'), ('height', '<f4')])"
      ]
     },
     "execution_count": 46,
     "metadata": {},
     "output_type": "execute_result"
    }
   ],
   "source": [
    "#List of tuples (x,y), where x is the name of the variable and y is its data type/format\n",
    "#Create the same person array as above\n",
    "np.dtype([('name', 'U10'), ('age', '<i4'), ('weight', '<f8')])\n",
    "\n",
    "#Can also use Python's data types/formats\n",
    "np.dtype({'names':('name', 'age', 'height'),\n",
    "          'formats':((np.str_, 10), int, np.float32)})"
   ]
  },
  {
   "cell_type": "markdown",
   "metadata": {},
   "source": [
    "#### Creating record arrays\n",
    "Record arrays are similar to structured arrays, but they allow fields to be accessed as attributes rather than as dictionary keys."
   ]
  },
  {
   "cell_type": "code",
   "execution_count": 47,
   "metadata": {},
   "outputs": [
    {
     "data": {
      "text/plain": [
       "array([24, 37, 44, 31], dtype=int32)"
      ]
     },
     "execution_count": 47,
     "metadata": {},
     "output_type": "execute_result"
    }
   ],
   "source": [
    "#Create the \"people structured array again\"\n",
    "names = ['Anne', 'Bob', 'Cathy', 'Dave']\n",
    "ages = [24, 37, 44, 31]\n",
    "heights = [64.5, 72, 62, 70.5]\n",
    "\n",
    "structured = np.zeros(4, dtype={'names':('name', 'age', 'height'),\n",
    "                       'formats':('U10', 'i4', 'f8')})\n",
    "structured['name'] = names\n",
    "structured['age'] = ages\n",
    "structured['height'] = heights\n",
    "\n",
    "#Create a record array from the sructured array\n",
    "record = structured.view(np.recarray)\n",
    "\n",
    "#Get the ages of the people from the structured array\n",
    "structured['age']\n",
    "#Get the ages of the people from the record array\n",
    "record.age"
   ]
  }
 ],
 "metadata": {
  "kernelspec": {
   "display_name": "Python 3",
   "language": "python",
   "name": "python3"
  },
  "language_info": {
   "codemirror_mode": {
    "name": "ipython",
    "version": 3
   },
   "file_extension": ".py",
   "mimetype": "text/x-python",
   "name": "python",
   "nbconvert_exporter": "python",
   "pygments_lexer": "ipython3",
   "version": "3.6.1"
  }
 },
 "nbformat": 4,
 "nbformat_minor": 2
}
