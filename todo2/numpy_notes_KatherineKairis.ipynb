{
 "cells": [
  {
   "cell_type": "markdown",
   "metadata": {},
   "source": [
    "###### Katherine Kairis, kak275@pitt.edu, 9/7/2017"
   ]
  },
  {
   "cell_type": "code",
   "execution_count": null,
   "metadata": {
    "collapsed": true
   },
   "outputs": [],
   "source": [
    "import numpy as np"
   ]
  },
  {
   "cell_type": "markdown",
   "metadata": {},
   "source": [
    "## List vs. Fixed-type array in Python"
   ]
  },
  {
   "cell_type": "code",
   "execution_count": null,
   "metadata": {},
   "outputs": [],
   "source": [
    "flexible = [1, 1.0, 'one', 2, 2.0, 'two', 3, 3.0, 'three']\n",
    "for i in flexible:\n",
    "    print(type(i))"
   ]
  },
  {
   "cell_type": "code",
   "execution_count": null,
   "metadata": {},
   "outputs": [],
   "source": [
    "import array\n",
    "L = [1, 2, 3, 4, 5, 6, 7, 8, 9, 10]\n",
    "fixed = array.array('i', L)  #'i' = type encoding for integer\n",
    "\n",
    "for i in fixed:\n",
    "    print(type(i))"
   ]
  },
  {
   "cell_type": "markdown",
   "metadata": {},
   "source": [
    "## Arrays in Numpy (decsribe multi-dimensional arrays here, too)\n",
    "Part of the NumPy package is an array object. Like the Python array, all of the elements in the Numpy array must be of the same data type. NumPy improves upon Python's array by adding efficient operations that can be performed upon NumPy arrays."
   ]
  },
  {
   "cell_type": "markdown",
   "metadata": {},
   "source": [
    "### Creating NumPy arrays"
   ]
  },
  {
   "cell_type": "markdown",
   "metadata": {},
   "source": [
    "#### Converting lists to NumPy arrays"
   ]
  },
  {
   "cell_type": "code",
   "execution_count": null,
   "metadata": {},
   "outputs": [],
   "source": [
    "#Convert a Python list to a NumPy array\n",
    "np.array([1, 2, 3 ,4, 5])"
   ]
  },
  {
   "cell_type": "code",
   "execution_count": null,
   "metadata": {},
   "outputs": [],
   "source": [
    "#All of the elements in the array must be of the same data type.\n",
    "#If a list contains elements that are of different data types, the NumPy array will convert all of the elements\n",
    "#to the higher data type, if possible. (In a list of integers and floating points, all of the elements in the)\n",
    "#array will be floating points.\n",
    "np.array([1, 1.5, 2, 2.5, 3, 3.5, 4, 4.5, 5])"
   ]
  },
  {
   "cell_type": "code",
   "execution_count": null,
   "metadata": {},
   "outputs": [],
   "source": [
    "#Can use the dtype keyword to specify data type\n",
    "np.array([1, 2, 3, 4, 5, 6, 7], dtype='float32')"
   ]
  },
  {
   "cell_type": "markdown",
   "metadata": {},
   "source": [
    "#### Other ways to initialize arrays\n",
    "1. np.zeros(array_dimensions): create an array of the specified size whose elements are all zeros\n",
    "2. np.ones(array_dimensions): create an array of the specified size whose elements are all ones\n",
    "3. np.full(): create an array filled with a specified element\n",
    "4. np.arange(start, end): create an array containing every value between start(inclusive)and end(exclusive)\n",
    "5. np.arange(start, end, n): create an array containing every nth value between start(inclusive)and end(exclusive)\n",
    "    * n represents an interval\n",
    "6. np.linspace(start, end, n): create an array with n equally-spaced values between start(inclusive)and end(exclusive)\n",
    "    * n represents the number of elements in the array"
   ]
  },
  {
   "cell_type": "code",
   "execution_count": null,
   "metadata": {},
   "outputs": [],
   "source": [
    "#Create a 5-element array of all zeros using np.zeros()\n",
    "np.zeros(5, dtype = int)\n",
    "\n",
    "#Create a 2x2 (4-element) array of all zeros using np.zeros()\n",
    "np.zeros((2,2))"
   ]
  },
  {
   "cell_type": "code",
   "execution_count": null,
   "metadata": {
    "collapsed": true
   },
   "outputs": [],
   "source": [
    "#Create a 5-element array of all ones using np.ones()\n",
    "np.ones(5, dtype = int)\n",
    "\n",
    "#Create a 3x5 array of all ones using np.ones()\n",
    "np.ones((3,5))"
   ]
  },
  {
   "cell_type": "code",
   "execution_count": null,
   "metadata": {},
   "outputs": [],
   "source": [
    "#Create a 10-element array, where all 10 elements are 7.89\n",
    "np.full(10, 7.89)\n",
    "#Create a 2x3 array, where all elements are 4\n",
    "np.full((2, 3), 4)"
   ]
  },
  {
   "cell_type": "code",
   "execution_count": null,
   "metadata": {},
   "outputs": [],
   "source": [
    "#Create an array whose elements are every number from 0(inclusive) to 10(exclusive)\n",
    "np.arange(0, 10)\n",
    "#Create an array whose elements are every 5th number from 50(inclusive) to 100(exclusive)\n",
    "np.arange(50, 100, 5)\n",
    "#Create an array whose elements are every 3rd number from 0(inclusive) to 20(exclusive)\n",
    "np.arange(0, 20, 3)"
   ]
  },
  {
   "cell_type": "code",
   "execution_count": null,
   "metadata": {},
   "outputs": [],
   "source": [
    "#Create an array filled with a linear sequence\n",
    "#Create an array with three equally spaced elements between 0(inclusive) and 100(exclusive)\n",
    "np.linspace(0, 100, 3)\n",
    "#Create an array with four equally spaced elements between 0(inclusive) and 100(exclusive)\n",
    "np.linspace(0, 100, 4)\n",
    "#Create an array with five equally spaced elements between 0(inclusive) and 100(exclusive)\n",
    "np.linspace(0, 100, 5)"
   ]
  },
  {
   "cell_type": "code",
   "execution_count": null,
   "metadata": {},
   "outputs": [],
   "source": [
    "#np.arange() vs. np.linspace()\n",
    "#arange() specifies the interval/distance between elements. linspace() specifies the number of elements in the array\n",
    "np.arange(0, 1, 5)\n",
    "np.linspace(0, 1, 5)"
   ]
  },
  {
   "cell_type": "code",
   "execution_count": null,
   "metadata": {},
   "outputs": [],
   "source": [
    "#Identity matrix\n",
    "np.eye(5)"
   ]
  },
  {
   "cell_type": "code",
   "execution_count": null,
   "metadata": {},
   "outputs": [],
   "source": [
    "#Uninitialized array of 5 elements. Values will be whatever happens to be in the location\n",
    "np.empty(5)\n",
    "np.empty(3)"
   ]
  },
  {
   "cell_type": "markdown",
   "metadata": {},
   "source": [
    "#### Create arrays with random values"
   ]
  },
  {
   "cell_type": "markdown",
   "metadata": {},
   "source": [
    "1. np.random.random(number_of_elements): create an array of the given size with elements between 0 and 1\n",
    "2. np.random.normal(mean, standard_deviation, numner_of_elements): create an array of the specified length, whose elements have the specified mean and standard deviation.\n",
    "3. np.random.randint(start, end, number_of_elements): create an array of the specified length whose elements are between start(inclusive) and end(exclusive)."
   ]
  },
  {
   "cell_type": "code",
   "execution_count": null,
   "metadata": {},
   "outputs": [],
   "source": [
    "#Array of 5 elements with randoms values between 0 and 1\n",
    "np.random.random(5)\n",
    "\n",
    "#2x2 array of elements with random values between 0 and 1 \n",
    "np.random.random((2,2))"
   ]
  },
  {
   "cell_type": "code",
   "execution_count": null,
   "metadata": {},
   "outputs": [],
   "source": [
    "#Array of 5 elements with a mean of 0 and a standard deviation of 1\n",
    "np.random.normal(0, 1, 5)\n",
    "\n",
    "#Array of 5 elements with a mean of 7 and a standard deviation of 3\n",
    "np.random.normal(7, 3, 5)"
   ]
  },
  {
   "cell_type": "code",
   "execution_count": null,
   "metadata": {},
   "outputs": [],
   "source": [
    "#An array of 5 elements of random integers between 0 (inclusive) and 10 (exclusive)\n",
    "np.random.randint(0, 10, 5)"
   ]
  },
  {
   "cell_type": "markdown",
   "metadata": {},
   "source": [
    "### Properties of Arrays\n",
    "1. ndim (the number of dimensions)\n",
    "2. shape (the size of each dimension)\n",
    "3. size (the total size of the array)\n",
    "\n",
    "Other attributes include dtype (the data type of the array), itemsize (lists the size,in bytes, of each array element), and nbytes (lists the total size,in bytes, of the array)."
   ]
  },
  {
   "cell_type": "code",
   "execution_count": null,
   "metadata": {
    "collapsed": true
   },
   "outputs": [],
   "source": [
    "x1 = np.random.randint(10, size = 6)\n",
    "x2 = np.random.randint(10, size = (3, 4))\n",
    "x3 = np.random.randint(10, size = (3, 4, 5))\n",
    "print(x1)\n",
    "print('x1 dimensions:', '\\n\\tnumber of dimensions =', x1.ndim, '\\n\\tshape =', x1.shape, '\\n\\tsize =', x1.size, '\\n')\n",
    "print(x2)\n",
    "print('x2 dimensions:', '\\n\\tnumber of dimensions =', x2.ndim, '\\n\\tshape =', x2.shape, '\\n\\tsize =', x2.size, '\\n')\n",
    "print(x3)\n",
    "print('x3 dimensions:', '\\n\\tnumber of dimensions =', x3.ndim, '\\n\\tshape =', x3.shape, '\\n\\tsize =', x3.size)"
   ]
  },
  {
   "cell_type": "markdown",
   "metadata": {},
   "source": [
    "### Array indexing: Accessing and modifying elements"
   ]
  },
  {
   "cell_type": "markdown",
   "metadata": {},
   "source": [
    "#### One-dimensional arrays"
   ]
  },
  {
   "cell_type": "code",
   "execution_count": null,
   "metadata": {},
   "outputs": [],
   "source": [
    "x1 = np.random.randint(10, size = 6)\n",
    "\n",
    "#Get first element\n",
    "x1[0]\n",
    "#Get 3rd element\n",
    "x1[2]\n",
    "#Get last (in this case, the 10th) element\n",
    "x1[-1]\n",
    "#Gets penultimate (in this case, 9th) element\n",
    "x1[-2] #Gets penultimate\n",
    "\n",
    "#Change the first element to 100 and the last element to 500\n",
    "#Alters the array\n",
    "x1[0] = 100\n",
    "x1[-1] = 500\n",
    "\n",
    "print(x1)"
   ]
  },
  {
   "cell_type": "markdown",
   "metadata": {},
   "source": [
    "#### Multi-dimensional arrays"
   ]
  },
  {
   "cell_type": "code",
   "execution_count": null,
   "metadata": {
    "collapsed": true
   },
   "outputs": [],
   "source": [
    "x2 = np.random.randint(10, size = (3, 4))\n",
    "x3 = np.random.randint(10, size = (3, 4, 5))\n",
    "\n",
    "#Use comma-separated tuple of indices\n",
    "x2[0,1]\n",
    "x3[2, 0, 3]\n",
    "\n",
    "x2[2, 1] = 50\n",
    "x3[2, 3, 4] = 500\n",
    "\n",
    "print(x2)\n",
    "print(x3)"
   ]
  },
  {
   "cell_type": "markdown",
   "metadata": {},
   "source": [
    "#### Inserting incompatible data type"
   ]
  },
  {
   "cell_type": "code",
   "execution_count": null,
   "metadata": {
    "collapsed": true
   },
   "outputs": [],
   "source": [
    "#If insert float into array of integers, the float will be truncated\n",
    "x1[2] = 1.987\n",
    "print(x1)"
   ]
  },
  {
   "cell_type": "markdown",
   "metadata": {},
   "source": [
    "### Array Slicing and Subarrays\n",
    "* array_name[start:stop:step]\n",
    "* start is inclusive and stop is exclusive"
   ]
  },
  {
   "cell_type": "markdown",
   "metadata": {},
   "source": [
    "#### One-dimensional arrays"
   ]
  },
  {
   "cell_type": "code",
   "execution_count": null,
   "metadata": {
    "collapsed": true
   },
   "outputs": [],
   "source": [
    "x = np.arange(25)\n",
    "#First ten elements\n",
    "x[:10]\n",
    "#All elements after index 10\n",
    "x[10:]\n",
    "#All elements between index 10(inclusive) and 20(exclusive)\n",
    "x[10:20]"
   ]
  },
  {
   "cell_type": "code",
   "execution_count": null,
   "metadata": {
    "collapsed": true
   },
   "outputs": [],
   "source": [
    "#Every other element between 0(inclusive) and 10 (exclusive)\n",
    "x[0:10:2]\n",
    "#Every 5th element in the array starting at 0\n",
    "x[0::5]\n",
    "#Every 5th element in the array starting at 0\n",
    "x[10::5]\n",
    "#Every 5th element in the array ending at 15 (exclusive)\n",
    "x[:15:5]"
   ]
  },
  {
   "cell_type": "code",
   "execution_count": null,
   "metadata": {
    "collapsed": true
   },
   "outputs": [],
   "source": [
    "#Using a negative step is a useful way to reverse the array. It swaps start and stop\n",
    "\n",
    "#Every element, in reverse\n",
    "x[::-1]\n",
    "#Every other element, in reverse\n",
    "x[::-2]\n",
    "#Every third element, starting at the 15th element (inclusive) and ending at the 5th element (exculsive)\n",
    "x[15:5:-3]"
   ]
  },
  {
   "cell_type": "markdown",
   "metadata": {},
   "source": [
    "#### Multi-dimensional subarrays"
   ]
  },
  {
   "cell_type": "code",
   "execution_count": null,
   "metadata": {
    "collapsed": true
   },
   "outputs": [],
   "source": [
    "#Get the first 2 rows, and the first 3 columns\n",
    "x2[:2, :3]\n",
    "#Get all rows, and every other column\n",
    "x2[:, ::2]\n",
    "#Reverse only the columns\n",
    "x2[::-1, :]\n",
    "#Reverse only the rows\n",
    "x2[:, ::-1]\n",
    "#Reverse both rows and columns\n",
    "x2[::-1, ::-1]"
   ]
  },
  {
   "cell_type": "code",
   "execution_count": null,
   "metadata": {
    "collapsed": true
   },
   "outputs": [],
   "source": [
    "#Get first row of x2\n",
    "x2[0, :]\n",
    "#Get first column of x2\n",
    "x2[:, 0]\n",
    "#These are equivalent\n",
    "x2[0, :] == x2[0]"
   ]
  },
  {
   "cell_type": "markdown",
   "metadata": {},
   "source": [
    "Some important notes on subarrays:\n",
    "* Subarrays are no-copy views: array slices return views rather than copies of the array daya. In Python, however, slices are copies.\n",
    "* To explicitly copy the data in an array or subarray, use the copy() method."
   ]
  },
  {
   "cell_type": "code",
   "execution_count": null,
   "metadata": {
    "collapsed": true
   },
   "outputs": [],
   "source": [
    "original = np.array([[1, 2, 3], [4, 5, 6]])\n",
    "sub_array = original[1]\n",
    "#Change both sub_array and original\n",
    "sub_array[0] = 100\n",
    "sub_array[2] = 471"
   ]
  },
  {
   "cell_type": "code",
   "execution_count": null,
   "metadata": {
    "collapsed": true
   },
   "outputs": [],
   "source": [
    "original = np.array([[1, 2, 3], [4, 5, 6]])\n",
    "sub_array = (original.copy()[1])\n",
    "#These instructions only change sub_array. original is not modified\n",
    "sub_array[0] = 100\n",
    "sub_array[2] = 471"
   ]
  },
  {
   "cell_type": "markdown",
   "metadata": {},
   "source": [
    "### Reshaping arrays"
   ]
  },
  {
   "cell_type": "code",
   "execution_count": null,
   "metadata": {
    "collapsed": true
   },
   "outputs": [],
   "source": [
    "#For this to work, the size of the initial array must equal the size of the reshaped array\n",
    "#If possible, the reshape method will use a no-copy view of the initial array\n",
    "x = np.arange(1, 10)\n",
    "print(x)\n",
    "x.reshape((3,3))\n",
    "print(x)"
   ]
  },
  {
   "cell_type": "markdown",
   "metadata": {},
   "source": [
    "### Concatenation of arrays"
   ]
  },
  {
   "cell_type": "markdown",
   "metadata": {},
   "source": [
    "#### Arrays with the same dimensions (both one-dimensional and multi-dimensional)"
   ]
  },
  {
   "cell_type": "code",
   "execution_count": null,
   "metadata": {
    "collapsed": true
   },
   "outputs": [],
   "source": [
    "x = np.array([1, 2, 3])\n",
    "y = np.array([4, 5, 6])\n",
    "z = np.array([7, 8, 9])\n",
    "np.concatenate([x, z])\n",
    "np.concatenate([x, y, z])\n",
    "\n",
    "a = ([1, 2, 3], [4, 5, 6])\n",
    "b = ([7, 8, 9], [10, 11, 12])\n"
   ]
  },
  {
   "cell_type": "markdown",
   "metadata": {},
   "source": [
    "#### Arrays with different dimensions\n",
    "Use np.vstack([array1, array2]) and np.hstack([array1, array2])\n"
   ]
  },
  {
   "cell_type": "code",
   "execution_count": null,
   "metadata": {
    "collapsed": true
   },
   "outputs": [],
   "source": [
    "x = np.array([1, 2, 3])\n",
    "a = ([1, 2, 3], [4, 5, 6])\n",
    "b = ([7, 8, 9], [10, 11, 12])\n",
    "\n",
    "np.vstack([x, a])\n",
    "\n",
    "c = ([13],\n",
    "     [13])\n",
    "np.hstack([c, a])"
   ]
  },
  {
   "cell_type": "markdown",
   "metadata": {},
   "source": [
    "### Splitting arrays\n",
    "Use np.split(array, [slice_index]), np.vsplit([row_to_split_on]), and np.hsplit([column_to_split_on])"
   ]
  },
  {
   "cell_type": "code",
   "execution_count": null,
   "metadata": {
    "collapsed": true
   },
   "outputs": [],
   "source": [
    "#Splitting of arrays\n",
    "x = [1, 2, 3, 4, 5, 6, 7, 8, 9]\n",
    "x1, x2, x3 = np.split(x, [3,5])\n",
    "\n",
    "grid = np.array([[0, 1, 2, 3], [4, 5, 6, 7], [8, 9, 10, 11], [12, 13, 14, 15]])\n",
    "upper, lower = np.vsplit(grid, [2])\n",
    "left, right = np.hsplit(grid, [2])"
   ]
  },
  {
   "cell_type": "markdown",
   "metadata": {},
   "source": [
    "### Computation on NumPy Arrays: Universal Functions\n",
    "Vectorized operations in NumPy are implemented via ufuncs, whose main purpose is to quickly execute repeated operations on values in NumPy arrays.\n",
    "Unary ufuncs operate on a single input and binary ufuncs operate on two inputs.\n"
   ]
  },
  {
   "cell_type": "markdown",
   "metadata": {},
   "source": [
    "#### ufuncs operations"
   ]
  },
  {
   "cell_type": "code",
   "execution_count": null,
   "metadata": {
    "collapsed": true
   },
   "outputs": [],
   "source": [
    "x = np.arange(6)\n",
    "print(\"x = \", x)\n",
    "print(\"x + 5 = \", x + 5)\n",
    "print(\"x - 5 = \", x - 5)\n",
    "print(\"x * 2= \", x * 2)\n",
    "print(\"x ^ 2= \", x ** 2)\n",
    "print(\"x / 2= \", x / 2)\n",
    "print(\"x % 2= \", x % 2)\n",
    "print(\"x // 2= \", x // 2) #Floor division\n",
    "print(\"-x = \", -x)\n",
    "print(\"(3 + x) * 2 = \", (3 + x) * 2)\n",
    "\n",
    "x = np.array([-2, -1, 0, 1, 2])\n",
    "abs(x)\n",
    "np.absolute(x)\n",
    "abs(x) == np.absolute(x)"
   ]
  },
  {
   "cell_type": "markdown",
   "metadata": {},
   "source": [
    "### Aggregations\n",
    "Many of NumPy's aggregation operations exist in Python, but NumPy's versions operate more quickly. Here are some of NumPy's aggregation operations:\n",
    "* np.sum: Compute sum of elements\n",
    "* np.prod: Compute product of elements\n",
    "* np.mean: Compute mean of elements\n",
    "* np.std: Compute standard deviation\n",
    "* np.var: Compute variance\n",
    "* np.min: Find minimum value\n",
    "* np.max: Find maximum value\n",
    "* np.argmin: Find index of minimum value\n",
    "* np.argmax: Find index of maximum value\n",
    "* np.median: Compute median of elements\n",
    "* np.percentile: Compute rank-based statistics of elements\n",
    "* np.any: Evaluate whether any elements are true\n",
    "* np.all: Evaluate whether all elements are true\n"
   ]
  },
  {
   "cell_type": "code",
   "execution_count": null,
   "metadata": {
    "collapsed": true
   },
   "outputs": [],
   "source": [
    "x = np.random.random(100)\n",
    "sum(x) #python's sum\n",
    "np.sum(x) #numpy's sum\n",
    "sum(x) == np.sum(x)\n",
    "#Same results, but numpy's version is faster/more efficient\n",
    "#because it executes the operation in compiled code, NumPy's version of the operation is computed much more quickly:"
   ]
  },
  {
   "cell_type": "code",
   "execution_count": null,
   "metadata": {
    "collapsed": true
   },
   "outputs": [],
   "source": [
    "x = np.random.random(100)\n",
    "min(x) #python\n",
    "max(x) #python\n",
    "\n",
    "np.min(x) #Numpy\n",
    "np.max(x) #Numpy\n",
    "\n",
    "np.sum(x)\n",
    "\n",
    "#Multidimensional aggregates\n",
    "x = np.random.random((3, 4))\n",
    "x.sum()\n",
    "\n",
    "x.min(axis=0)  #Aggregation functions take an additional argument specifying the axis along which the aggregate is computed. For example, we can find the minimum value within each column by specifying axis=0:\n",
    "x.max(axis=1)  # Similarly, we can find the maximum value within each row with axis = 1"
   ]
  },
  {
   "cell_type": "markdown",
   "metadata": {},
   "source": [
    "Axis keyword: specifies the dimension of the array that will be collapsed, rather than the dimension that will be returned. So specifying axis=0 means that the first axis will be collapsed: for two-dimensional arrays, this means that values within each column will be aggregated."
   ]
  },
  {
   "cell_type": "markdown",
   "metadata": {},
   "source": [
    "### Broadcasting\n",
    "For arrays of the same size, binary operations are performed on an element-by-element basis. Broadcasting allows these operations to be performed on arrays of different size."
   ]
  },
  {
   "cell_type": "code",
   "execution_count": null,
   "metadata": {
    "collapsed": true
   },
   "outputs": [],
   "source": [
    "a = np.array([0, 1, 2])\n",
    "b = np.array([3, 4, 5])\n",
    "a+b\n",
    "\n",
    "#Adding 1d array to 2d array\n",
    "c = M = np.ones((3, 3))\n",
    "c + a\n",
    "\n",
    "a = np.arange(3)\n",
    "b = np.arange(3)[:, np.newaxis]\n",
    "c = a + b\n",
    "print(a)\n",
    "print(b)\n",
    "print(c)"
   ]
  },
  {
   "cell_type": "markdown",
   "metadata": {},
   "source": [
    "#### Rules of broadcasting\n",
    "1. If the two arrays differ in their number of dimensions, the shape of the one with fewer dimensions is padded with ones on its leading (left) side.\n",
    "2. Rule 2: If the shape of the two arrays does not match in any dimension, the array with shape equal to 1 in that dimension is stretched to match the other shape.\n",
    "3. If in any dimension the sizes disagree and neither is equal to 1, an error is raised."
   ]
  },
  {
   "cell_type": "markdown",
   "metadata": {},
   "source": [
    "### Comparisons and boolean arrays"
   ]
  },
  {
   "cell_type": "code",
   "execution_count": null,
   "metadata": {
    "collapsed": true
   },
   "outputs": [],
   "source": [
    "x = np.array([1, 2, 3, 4, 5])\n",
    "#Will return boolean array. Element will be True if corresponding element in x is less than 3. \n",
    "#Otherwise, element will be False.\n",
    "x < 3\n",
    "x > 3\n",
    "x <= 3\n",
    "x >= 3\n",
    "x == 3\n",
    "x != 3\n",
    "x == x ** 2\n",
    "(2 * x) == x ** 2\n",
    "\n",
    "\"\"\"\n",
    "To count the number of True entries in a Boolean array, np.count_nonzero is useful:\n",
    "\"\"\"\n",
    "np.count_nonzero(x < 3)\n",
    "\n",
    "\"\"\"\n",
    "Another way to get at this information is to use np.sum; in this case, False is interpreted as 0, and True is interpreted as 1:\n",
    "\"\"\"\n",
    "np.sum(x < 3)\n",
    "\n",
    "\"\"\"\n",
    "The benefit of sum() is that like with other NumPy aggregation functions, this summation can be done along rows or columns as well:\n",
    "\"\"\"\n",
    "\n",
    "#If any or all are true\n",
    "np.any(x == 3)\n",
    "np.all(x == 3)\n",
    "np.all(x >= 0)\n",
    "\n",
    "\n",
    "#Boolean Arrays as masks. Will return only the elements in x that are less than 3.\n",
    "x[x<3]"
   ]
  },
  {
   "cell_type": "markdown",
   "metadata": {},
   "source": [
    "### Sorting arrays\n",
    "1. np.sort(array)\n",
    "    * Returns the sorted array. By default, np.sort() uses a quicksort algorithm. Python has a version of this method, but it is much less efficient.\n",
    "2. np.argsort(array)\n",
    "    * Retruns the indices of the sorted elements, instead of the sorted array\n",
    "3. np.partition(array, n)\n",
    "    * Returns a new array with the smallest n values to the left of the partition, and the remaining values to the right. Elements on both sides of the partition are ordered arbitrarily."
   ]
  },
  {
   "cell_type": "code",
   "execution_count": null,
   "metadata": {
    "collapsed": true
   },
   "outputs": [],
   "source": [
    "x = np.array([4, 3, 1, 5, 2])\n",
    "np.sort(x)\n",
    "\n",
    "\n",
    "#To sort the array in-place, use the sort method of arrays:\n",
    "x.sort()\n",
    "print(x)\n"
   ]
  },
  {
   "cell_type": "code",
   "execution_count": null,
   "metadata": {
    "collapsed": true
   },
   "outputs": [],
   "source": [
    "#np.argsort with one-dimensional array\n",
    "x = np.array([4, 3, 1, 5, 2])\n",
    "i = np.argsort(x)\n",
    "print(i)\n",
    "\n",
    "\n",
    "#Sort among rows and columns\n",
    "x = np.array([[8, 5, 4, 6], [2, 7, 1, 2], [9, 3, 4, 6], [4, 8, 6, 4]])\n",
    "print(x)\n",
    "\n",
    "#Sort each column of x\n",
    "np.sort(x, axis=0)\n",
    "#Sort each row of x\n",
    "np.sort(x, axis=1)"
   ]
  },
  {
   "cell_type": "code",
   "execution_count": null,
   "metadata": {
    "collapsed": true
   },
   "outputs": [],
   "source": [
    "x = np.array([61, 13, 39, 44, 26, 7, 31, 88, 6])\n",
    "np.partition(x, 4) #first 4 values are the 4 smallest"
   ]
  }
 ],
 "metadata": {
  "kernelspec": {
   "display_name": "Python 3",
   "language": "python",
   "name": "python3"
  },
  "language_info": {
   "codemirror_mode": {
    "name": "ipython",
    "version": 3
   },
   "file_extension": ".py",
   "mimetype": "text/x-python",
   "name": "python",
   "nbconvert_exporter": "python",
   "pygments_lexer": "ipython3",
   "version": "3.6.1"
  }
 },
 "nbformat": 4,
 "nbformat_minor": 2
}
