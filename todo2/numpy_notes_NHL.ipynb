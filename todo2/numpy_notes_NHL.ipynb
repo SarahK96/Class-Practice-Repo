{
 "cells": [
  {
   "cell_type": "code",
   "execution_count": 9,
   "metadata": {},
   "outputs": [
    {
     "name": "stdout",
     "output_type": "stream",
     "text": [
      "<class 'numpy.ndarray'>\n",
      "<class 'numpy.ndarray'>\n",
      "[20 25 30 25 23 24 29 30 21 22 21 29 30 22 30 25]\n",
      "[22 24 35 26 28 28 30 30 20 19 20 25 30 28 30 26]\n",
      "[ 2 -1  5  1  5  4  1  0 -1 -3 -1 -4  0  6  0  1]\n",
      "[False  True False False False False False False  True  True  True  True\n",
      " False False False False]\n",
      "[-1 -1 -3 -1 -4]\n",
      "the mean proficiency score of jp1 was 25.375\n",
      "the mean proficiency score of jp2 was 26.3125\n",
      "the median proficiency score of jp1 was 25.0\n",
      "the median proficiency score of jp2 was 27.0\n",
      "the japanese learners improved their scores from t1 to t2 by an average of 0.9375 points.\n",
      "standard deviation for jp1 was 3.62068708949 and standard deviation for jp2 was 4.31159410775\n"
     ]
    }
   ],
   "source": [
    "#NH Li, nhl3@pitt.edu, 09/05/17\n",
    "\n",
    "#numpy_notes\n",
    "\n",
    "import numpy as np\n",
    "\n",
    "#example - proficiency tests from time 1 to time 2\n",
    "#created some lists - these are not real data\n",
    "jp_prof1 = [20, 25, 30, 25, 23, 24, 29, 30, 21, 22, 21, 29, 30, 22, 30, 25]\n",
    "jp_prof2 = [22, 24, 35, 26, 28, 28, 30, 30, 20, 19, 20, 25, 30, 28, 30, 26]\n",
    "ch_prof1 = [18, 19, 30, 28, 29, 27, 28, 21, 19, 23, 22, 23, 17, 29, 20, 21]\n",
    "ch_prof2 = [21, 18, 32, 30, 27, 28, 29, 22, 24, 20, 22, 28, 20, 29, 24, 23]\n",
    "sp_prof1 = [21, 22, 21, 27, 29, 24, 25, 21, 26, 19, 30, 27, 21, 25, 21, 20]\n",
    "sp_prof2 = [25, 24, 25, 26, 29, 24, 28, 20, 22, 20, 27, 30, 24, 28, 22, 22]\n",
    "\n",
    "#create numpy array from proficency\n",
    "np_jp1 = np.array(jp_prof1)\n",
    "np_jp2 = np.array(jp_prof2)\n",
    "print(type(np_jp1))\n",
    "print(type(np_jp2))\n",
    "print(np_jp1)\n",
    "print(np_jp2)\n",
    "\n",
    "#print out improvement of proficiency scores from time 1 to time 2\n",
    "#this will create a list of how much each particiapnt improved in their scores from t1 to t2\n",
    "t2_improve = np_jp2 - np_jp1\n",
    "print(t2_improve)\n",
    "\n",
    "#students who did not improve will need to participate in further classes\n",
    "moreclass = t2_improve < 0\n",
    "#printout the score that showed no improvement\n",
    "print(moreclass)\n",
    "#print out the score who will have to take more class\n",
    "print(t2_improve[moreclass])\n",
    "#now we know how many paricipants failed to improve from the jp data and their score\n",
    "\n",
    "#now some basic statistics of the data\n",
    "#find the average and median proficiency scores from t1 to t2 for each L1 background\n",
    "print('the mean proficiency score of jp1 was', np.mean(np_jp1))\n",
    "print('the mean proficiency score of jp2 was', np.mean(np_jp2))\n",
    "print('the median proficiency score of jp1 was', np.median(np_jp1))\n",
    "print('the median proficiency score of jp2 was', np.median(np_jp2))\n",
    "\n",
    "#we can also find out as a group whether they all imrpoved or not\n",
    "\n",
    "jp_t2_improve = np.mean(np_jp2) - np.mean(np_jp1)\n",
    "print('the japanese learners improved their scores from t1 to t2 by an average of', jp_t2_improve, 'points.')\n",
    "\n",
    "#standard deviation of scores\n",
    "jp1stddev = np.std(np_jp1)\n",
    "jp2stddev = np.std(np_jp2)\n",
    "print('standard deviation for jp1 was', jp1stddev, 'and standard deviation for jp2 was', jp2stddev)\n",
    "#this shows that the std deviation was higher in t2 than t1 - so although as a group they improved in scores, there was more variation in t2 than t1 (this is what we can find out)\n",
    "\n"
   ]
  }
 ],
 "metadata": {
  "kernelspec": {
   "display_name": "Python 3",
   "language": "python",
   "name": "python3"
  },
  "language_info": {
   "codemirror_mode": {
    "name": "ipython",
    "version": 3
   },
   "file_extension": ".py",
   "mimetype": "text/x-python",
   "name": "python",
   "nbconvert_exporter": "python",
   "pygments_lexer": "ipython3",
   "version": "3.6.1"
  }
 },
 "nbformat": 4,
 "nbformat_minor": 2
}
