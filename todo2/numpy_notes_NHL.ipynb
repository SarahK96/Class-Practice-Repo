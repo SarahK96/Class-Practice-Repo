{
 "cells": [
  {
   "cell_type": "code",
   "execution_count": 1,
   "metadata": {},
   "outputs": [
    {
     "name": "stdout",
     "output_type": "stream",
     "text": [
      "<class 'numpy.ndarray'>\n",
      "<class 'numpy.ndarray'>\n",
      "[20 25 30 25 23]\n",
      "[22 24 35 26 28]\n",
      "[ 2 -1  5  1  5]\n",
      "[False  True False False False]\n",
      "[-1]\n"
     ]
    }
   ],
   "source": [
    "#NH Li, nhl3@pitt.edu, 09/05/17\n",
    "\n",
    "#numpy_notes\n",
    "\n",
    "import numpy as np\n",
    "\n",
    "#example - proficiency tests from time 1 to time 2\n",
    "#created some lists - these are not real data\n",
    "jp_prof1 = [20, 25, 30, 25, 23]\n",
    "jp_prof2 = [22, 24, 35, 26, 28]\n",
    "ch_prof1 = [18, 19, 30, 28, 29]\n",
    "ch_prof2 = [21, 18, 32, 30, 27]\n",
    "sp_prof1 = [21, 22, 21, 27, 29]\n",
    "sp_prof2 = [25, 24, 25, 26, 29]\n",
    "\n",
    "#create numpy array from proficency\n",
    "np_jp1 = np.array(jp_prof1)\n",
    "np_jp2 = np.array(jp_prof2)\n",
    "print(type(np_jp1))\n",
    "print(type(np_jp2))\n",
    "print(np_jp1)\n",
    "print(np_jp2)\n",
    "\n",
    "#print out improvement of proficiency scores from time 1 to time 2\n",
    "#this will create a list of how much each particiapnt improved in their scores from t1 to t2\n",
    "t2_improve = np_jp2 - np_jp1\n",
    "print(t2_improve)\n",
    "\n",
    "#students who did not improve will need to participate in further classes\n",
    "moreclass = t2_improve < 0\n",
    "#printout the score that showed no improvement\n",
    "print(moreclass)\n",
    "#print out the score who will have to take more class\n",
    "print(t2_improve[moreclass])\n",
    "#now we know how many paricipants failed to improve from the jp data and their score\n",
    "\n",
    "#now some basic statistics of the data\n",
    "#find the average proficiency score from t1 to t2 for each L1 background\n",
    "\n",
    "\n"
   ]
  }
 ],
 "metadata": {
  "kernelspec": {
   "display_name": "Python 3",
   "language": "python",
   "name": "python3"
  },
  "language_info": {
   "codemirror_mode": {
    "name": "ipython",
    "version": 3
   },
   "file_extension": ".py",
   "mimetype": "text/x-python",
   "name": "python",
   "nbconvert_exporter": "python",
   "pygments_lexer": "ipython3",
   "version": "3.6.1"
  }
 },
 "nbformat": 4,
 "nbformat_minor": 2
}
