{
 "cells": [
  {
   "cell_type": "markdown",
   "metadata": {},
   "source": [
    "# TO DO 2\n",
    "Notes on Numpy Library (Notes from Python Data Science Handbook)  \n",
    "September 7, 2017"
   ]
  },
  {
   "cell_type": "markdown",
   "metadata": {},
   "source": [
    "# NumPy: Numerical Python"
   ]
  },
  {
   "cell_type": "markdown",
   "metadata": {},
   "source": [
    "- built to store and operate on dense data\n",
    "- \"np\" is conventionally used as the alias \n",
    "- Storing data:\n",
    "    - lists = dynamically typed\n",
    "    - arrays = uniformly typed\n",
    "- NumPy is constrained to uniformly typed arrays\n",
    "    - NumPy is implemented using C"
   ]
  },
  {
   "cell_type": "markdown",
   "metadata": {},
   "source": [
    "## NumPy Arrays\n",
    "- arrays have the following attributes (not all):\n",
    "    1. ndim = number of dimensions\n",
    "    2. shape = size of each dimension\n",
    "    3. size = total size of the array\n",
    "    4. dtype = data type of the array\n",
    "- arrays begin counting from the 0th element\n",
    "    - negative indexing also works\n",
    "    - 2D arrays are accessed using tuples\n",
    "- array values are mutable\n",
    "- array slicing notation: ```x[startInd:stopInd:step]```  \n",
    "- sliced arrays in NumPy are copies\n",
    "- arrays can be \"reshaped\" using the reshape() method"
   ]
  },
  {
   "cell_type": "code",
   "execution_count": 1,
   "metadata": {},
   "outputs": [
    {
     "name": "stdout",
     "output_type": "stream",
     "text": [
      "[[1 2 3]\n",
      " [4 5 6]\n",
      " [7 8 9]]\n"
     ]
    }
   ],
   "source": [
    "# From Python Data Science Handbook\n",
    "import numpy as np\n",
    "grid = np.arange(1, 10).reshape((3,3))\n",
    "print(grid)"
   ]
  },
  {
   "cell_type": "markdown",
   "metadata": {},
   "source": [
    "- other useful NumPy functions:\n",
    "    - concatenate()\n",
    "    - vstack() and hstack() help with mixed dimension arrays\n",
    "    - split()\n",
    "    - vsplit() and hsplit()"
   ]
  },
  {
   "cell_type": "code",
   "execution_count": 2,
   "metadata": {},
   "outputs": [
    {
     "name": "stdout",
     "output_type": "stream",
     "text": [
      "[1 2 3] [99 99] [3 2 1]\n"
     ]
    }
   ],
   "source": [
    "# From Python Data Science Handbook\n",
    "x = [1, 2, 3, 99, 99, 3, 2, 1]\n",
    "x1, x2, x3 = np.split(x, [3, 5])\n",
    "print(x1, x2, x3)"
   ]
  },
  {
   "cell_type": "markdown",
   "metadata": {},
   "source": [
    "- splitting arrays:\n",
    "    - giving N number of split points will return N+1 arrays"
   ]
  },
  {
   "cell_type": "markdown",
   "metadata": {},
   "source": [
    "## Computation on NumPy Arrays\n",
    "- NumPy performs \"vectorized\" operations\n",
    "    - called UFuncs\n",
    "    - use Python's default operators\n",
    "- these operations when performed on an array, perform them on each element"
   ]
  },
  {
   "cell_type": "code",
   "execution_count": 3,
   "metadata": {},
   "outputs": [
    {
     "name": "stdout",
     "output_type": "stream",
     "text": [
      "[1 2 3 4 5 6 7 8 9]\n",
      "x ** 2 =  [ 1  4  9 16 25 36 49 64 81]\n"
     ]
    }
   ],
   "source": [
    "x = np.arange(1, 10)\n",
    "print(x)\n",
    "print('x ** 2 = ', x ** 2)"
   ]
  },
  {
   "cell_type": "markdown",
   "metadata": {},
   "source": [
    "- other computations:\n",
    "    - absolute value\n",
    "    - trig functions\n",
    "    - exponents and logarithmic functions\n",
    "- SciPy is a submodule of NumPy\n",
    "    - provides additional functions\n",
    "    "
   ]
  },
  {
   "cell_type": "markdown",
   "metadata": {},
   "source": [
    "## Aggregations\n",
    "- Sum\n",
    "    - Python's sum() and NumPy's np.sum() are different\n",
    "    - NumPy's runs faster\n",
    "- Min and Max\n",
    "    - use the member functions of NumPy's arrays instead of Python's\n"
   ]
  },
  {
   "cell_type": "markdown",
   "metadata": {},
   "source": [
    "## Broadcasting\n",
    "- another way of performing computation on arrays\n"
   ]
  },
  {
   "cell_type": "code",
   "execution_count": 4,
   "metadata": {},
   "outputs": [
    {
     "name": "stdout",
     "output_type": "stream",
     "text": [
      "[5 6 7]\n",
      "[[ 1.  2.  3.]\n",
      " [ 1.  2.  3.]\n",
      " [ 1.  2.  3.]]\n",
      "[[0 1 2]\n",
      " [1 2 3]\n",
      " [2 3 4]]\n"
     ]
    }
   ],
   "source": [
    "print(np.arange(3)+5)\n",
    "print(np.ones((3, 3))+np.arange(3))\n",
    "print(np.arange(3).reshape((3, 1))+np.arange(3))"
   ]
  },
  {
   "cell_type": "markdown",
   "metadata": {},
   "source": [
    "- Rules of Broadcasting (from Python Data Science Book)\n",
    "    1. If the two arrays differ in their number of dimensions, the shape of the one with fewer dimensions is padded with ones on its leading (left) side.\n",
    "    2. If the shape of the two arrays does not match in any dimension, the array with shape equal to 1 in that dimension is stretched to match the other shape.\n",
    "    3. If in any dimension the sizes disagree and neither is equal to 1, an error is raised."
   ]
  },
  {
   "cell_type": "markdown",
   "metadata": {},
   "source": [
    "## Comparisons, Masks, and Boolean Logic\n",
    "- Ufuncs also implement comparison operators\n",
    "    - NumPy also implements counting function to assist\n",
    "- Boolean logic can be used to mask multidimensional arrays\n"
   ]
  },
  {
   "cell_type": "markdown",
   "metadata": {},
   "source": [
    "## Fancy Indexing\n",
    "- passing in an array of indicies to access multiple elements at once\n",
    "- the shape of the result reflects the shape of the fancy index, rather than the shape of the array being indexed\n",
    "- can be combined with other indexing schemes\n"
   ]
  },
  {
   "cell_type": "code",
   "execution_count": 5,
   "metadata": {},
   "outputs": [
    {
     "data": {
      "text/plain": [
       "[1, 67, 2]"
      ]
     },
     "execution_count": 5,
     "metadata": {},
     "output_type": "execute_result"
    }
   ],
   "source": [
    "x = np.arange(1000)\n",
    "[x[1], x[67], x[2]]"
   ]
  },
  {
   "cell_type": "markdown",
   "metadata": {},
   "source": [
    "## Sorting\n",
    "- NumPy implements its own sort()\n",
    "    - uses QUICKSORT algorithm\n",
    "- using the axis arg, you can sort along only specific rows or columns\n",
    "- sorting can be partitioned"
   ]
  },
  {
   "cell_type": "markdown",
   "metadata": {},
   "source": [
    "## Structured Data\n",
    "- helps relate data that is not the same data type"
   ]
  },
  {
   "cell_type": "code",
   "execution_count": 6,
   "metadata": {},
   "outputs": [
    {
     "name": "stdout",
     "output_type": "stream",
     "text": [
      "[('name', '<U10'), ('age', '<i4'), ('weight', '<f8')]\n"
     ]
    }
   ],
   "source": [
    "# From Python Data Science Handbook\n",
    "data = np.zeros(4, dtype={'names':('name', 'age', 'weight'),\n",
    "                          'formats':('U10', 'i4', 'f8')})\n",
    "print(data.dtype)"
   ]
  },
  {
   "cell_type": "markdown",
   "metadata": {},
   "source": [
    "- U = Unicode\n",
    "- i = integer\n",
    "- f = float"
   ]
  }
 ],
 "metadata": {
  "kernelspec": {
   "display_name": "Python 3",
   "language": "python",
   "name": "python3"
  },
  "language_info": {
   "codemirror_mode": {
    "name": "ipython",
    "version": 3
   },
   "file_extension": ".py",
   "mimetype": "text/x-python",
   "name": "python",
   "nbconvert_exporter": "python",
   "pygments_lexer": "ipython3",
   "version": "3.6.1"
  }
 },
 "nbformat": 4,
 "nbformat_minor": 2
}
