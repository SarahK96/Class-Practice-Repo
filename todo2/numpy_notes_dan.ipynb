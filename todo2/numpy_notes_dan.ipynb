{
 "cells": [
  {
   "cell_type": "markdown",
   "metadata": {},
   "source": [
    "### Learning about NumPy\n"
   ]
  },
  {
   "cell_type": "code",
   "execution_count": 1,
   "metadata": {
    "collapsed": true
   },
   "outputs": [],
   "source": [
    "import numpy as np"
   ]
  },
  {
   "cell_type": "markdown",
   "metadata": {},
   "source": [
    "Turn regular list into numpy array with `np.array()`\n",
    "\n",
    "Mean: `np.mean()`\n",
    "\n",
    "Median: `np.median()`\n",
    "\n",
    "Std Dev: `np.std()`\n",
    "\n",
    "Some interesting numpy array operations are `np.concatenate`, `np.vstack`, `np.hstack`, and `np.dstack`. "
   ]
  },
  {
   "cell_type": "code",
   "execution_count": 2,
   "metadata": {},
   "outputs": [
    {
     "name": "stdout",
     "output_type": "stream",
     "text": [
      "[1 2 3 4 5 6]\n"
     ]
    }
   ],
   "source": [
    "x = np.array([1,2,3])\n",
    "y = np.array([4,5,6])\n",
    "print(np.concatenate([x,y]))"
   ]
  },
  {
   "cell_type": "code",
   "execution_count": 3,
   "metadata": {},
   "outputs": [
    {
     "name": "stdout",
     "output_type": "stream",
     "text": [
      "[1 2 3 4 5 6]\n"
     ]
    }
   ],
   "source": [
    "# this is effectively the same as adding two lists together\n",
    "print(np.array([1,2,3,] + [4,5,6]))\n"
   ]
  },
  {
   "cell_type": "code",
   "execution_count": 4,
   "metadata": {},
   "outputs": [
    {
     "name": "stdout",
     "output_type": "stream",
     "text": [
      "[[1 2 3]\n",
      " [4 5 6]]\n"
     ]
    }
   ],
   "source": [
    "# np.vstack is for vertical stacking\n",
    "\n",
    "print(np.vstack([x,y]))"
   ]
  },
  {
   "cell_type": "code",
   "execution_count": 5,
   "metadata": {},
   "outputs": [
    {
     "name": "stdout",
     "output_type": "stream",
     "text": [
      "[[1 2 3 7]\n",
      " [4 5 6 8]]\n",
      "Error: all the input array dimensions except for the concatenation axis must match exactly\n"
     ]
    }
   ],
   "source": [
    "# np.hstack is for horizontal stacking\n",
    "\n",
    "# this is the same as concatenation for 1d arrays, but changes for higher dimensions.\n",
    "x = np.array([[1, 2, 3],\n",
    "             [4, 5, 6]])\n",
    "y = np.array([[7],\n",
    "              [8]])\n",
    "print(np.hstack([x, y]))\n",
    "try:\n",
    "    print(np.concatenate([x,y]))\n",
    "except Exception as e:\n",
    "    print('Error:', e)"
   ]
  },
  {
   "cell_type": "code",
   "execution_count": 6,
   "metadata": {
    "collapsed": true
   },
   "outputs": [],
   "source": [
    "# np.dstack?"
   ]
  },
  {
   "cell_type": "code",
   "execution_count": 7,
   "metadata": {},
   "outputs": [
    {
     "name": "stdout",
     "output_type": "stream",
     "text": [
      "[[[1 7]\n",
      "  [2 8]\n",
      "  [3 9]]]\n"
     ]
    }
   ],
   "source": [
    "x = np.array([1,2,3])\n",
    "y = np.array([7,8,9])\n",
    "print(np.dstack([x,y]))\n",
    "# weird."
   ]
  },
  {
   "cell_type": "markdown",
   "metadata": {},
   "source": [
    "Copy a numpy array with `.copy()` or `np.copy()`\n",
    "\n",
    "Reshape with `.reshape((x,y))`, but make sure total # of elements is the same.\n"
   ]
  },
  {
   "cell_type": "code",
   "execution_count": 8,
   "metadata": {},
   "outputs": [
    {
     "name": "stdout",
     "output_type": "stream",
     "text": [
      "[ 1  3  5  7  9 11 13 15 17 19]\n",
      "[[ 1  3  5  7  9]\n",
      " [11 13 15 17 19]]\n"
     ]
    }
   ],
   "source": [
    "stuff = np.arange(1,20,2)\n",
    "print(stuff)\n",
    "print(stuff.reshape((2,5)))"
   ]
  },
  {
   "cell_type": "markdown",
   "metadata": {},
   "source": [
    "Split np arrays with `np.split`, `np.hsplit`, `np.vsplit`, and `np.dsplit`. Pass a list of indices giving the split points. "
   ]
  },
  {
   "cell_type": "code",
   "execution_count": 9,
   "metadata": {},
   "outputs": [
    {
     "name": "stdout",
     "output_type": "stream",
     "text": [
      "stuff [ 1  3  5  7  9 11 13 15 17 19]\n",
      "[array([1, 3, 5]), array([ 7,  9, 11, 13, 15, 17]), array([19])]\n",
      "regular split: [1 3 5 7] [ 9 11 13 15 17] [19]\n",
      "horizontal split: [1 3 5 7] [ 9 11 13 15 17] [19]\n",
      "reshaped stuff: [[ 1]\n",
      " [ 3]\n",
      " [ 5]\n",
      " [ 7]\n",
      " [ 9]\n",
      " [11]\n",
      " [13]\n",
      " [15]\n",
      " [17]\n",
      " [19]]\n",
      "vertical split: [[1]\n",
      " [3]\n",
      " [5]\n",
      " [7]] [[ 9]\n",
      " [11]\n",
      " [13]\n",
      " [15]\n",
      " [17]] [[19]]\n",
      "reshaped 3d stuff: [[[ 1  3  5  7  9]\n",
      "  [11 13 15 17 19]]]\n",
      "depth split: [[[ 1]\n",
      "  [11]]] [[[ 3  5  7  9]\n",
      "  [13 15 17 19]]] []\n"
     ]
    }
   ],
   "source": [
    "print('stuff', stuff)\n",
    "print(np.split(stuff, [3,9]))\n",
    "a, b, c = np.split(stuff, [4,9])\n",
    "print('regular split:', a, b, c)\n",
    "a, b, c = np.hsplit(stuff, [4,9])\n",
    "print('horizontal split:', a, b, c)\n",
    "stuff = stuff.reshape((10,1))\n",
    "print('reshaped stuff:', stuff)\n",
    "a, b, c = np.vsplit(stuff, [4,9])\n",
    "print('vertical split:', a, b, c)\n",
    "stuff = stuff.reshape((1,2,5))\n",
    "print('reshaped 3d stuff:', stuff)\n",
    "a, b, c = np.dsplit(stuff, [1,5])\n",
    "print('depth split:', a, b, c)"
   ]
  },
  {
   "cell_type": "markdown",
   "metadata": {},
   "source": [
    "Use numpy UFuncs (universal functions) to do things with vectorized operations! Operators are the same as normal python arithmetic operators. Copied table:\n",
    "\n",
    "\n",
    "\n",
    "Operator\tEquivalent ufunc\tDescription\n",
    "\\+\tnp.add\tAddition (e.g., 1 + 1 = 2)  \n",
    "\\-\tnp.subtract\tSubtraction (e.g., 3 - 2 = 1)  \n",
    "\\-\tnp.negative\tUnary negation (e.g., -2)  \n",
    "\\*\tnp.multiply\tMultiplication (e.g., 2 * 3 = 6)  \n",
    "\n",
    "/\tnp.divide\tDivision (e.g., 3 / 2 = 1.5)  \n",
    "//\tnp.floor_divide\tFloor division (e.g., 3 // 2 = 1)  \n",
    "\\*\\*\tnp.power\tExponentiation (e.g., 2 ** 3 = 8)  \n",
    "%\tnp.mod\tModulus/remainder (e.g., 9 % 4 = 1)  \n"
   ]
  },
  {
   "cell_type": "code",
   "execution_count": null,
   "metadata": {},
   "outputs": [
    {
     "name": "stdout",
     "output_type": "stream",
     "text": [
      "slow multiplication\n"
     ]
    }
   ],
   "source": [
    "def slow_mult(arr, val):\n",
    "    arr = [val*x for x in arr]\n",
    "    return arr\n",
    "def fast_mult(arr, val):\n",
    "    return val*arr\n",
    "\n",
    "arr = np.array([1,2,3,4,5])\n",
    "print('slow multiplication')\n",
    "%timeit slow_mult(arr, 5)\n",
    "print('fast vectorized multiplication')\n",
    "%timeit fast_mult(arr, 5)"
   ]
  },
  {
   "attachments": {},
   "cell_type": "markdown",
   "metadata": {},
   "source": [
    "| Function Name | NaN-safe Version | Description                               |   |   |\n",
    "|---------------|------------------|-------------------------------------------|---|---|\n",
    "| np.sum        | np.nansum        | Compute sum of elements                   |   |   |\n",
    "| np.prod       | np.nanprod       | Compute product of elements               |   |   |\n",
    "| np.mean       | np.nanmean       | Compute mean of elements                  |   |   |\n",
    "| np.std        | np.nanstd        | Compute standard deviation                |   |   |\n",
    "| np.var        | np.nanvar        | Compute variance                          |   |   |\n",
    "| np.min        | np.nanmin        | Find minimum value                        |   |   |\n",
    "| np.max        | np.nanmax        | Find maximum value                        |   |   |\n",
    "| np.argmin     | np.nanargmin     | Find index of minimum value               |   |   |\n",
    "| np.argmax     | np.nanargmax     | Find index of maximum value               |   |   |\n",
    "| np.median     | np.nanmedian     | Compute median of elements                |   |   |\n",
    "| np.percentile | np.nanpercentile | Compute rank-based statistics of elements |   |   |\n",
    "| np.any        | N/A              | Evaluate whether any elements are true    |   |   |\n",
    "| np.all        | N/A              | Evaluate whether all elements are true    |   |   |\n",
    "\n",
    "made with http://www.tablesgenerator.com/markdown_tables\n",
    "** broadcasting**\n",
    "kind of intuitive, but link [here](https://jakevdp.github.io/PythonDataScienceHandbook/02.05-computation-on-arrays-broadcasting.html)\n"
   ]
  },
  {
   "cell_type": "code",
   "execution_count": null,
   "metadata": {
    "collapsed": true
   },
   "outputs": [],
   "source": []
  },
  {
   "cell_type": "code",
   "execution_count": null,
   "metadata": {
    "collapsed": true
   },
   "outputs": [],
   "source": []
  }
 ],
 "metadata": {
  "kernelspec": {
   "display_name": "Python 3",
   "language": "python",
   "name": "python3"
  },
  "language_info": {
   "codemirror_mode": {
    "name": "ipython",
    "version": 3
   },
   "file_extension": ".py",
   "mimetype": "text/x-python",
   "name": "python",
   "nbconvert_exporter": "python",
   "pygments_lexer": "ipython3",
   "version": "3.5.2"
  }
 },
 "nbformat": 4,
 "nbformat_minor": 2
}
