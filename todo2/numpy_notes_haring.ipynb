{
 "cells": [
  {
   "cell_type": "markdown",
   "metadata": {},
   "source": [
    "### Introduction to NumPy (Numerical Python)\n",
    "- We can think of all data as arrays of numbers\n",
    "    - images: 2d array of numbers representing pixel brightness\n",
    "    - sound clips: 1d arrays of intensity v. time\n",
    "- The first step to making data \"analyzable\" is to transform it into arrays of numbers\n",
    "- NumPy arrays from the core of almost all data science tools in Python\n"
   ]
  },
  {
   "cell_type": "markdown",
   "metadata": {},
   "source": [
    "### Understanding Data Types in Python\n",
    "- How can we store an manipulate data?\n",
    "- **Note:** in Python, data types are *dynamically inferred*, which is different from Java where you must declare all variable types explicitly\n",
    "    - Python variables have \"type-flexibility\", which makes them more than just their value\n",
    "\n",
    "What is actually happening when I type:\n"
   ]
  },
  {
   "cell_type": "code",
   "execution_count": 1,
   "metadata": {
    "collapsed": true
   },
   "outputs": [],
   "source": [
    "x = 100"
   ]
  },
  {
   "cell_type": "markdown",
   "metadata": {},
   "source": [
    "- x becomes a pointer to a *compound C structure* with these components\n",
    "    - ob_refcnt: reference count for handling memory\n",
    "    - ob_type: encodes type of variable\n",
    "    - ob_size: size of the data members\n",
    "    - ob_digit: contains actual integer value the varaible should represent\n",
    "\n",
    "**Meaning there is a lot of overhead when you just declare an int!**\n",
    "\n",
    "- A Python integer is more like an object than a primitive type- pointer to position in memory with all object's data\n",
    "- Consider a list with LOTS of data in it.\n",
    "    - In Python, the elements don't have to be the same type because each variable keeps track of lots of info to make it dynamic\n",
    "    - If all of the elements in our list are going to be the same, that's a lot of overhang. We should use something more efficient\n",
    "        - **NumPy Array** is a fixed type array "
   ]
  },
  {
   "cell_type": "markdown",
   "metadata": {},
   "source": [
    "### Fixed-Type Arrays in Python\n",
    "Creating Arrays from Python Lists"
   ]
  },
  {
   "cell_type": "code",
   "execution_count": 4,
   "metadata": {},
   "outputs": [
    {
     "data": {
      "text/plain": [
       "array([2, 4, 6, 8])"
      ]
     },
     "execution_count": 4,
     "metadata": {},
     "output_type": "execute_result"
    }
   ],
   "source": [
    "import numpy as np\n",
    "\n",
    "#create an array\n",
    "#remember all types within array must be the same\n",
    "np.array([2,4,6,8])"
   ]
  },
  {
   "cell_type": "code",
   "execution_count": 5,
   "metadata": {},
   "outputs": [
    {
     "ename": "ValueError",
     "evalue": "setting an array element with a sequence",
     "output_type": "error",
     "traceback": [
      "\u001b[0;31m---------------------------------------------------------------------------\u001b[0m",
      "\u001b[0;31mValueError\u001b[0m                                Traceback (most recent call last)",
      "\u001b[0;32m<ipython-input-5-29ee4bcbf9eb>\u001b[0m in \u001b[0;36m<module>\u001b[0;34m()\u001b[0m\n\u001b[0;32m----> 1\u001b[0;31m \u001b[0mnp\u001b[0m\u001b[0;34m.\u001b[0m\u001b[0marray\u001b[0m\u001b[0;34m(\u001b[0m\u001b[0;34m[\u001b[0m\u001b[0;34m'hi'\u001b[0m\u001b[0;34m,\u001b[0m \u001b[0;36m4\u001b[0m\u001b[0;34m,\u001b[0m \u001b[0;34m(\u001b[0m\u001b[0;36m8\u001b[0m\u001b[0;34m,\u001b[0m\u001b[0;36m9\u001b[0m\u001b[0;34m)\u001b[0m\u001b[0;34m]\u001b[0m\u001b[0;34m)\u001b[0m\u001b[0;34m\u001b[0m\u001b[0m\n\u001b[0m",
      "\u001b[0;31mValueError\u001b[0m: setting an array element with a sequence"
     ]
    }
   ],
   "source": [
    "#This should cause an error\n",
    "np.array(['hi', 4, (8,9)])"
   ]
  },
  {
   "cell_type": "code",
   "execution_count": 7,
   "metadata": {},
   "outputs": [
    {
     "data": {
      "text/plain": [
       "array([ 4.8,  9. ,  7.2,  3. ,  5. ,  6. ])"
      ]
     },
     "execution_count": 7,
     "metadata": {},
     "output_type": "execute_result"
    }
   ],
   "source": [
    "#NumPy will try to cast if possible!\n",
    "#This should cast the ints to floats\n",
    "np.array([4.8, 9, 7.2, 3, 5, 6])"
   ]
  },
  {
   "cell_type": "code",
   "execution_count": 19,
   "metadata": {},
   "outputs": [
    {
     "data": {
      "text/plain": [
       "array([4, 9, 7, 3, 5, 6])"
      ]
     },
     "execution_count": 19,
     "metadata": {},
     "output_type": "execute_result"
    }
   ],
   "source": [
    "#You can also explicitly choose the data type\n",
    "#Note: I'm casting floats to ints. They will lose precision\n",
    "np.array([4.8, 9, 7.2, 3, 5, 6], dtype= 'int')"
   ]
  },
  {
   "cell_type": "code",
   "execution_count": null,
   "metadata": {
    "collapsed": true
   },
   "outputs": [],
   "source": []
  }
 ],
 "metadata": {
  "kernelspec": {
   "display_name": "Python 3",
   "language": "python",
   "name": "python3"
  },
  "language_info": {
   "codemirror_mode": {
    "name": "ipython",
    "version": 3
   },
   "file_extension": ".py",
   "mimetype": "text/x-python",
   "name": "python",
   "nbconvert_exporter": "python",
   "pygments_lexer": "ipython3",
   "version": "3.6.1"
  }
 },
 "nbformat": 4,
 "nbformat_minor": 2
}
