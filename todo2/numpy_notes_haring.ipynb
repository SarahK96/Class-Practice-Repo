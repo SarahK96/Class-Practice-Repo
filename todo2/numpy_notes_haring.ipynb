{
 "cells": [
  {
   "cell_type": "markdown",
   "metadata": {},
   "source": [
    "### Introduction to NumPy (Numerical Python)\n",
    "- We can think of all data as arrays of numbers\n",
    "    - images: 2d array of numbers representing pixel brightness\n",
    "    - sound clips: 1d arrays of intensity v. time\n",
    "- The first step to making data \"analyzable\" is to transform it into arrays of numbers\n",
    "- NumPy arrays from the core of almost all data science tools in Python\n"
   ]
  },
  {
   "cell_type": "markdown",
   "metadata": {},
   "source": [
    "### Understanding Data Types in Python\n",
    "- How can we store an manipulate data?\n",
    "- **Note:** in Python, data types are *dynamically inferred*, which is different from Java where you must declare all variable types explicitly\n",
    "    - Python variables have \"type-flexibility\", which makes them more than just their value\n",
    "\n",
    "What is actually happening when I type:\n"
   ]
  },
  {
   "cell_type": "code",
   "execution_count": 1,
   "metadata": {
    "collapsed": true
   },
   "outputs": [],
   "source": [
    "x = 100"
   ]
  },
  {
   "cell_type": "markdown",
   "metadata": {},
   "source": [
    "- x becomes a pointer to a *compound C structure* with these components\n",
    "    - ob_refcnt: reference count for handling memory\n",
    "    - ob_type: encodes type of variable\n",
    "    - ob_size: size of the data members\n",
    "    - ob_digit: contains actual integer value the varaible should represent\n",
    "\n",
    "**Meaning there is a lot of overhead when you just declare an int!**\n",
    "\n",
    "- A Python integer is more like an object than a primitive type- pointer to position in memory with all object's data\n",
    "- Consider a list with LOTS of data in it.\n",
    "    - In Python, the elements don't have to be the same type because each variable keeps track of lots of info to make it dynamic\n",
    "    - If all of the elements in our list are going to be the same, that's a lot of overhang. We should use something more efficient\n",
    "        - **NumPy Array** is a fixed type array "
   ]
  },
  {
   "cell_type": "markdown",
   "metadata": {},
   "source": [
    "### Fixed-Type Arrays in Python\n",
    "#### Creating Arrays from Python Lists"
   ]
  },
  {
   "cell_type": "code",
   "execution_count": 2,
   "metadata": {},
   "outputs": [
    {
     "data": {
      "text/plain": [
       "array([2, 4, 6, 8])"
      ]
     },
     "execution_count": 2,
     "metadata": {},
     "output_type": "execute_result"
    }
   ],
   "source": [
    "import numpy as np\n",
    "\n",
    "#create an array\n",
    "#remember all types within array must be the same\n",
    "np.array([2,4,6,8])"
   ]
  },
  {
   "cell_type": "code",
   "execution_count": 15,
   "metadata": {},
   "outputs": [
    {
     "data": {
      "text/plain": [
       "array(['hi', '4', 'True'], \n",
       "      dtype='<U4')"
      ]
     },
     "execution_count": 15,
     "metadata": {},
     "output_type": "execute_result"
    }
   ],
   "source": [
    "#What happens if we try different values?\n",
    "np.array(['hi', 4, True])\n",
    "\n",
    "#This is called type coercion"
   ]
  },
  {
   "cell_type": "code",
   "execution_count": 26,
   "metadata": {},
   "outputs": [
    {
     "data": {
      "text/plain": [
       "array([ 4.8,  9. ,  7.2,  3. ,  5. ,  6. ])"
      ]
     },
     "execution_count": 26,
     "metadata": {},
     "output_type": "execute_result"
    }
   ],
   "source": [
    "#NumPy will try to cast up if possible! Above, each element was cast as a string.\n",
    "#This should cast the ints to floats\n",
    "np.array([4.8, 9, 7.2, 3, 5, 6])"
   ]
  },
  {
   "cell_type": "code",
   "execution_count": 5,
   "metadata": {},
   "outputs": [
    {
     "data": {
      "text/plain": [
       "array([4, 9, 7, 3, 5, 6])"
      ]
     },
     "execution_count": 5,
     "metadata": {},
     "output_type": "execute_result"
    }
   ],
   "source": [
    "#You can also explicitly choose the data type\n",
    "#Note: I'm casting floats to ints. They will lose precision\n",
    "np.array([4.8, 9, 7.2, 3, 5, 6], dtype= 'int')"
   ]
  },
  {
   "cell_type": "code",
   "execution_count": 6,
   "metadata": {},
   "outputs": [
    {
     "data": {
      "text/plain": [
       "array([[1, 2, 3],\n",
       "       [4, 5, 6],\n",
       "       [7, 8, 9]])"
      ]
     },
     "execution_count": 6,
     "metadata": {},
     "output_type": "execute_result"
    }
   ],
   "source": [
    "#You can make numpy arrays multidimensional\n",
    "#Inner lists are treated as rows of the 2d array\n",
    "np.array([[1,2,3], [4,5,6], [7,8,9]])"
   ]
  },
  {
   "cell_type": "markdown",
   "metadata": {},
   "source": [
    "#### Creating Arrays from Scratch\n",
    "- np.zeros() creates an array of zeros\n",
    "- np.ones() creates an array of ones\n",
    "- np.full( ,n) creates an array of n\n",
    "- np.arange(start, finish, step_size) creates an array filled with a linear sequence starting at start and printing every step_size number until reaching finish\n",
    "- np.linspace(start, finish, n) creates an array of n values evenly spaced from start to finish\n",
    "\n",
    "etc.\n",
    "\n",
    "The parameters for each of these are ((n,m), dtype= )\n",
    "\n",
    "Creates an nxm matrix of the specified dtype"
   ]
  },
  {
   "cell_type": "code",
   "execution_count": 7,
   "metadata": {},
   "outputs": [
    {
     "data": {
      "text/plain": [
       "array([[0, 0],\n",
       "       [0, 0],\n",
       "       [0, 0],\n",
       "       [0, 0],\n",
       "       [0, 0]])"
      ]
     },
     "execution_count": 7,
     "metadata": {},
     "output_type": "execute_result"
    }
   ],
   "source": [
    "#Examples\n",
    "np.zeros((5,2), int)"
   ]
  },
  {
   "cell_type": "code",
   "execution_count": 8,
   "metadata": {},
   "outputs": [
    {
     "data": {
      "text/plain": [
       "array([ 1.,  1.,  1.,  1.,  1.,  1.])"
      ]
     },
     "execution_count": 8,
     "metadata": {},
     "output_type": "execute_result"
    }
   ],
   "source": [
    "np.ones(6, float)"
   ]
  },
  {
   "cell_type": "code",
   "execution_count": 13,
   "metadata": {},
   "outputs": [
    {
     "data": {
      "text/plain": [
       "array([[13, 13, 13, 13, 13],\n",
       "       [13, 13, 13, 13, 13],\n",
       "       [13, 13, 13, 13, 13],\n",
       "       [13, 13, 13, 13, 13],\n",
       "       [13, 13, 13, 13, 13]])"
      ]
     },
     "execution_count": 13,
     "metadata": {},
     "output_type": "execute_result"
    }
   ],
   "source": [
    "np.full((5,5), 13)"
   ]
  },
  {
   "cell_type": "code",
   "execution_count": 19,
   "metadata": {},
   "outputs": [
    {
     "data": {
      "text/plain": [
       "array([ 1,  6, 11, 16])"
      ]
     },
     "execution_count": 19,
     "metadata": {},
     "output_type": "execute_result"
    }
   ],
   "source": [
    "np.linspace(1,16,4, dtype=int)"
   ]
  },
  {
   "cell_type": "markdown",
   "metadata": {},
   "source": [
    "### DataCamp\n",
    "- Lists are great, but can't do operations over entire collections of data!\n",
    "    - This is essential to data science\n",
    "- NumPy arrays can perform calculations fast over entire lists\n",
    "    - Numpy arrays can only hold ONE type of variable\n"
   ]
  },
  {
   "cell_type": "code",
   "execution_count": 21,
   "metadata": {},
   "outputs": [
    {
     "name": "stdout",
     "output_type": "stream",
     "text": [
      "[ 21.85171573  20.97505669  21.75028214  24.7473475   21.44127836]\n"
     ]
    }
   ],
   "source": [
    "#Example 1: Calculating BMI\n",
    "\n",
    "height = np.array([1.73, 1.68, 1.71, 1.89, 1.79])\n",
    "weight = np.array([65.4, 59.2, 63.6, 88.4, 68.7])\n",
    "\n",
    "#the numpy array performs the following calulations on elements in matching indexes in the two arrays\n",
    "bmi = weight/(height**2)\n",
    "print(bmi)"
   ]
  },
  {
   "cell_type": "code",
   "execution_count": 33,
   "metadata": {},
   "outputs": [
    {
     "name": "stdout",
     "output_type": "stream",
     "text": [
      "24.7473474987\n",
      "[ True False  True  True  True]\n",
      "[ 21.85171573  21.75028214  24.7473475   21.44127836]\n",
      "[ 24.7473475]\n"
     ]
    }
   ],
   "source": [
    "#We can still index np.arrays like a list\n",
    "print(bmi[3])\n",
    "\n",
    "#Now though, we can use booleans to filter a return from a list!\n",
    "#The following returns a list of booleans. True means the element is greater than 21\n",
    "print(bmi>21)\n",
    "\n",
    "#You can use this inequality as an index to get the values of the array instead of the booleans\n",
    "#Use a result of a comparison to make a selection from your data!\n",
    "print(bmi[bmi>21])\n",
    "print(bmi[bmi>23])"
   ]
  },
  {
   "cell_type": "code",
   "execution_count": 14,
   "metadata": {},
   "outputs": [
    {
     "name": "stdout",
     "output_type": "stream",
     "text": [
      "[ 90.5  82.   78.   89.   87.7  89.5  95. ]\n"
     ]
    }
   ],
   "source": [
    "#Example 2: Inspired by lightweight baseball players\n",
    "\n",
    "#Create an array of students' grades\n",
    "\n",
    "grades = np.array([90.5, 82.0, 78.0, 52.0, 64.3, 89.0, 87.7, 67.0, 89.5, 95.0])\n",
    "\n",
    "#Create arrays passing grades\n",
    "passing = grades[grades>70]\n",
    "\n",
    "#Print out passing scores\n",
    "print(passing)"
   ]
  },
  {
   "cell_type": "markdown",
   "metadata": {},
   "source": [
    "Another difference between lists and NumPy arrays is what the following operations do:\n",
    "+, -, /, *"
   ]
  },
  {
   "cell_type": "code",
   "execution_count": 16,
   "metadata": {},
   "outputs": [
    {
     "name": "stdout",
     "output_type": "stream",
     "text": [
      "[4 5 2]\n"
     ]
    }
   ],
   "source": [
    "#Example 3: What would happen with np.array([True, 1, 2]) + np.array([3, 4, False])?\n",
    "\n",
    "value = np.array([True, 1, 2]) + np.array([3, 4, False])\n",
    "\n",
    "#The booleans True and False are not ints. Are these converted into arrays of strings to make each type uniform?\n",
    "\n",
    "print(value)"
   ]
  },
  {
   "cell_type": "code",
   "execution_count": 18,
   "metadata": {},
   "outputs": [
    {
     "name": "stdout",
     "output_type": "stream",
     "text": [
      "[ True  True False  True]\n"
     ]
    }
   ],
   "source": [
    "#What happened? True is cast as the int 1, False as the int 0. Then addition.\n",
    "\n",
    "#What happens when adding arrays of booleans?\n",
    "\n",
    "tf = np.array([True, True, False, False])+np.array([False, True, False, True])\n",
    "\n",
    "print(tf)"
   ]
  },
  {
   "cell_type": "code",
   "execution_count": 20,
   "metadata": {},
   "outputs": [
    {
     "ename": "TypeError",
     "evalue": "ufunc 'add' did not contain a loop with signature matching types dtype('<U5') dtype('<U5') dtype('<U5')",
     "output_type": "error",
     "traceback": [
      "\u001b[0;31m---------------------------------------------------------------------------\u001b[0m",
      "\u001b[0;31mTypeError\u001b[0m                                 Traceback (most recent call last)",
      "\u001b[0;32m<ipython-input-20-5e7130c2db6e>\u001b[0m in \u001b[0;36m<module>\u001b[0;34m()\u001b[0m\n\u001b[1;32m      3\u001b[0m \u001b[0;31m#How about with arrays of strings? Does it concatonate each element to the matching index of the other array?\u001b[0m\u001b[0;34m\u001b[0m\u001b[0;34m\u001b[0m\u001b[0m\n\u001b[1;32m      4\u001b[0m \u001b[0;34m\u001b[0m\u001b[0m\n\u001b[0;32m----> 5\u001b[0;31m \u001b[0mstringsum\u001b[0m \u001b[0;34m=\u001b[0m \u001b[0mnp\u001b[0m\u001b[0;34m.\u001b[0m\u001b[0marray\u001b[0m\u001b[0;34m(\u001b[0m\u001b[0;34m[\u001b[0m\u001b[0;34m'hello'\u001b[0m\u001b[0;34m]\u001b[0m\u001b[0;34m)\u001b[0m\u001b[0;34m+\u001b[0m\u001b[0mnp\u001b[0m\u001b[0;34m.\u001b[0m\u001b[0marray\u001b[0m\u001b[0;34m(\u001b[0m\u001b[0;34m[\u001b[0m\u001b[0;34m'hi'\u001b[0m\u001b[0;34m]\u001b[0m\u001b[0;34m)\u001b[0m\u001b[0;34m\u001b[0m\u001b[0m\n\u001b[0m\u001b[1;32m      6\u001b[0m \u001b[0;34m\u001b[0m\u001b[0m\n\u001b[1;32m      7\u001b[0m \u001b[0mprint\u001b[0m\u001b[0;34m(\u001b[0m\u001b[0mstringsum\u001b[0m\u001b[0;34m)\u001b[0m\u001b[0;34m\u001b[0m\u001b[0m\n",
      "\u001b[0;31mTypeError\u001b[0m: ufunc 'add' did not contain a loop with signature matching types dtype('<U5') dtype('<U5') dtype('<U5')"
     ]
    }
   ],
   "source": [
    "#If there is one True in the sum, the answer is True. If there are no Trues, the answer is False.\n",
    "\n",
    "#How about with arrays of strings? Does it concatonate each element to the matching index of the other array?\n",
    "\n",
    "stringsum = np.array(['hello'])+np.array(['hi'])\n",
    "\n",
    "print(stringsum)"
   ]
  },
  {
   "cell_type": "code",
   "execution_count": null,
   "metadata": {
    "collapsed": true
   },
   "outputs": [],
   "source": [
    "#Looks like we can't add strings in an array."
   ]
  }
 ],
 "metadata": {
  "kernelspec": {
   "display_name": "Python 3",
   "language": "python",
   "name": "python3"
  },
  "language_info": {
   "codemirror_mode": {
    "name": "ipython",
    "version": 3
   },
   "file_extension": ".py",
   "mimetype": "text/x-python",
   "name": "python",
   "nbconvert_exporter": "python",
   "pygments_lexer": "ipython3",
   "version": "3.6.1"
  }
 },
 "nbformat": 4,
 "nbformat_minor": 2
}
