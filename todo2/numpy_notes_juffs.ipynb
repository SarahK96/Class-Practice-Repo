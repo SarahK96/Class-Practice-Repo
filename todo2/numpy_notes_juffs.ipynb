{
 "cells": [
  {
   "cell_type": "markdown",
   "metadata": {},
   "source": [
    "Alan Juffs. juffs@pitt.edu. 09/07/2017. Numpy Notes"
   ]
  },
  {
   "cell_type": "markdown",
   "metadata": {},
   "source": [
    "These are the numpy notes for 'To Do 2'"
   ]
  },
  {
   "cell_type": "markdown",
   "metadata": {},
   "source": [
    "Numpy is a program used to perform analysis on data sets, which are more complex than simple lists.\n",
    "This is done by creating 'arrays' as explained in Data Camp. An example of two lists is in (1), scores on two tests of ESL profiency. Once entered as a list, the list can be called and produced an 'out', confirming the list."
   ]
  },
  {
   "cell_type": "code",
   "execution_count": 3,
   "metadata": {},
   "outputs": [
    {
     "data": {
      "text/plain": [
       "[10, 8, 8, 7, 5, 8, 7, 6, 1, 9]"
      ]
     },
     "execution_count": 3,
     "metadata": {},
     "output_type": "execute_result"
    }
   ],
   "source": [
    "ScoreT1 = [10, 8, 8, 7, 5, 8, 7, 6, 1, 9]\n",
    "ScoreT2 = [9, 9, 5, 7, 6, 9, 10, 6, 4, 10]\n",
    "ScoreT1"
   ]
  },
  {
   "cell_type": "markdown",
   "metadata": {},
   "source": [
    "These two lists are useful basic lists, but numpy allows us to carry out calculations and to manipulate them. numpy is a function that can be 'called' in Python. Once called, it can be used to carry out manipulations of lists. "
   ]
  },
  {
   "cell_type": "code",
   "execution_count": 4,
   "metadata": {
    "collapsed": true
   },
   "outputs": [],
   "source": [
    "import numpy as np"
   ]
  },
  {
   "cell_type": "markdown",
   "metadata": {},
   "source": [
    "numpy allows a researcher to combine lists into an 'array' in order to carry out more sophisticated operations on a data set. For example, the Scores for Time 1(T1) and Time 2 (Time2) can be combined and then operations performed on them. If we try and do a statistical operations on two lists, it won't work. For example, we might be interested in correlating T1 and and T2 scores, but this produces an error:"
   ]
  },
  {
   "cell_type": "code",
   "execution_count": 5,
   "metadata": {},
   "outputs": [
    {
     "ename": "TypeError",
     "evalue": "'numpy.float64' object is not callable",
     "output_type": "error",
     "traceback": [
      "\u001b[0;31m---------------------------------------------------------------------------\u001b[0m",
      "\u001b[0;31mTypeError\u001b[0m                                 Traceback (most recent call last)",
      "\u001b[0;32m<ipython-input-5-0c57f95e3c75>\u001b[0m in \u001b[0;36m<module>\u001b[0;34m()\u001b[0m\n\u001b[0;32m----> 1\u001b[0;31m \u001b[0mnp\u001b[0m\u001b[0;34m.\u001b[0m\u001b[0mcorrcoef\u001b[0m \u001b[0;34m(\u001b[0m\u001b[0mScoreT1\u001b[0m\u001b[0;34m)\u001b[0m \u001b[0;34m(\u001b[0m\u001b[0mScoreT2\u001b[0m\u001b[0;34m)\u001b[0m\u001b[0;34m\u001b[0m\u001b[0m\n\u001b[0m",
      "\u001b[0;31mTypeError\u001b[0m: 'numpy.float64' object is not callable"
     ]
    }
   ],
   "source": [
    "np.corrcoef (ScoreT1) (ScoreT2)"
   ]
  },
  {
   "cell_type": "markdown",
   "metadata": {},
   "source": [
    "Instead, we need to create an 'array' of the two sets of scores. "
   ]
  },
  {
   "cell_type": "code",
   "execution_count": 7,
   "metadata": {
    "collapsed": true
   },
   "outputs": [],
   "source": [
    "np_2d = np.array ([[10, 8, 8, 7, 5, 8, 7, 6, 1, 9], [9, 9, 5, 7, 6, 9, 10, 6, 4, 10]])\n"
   ]
  },
  {
   "cell_type": "markdown",
   "metadata": {},
   "source": [
    "Now the data are in one table and can be manipulated: the data can be examined thus:"
   ]
  },
  {
   "cell_type": "code",
   "execution_count": 11,
   "metadata": {},
   "outputs": [
    {
     "data": {
      "text/plain": [
       "array([[10,  8,  8,  7,  5,  8,  7,  6,  1,  9],\n",
       "       [ 9,  9,  5,  7,  6,  9, 10,  6,  4, 10]])"
      ]
     },
     "execution_count": 11,
     "metadata": {},
     "output_type": "execute_result"
    }
   ],
   "source": [
    "np_2d"
   ]
  },
  {
   "cell_type": "code",
   "execution_count": 12,
   "metadata": {},
   "outputs": [
    {
     "data": {
      "text/plain": [
       "(2, 10)"
      ]
     },
     "execution_count": 12,
     "metadata": {},
     "output_type": "execute_result"
    }
   ],
   "source": [
    "np_2d.shape"
   ]
  },
  {
   "cell_type": "markdown",
   "metadata": {},
   "source": [
    "These two commands tell us that the data are successfully loaded into an array that has 2 rows and 10 columns. Now we can ask for means of the two sets of scores and standard deviations."
   ]
  },
  {
   "cell_type": "code",
   "execution_count": 15,
   "metadata": {},
   "outputs": [
    {
     "data": {
      "text/plain": [
       "9.5"
      ]
     },
     "execution_count": 15,
     "metadata": {},
     "output_type": "execute_result"
    }
   ],
   "source": [
    "np.mean(np_2d[:,0])"
   ]
  },
  {
   "cell_type": "code",
   "execution_count": 21,
   "metadata": {},
   "outputs": [
    {
     "data": {
      "text/plain": [
       "0.5"
      ]
     },
     "execution_count": 21,
     "metadata": {},
     "output_type": "execute_result"
    }
   ],
   "source": [
    "np.std(np_2d[:,0])"
   ]
  },
  {
   "cell_type": "code",
   "execution_count": 16,
   "metadata": {},
   "outputs": [
    {
     "data": {
      "text/plain": [
       "6.9000000000000004"
      ]
     },
     "execution_count": 16,
     "metadata": {},
     "output_type": "execute_result"
    }
   ],
   "source": [
    "np.mean(np_2d[0,:])"
   ]
  },
  {
   "cell_type": "code",
   "execution_count": 19,
   "metadata": {},
   "outputs": [
    {
     "name": "stdout",
     "output_type": "stream",
     "text": [
      "Help on function corrcoef in module numpy.lib.function_base:\n",
      "\n",
      "corrcoef(x, y=None, rowvar=1, bias=<class 'numpy._globals._NoValue'>, ddof=<class 'numpy._globals._NoValue'>)\n",
      "    Return Pearson product-moment correlation coefficients.\n",
      "    \n",
      "    Please refer to the documentation for `cov` for more detail.  The\n",
      "    relationship between the correlation coefficient matrix, `R`, and the\n",
      "    covariance matrix, `C`, is\n",
      "    \n",
      "    .. math:: R_{ij} = \\frac{ C_{ij} } { \\sqrt{ C_{ii} * C_{jj} } }\n",
      "    \n",
      "    The values of `R` are between -1 and 1, inclusive.\n",
      "    \n",
      "    Parameters\n",
      "    ----------\n",
      "    x : array_like\n",
      "        A 1-D or 2-D array containing multiple variables and observations.\n",
      "        Each row of `x` represents a variable, and each column a single\n",
      "        observation of all those variables. Also see `rowvar` below.\n",
      "    y : array_like, optional\n",
      "        An additional set of variables and observations. `y` has the same\n",
      "        shape as `x`.\n",
      "    rowvar : int, optional\n",
      "        If `rowvar` is non-zero (default), then each row represents a\n",
      "        variable, with observations in the columns. Otherwise, the relationship\n",
      "        is transposed: each column represents a variable, while the rows\n",
      "        contain observations.\n",
      "    bias : _NoValue, optional\n",
      "        Has no effect, do not use.\n",
      "    \n",
      "        .. deprecated:: 1.10.0\n",
      "    ddof : _NoValue, optional\n",
      "        Has no effect, do not use.\n",
      "    \n",
      "        .. deprecated:: 1.10.0\n",
      "    \n",
      "    Returns\n",
      "    -------\n",
      "    R : ndarray\n",
      "        The correlation coefficient matrix of the variables.\n",
      "    \n",
      "    See Also\n",
      "    --------\n",
      "    cov : Covariance matrix\n",
      "    \n",
      "    Notes\n",
      "    -----\n",
      "    Due to floating point rounding the resulting array may not be Hermitian,\n",
      "    the diagonal elements may not be 1, and the elements may not satisfy the\n",
      "    inequality abs(a) <= 1. The real and imaginary parts are clipped to the\n",
      "    interval [-1,  1] in an attempt to improve on that situation but is not\n",
      "    much help in the complex case.\n",
      "    \n",
      "    This function accepts but discards arguments `bias` and `ddof`.  This is\n",
      "    for backwards compatibility with previous versions of this function.  These\n",
      "    arguments had no effect on the return values of the function and can be\n",
      "    safely ignored in this and previous versions of numpy.\n",
      "\n"
     ]
    }
   ],
   "source": [
    "help(np.corrcoef)"
   ]
  },
  {
   "cell_type": "markdown",
   "metadata": {},
   "source": [
    "It turns out that a correlation doesn't work well. Instead, it seems the scores have to be in an array that pairs the scores: [10, 9], using the transpose command based on the example in DataCamp."
   ]
  },
  {
   "cell_type": "code",
   "execution_count": 23,
   "metadata": {},
   "outputs": [
    {
     "data": {
      "text/plain": [
       "array([[10,  9],\n",
       "       [ 8,  9],\n",
       "       [ 8,  5],\n",
       "       [ 7,  7],\n",
       "       [ 5,  6],\n",
       "       [ 8,  9],\n",
       "       [ 7, 10],\n",
       "       [ 6,  6],\n",
       "       [ 1,  4],\n",
       "       [ 9, 10]])"
      ]
     },
     "execution_count": 23,
     "metadata": {},
     "output_type": "execute_result"
    }
   ],
   "source": [
    "np_2d.transpose()"
   ]
  },
  {
   "cell_type": "code",
   "execution_count": 24,
   "metadata": {},
   "outputs": [
    {
     "data": {
      "text/plain": [
       "array([[ 1., -1.],\n",
       "       [-1.,  1.]])"
      ]
     },
     "execution_count": 24,
     "metadata": {},
     "output_type": "execute_result"
    }
   ],
   "source": [
    "np.corrcoef(np_2d[:,0], np_2d[:,1])"
   ]
  },
  {
   "cell_type": "markdown",
   "metadata": {},
   "source": [
    "However, this does not produce the correct correlation coefficient. The scores are not perfectly negatively correlated! Frustrating! "
   ]
  },
  {
   "cell_type": "code",
   "execution_count": 26,
   "metadata": {},
   "outputs": [
    {
     "data": {
      "text/plain": [
       "9.5"
      ]
     },
     "execution_count": 26,
     "metadata": {},
     "output_type": "execute_result"
    }
   ],
   "source": [
    "np.mean(np_2d[:,0])"
   ]
  },
  {
   "cell_type": "code",
   "execution_count": null,
   "metadata": {
    "collapsed": true
   },
   "outputs": [],
   "source": [
    "np.(np_2d[:,0])"
   ]
  },
  {
   "cell_type": "code",
   "execution_count": 27,
   "metadata": {},
   "outputs": [
    {
     "data": {
      "text/plain": [
       "6.9000000000000004"
      ]
     },
     "execution_count": 27,
     "metadata": {},
     "output_type": "execute_result"
    }
   ],
   "source": [
    "np.mean(np_2d[0,:])"
   ]
  },
  {
   "cell_type": "code",
   "execution_count": null,
   "metadata": {
    "collapsed": true
   },
   "outputs": [],
   "source": []
  }
 ],
 "metadata": {
  "kernelspec": {
   "display_name": "Python 3",
   "language": "python",
   "name": "python3"
  },
  "language_info": {
   "codemirror_mode": {
    "name": "ipython",
    "version": 3
   },
   "file_extension": ".py",
   "mimetype": "text/x-python",
   "name": "python",
   "nbconvert_exporter": "python",
   "pygments_lexer": "ipython3",
   "version": "3.6.1"
  }
 },
 "nbformat": 4,
 "nbformat_minor": 2
}
