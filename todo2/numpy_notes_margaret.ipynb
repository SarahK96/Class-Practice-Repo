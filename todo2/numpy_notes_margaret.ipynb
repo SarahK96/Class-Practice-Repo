{
 "cells": [
  {
   "cell_type": "markdown",
   "metadata": {},
   "source": [
    "# Containers  \n",
    "-Lists  \n",
    "-Dictionaries  \n",
    "-Sets  \n",
    "-Tuples"
   ]
  },
  {
   "cell_type": "markdown",
   "metadata": {},
   "source": [
    "# Lists  \n",
    "-Indexing starts at 0  \n",
    "-Can be any data type, you don't have to declare  \n",
    "-Slicing"
   ]
  },
  {
   "cell_type": "code",
   "execution_count": 4,
   "metadata": {},
   "outputs": [
    {
     "name": "stdout",
     "output_type": "stream",
     "text": [
      "['living room', 7.09, 'bathroom', 19.2]\n",
      "['bedroom', 8.12, 'kitchen', 11.6]\n"
     ]
    }
   ],
   "source": [
    "#An example of slicing\n",
    "areas = [\"living room\", 7.09, \"bathroom\", 19.2, \"bedroom\", 8.12, \"kitchen\", 11.6]\n",
    "\n",
    "upstairs = areas[:4]          #you don't have to specify if the first is the beginning; second is exclusive\n",
    "downstairs = areas[-4:]       #you can use negatives (these start at -1); don't have to specify if last\n",
    "\n",
    "print(upstairs)\n",
    "print(downstairs)"
   ]
  },
  {
   "cell_type": "markdown",
   "metadata": {},
   "source": [
    "# Dictionaries  \n",
    "-A dictionary stores (key, value) pairs, similar to a Map in Java or an object in Javascript.  \n",
    "-You can treat these similar to lists, they just have pairs"
   ]
  },
  {
   "cell_type": "code",
   "execution_count": 5,
   "metadata": {},
   "outputs": [
    {
     "name": "stdout",
     "output_type": "stream",
     "text": [
      "cute\n",
      "True\n",
      "wet\n",
      "N/A\n",
      "wet\n",
      "N/A\n"
     ]
    }
   ],
   "source": [
    "d = {'cat': 'cute', 'dog': 'furry'}  # Create a new dictionary with some data\n",
    "print(d['cat'])                      # Get an entry from a dictionary; prints \"cute\"\n",
    "print('cat' in d)                    # Check if a dictionary has a given key; prints \"True\"\n",
    "d['fish'] = 'wet'                    # Set an entry in a dictionary\n",
    "print(d['fish'])                     # Prints \"wet\"\n",
    "# print(d['monkey'])                 # KeyError: 'monkey' not a key of d\n",
    "print(d.get('monkey', 'N/A'))        # Get an element with a default; prints \"N/A\"\n",
    "print(d.get('fish', 'N/A'))          # Get an element with a default; prints \"wet\"\n",
    "del d['fish']                        # Remove an element from a dictionary\n",
    "print(d.get('fish', 'N/A'))          # \"fish\" is no longer a key; prints \"N/A\""
   ]
  },
  {
   "cell_type": "markdown",
   "metadata": {},
   "source": [
    "# Sets  \n",
    "-A set is an unordered collection of distinct elements. (essentially a bag in Java)  "
   ]
  },
  {
   "cell_type": "code",
   "execution_count": 6,
   "metadata": {},
   "outputs": [
    {
     "name": "stdout",
     "output_type": "stream",
     "text": [
      "True\n",
      "False\n",
      "True\n",
      "3\n",
      "3\n",
      "2\n"
     ]
    }
   ],
   "source": [
    "animals = {'cat', 'dog'}\n",
    "print('cat' in animals)   # Check if an element is in a set; prints \"True\"\n",
    "print('fish' in animals)  # prints \"False\"\n",
    "animals.add('fish')       # Add an element to a set\n",
    "print('fish' in animals)  # Prints \"True\"\n",
    "print(len(animals))       # Number of elements in a set; prints \"3\"\n",
    "animals.add('cat')        # Adding an element that is already in the set does nothing\n",
    "print(len(animals))       # Prints \"3\"\n",
    "animals.remove('cat')     # Remove an element from a set\n",
    "print(len(animals))       # Prints \"2\""
   ]
  },
  {
   "cell_type": "markdown",
   "metadata": {},
   "source": [
    "# Tuples  \n",
    "-A tuple is an (immutable) ordered list of values. A tuple is in many ways similar to a list; one of the most important differences is that tuples can be used as keys in dictionaries and as elements of sets, while lists cannot. "
   ]
  },
  {
   "cell_type": "code",
   "execution_count": 7,
   "metadata": {},
   "outputs": [
    {
     "name": "stdout",
     "output_type": "stream",
     "text": [
      "<class 'tuple'>\n",
      "5\n",
      "1\n"
     ]
    }
   ],
   "source": [
    "d = {(x, x + 1): x for x in range(10)}  # Create a dictionary with tuple keys\n",
    "t = (5, 6)                              # Create a tuple\n",
    "print(type(t))                          # Prints \"<class 'tuple'>\"\n",
    "print(d[t])                             # Prints \"5\"\n",
    "print(d[(1, 2)])                        # Prints \"1\""
   ]
  },
  {
   "cell_type": "markdown",
   "metadata": {},
   "source": [
    "# Numpy  \n",
    "-Numpy is the core library for scientific computing in Python.  \n",
    "-It provides a high-performance multidimensional array object, and tools for working with these arrays."
   ]
  },
  {
   "cell_type": "markdown",
   "metadata": {},
   "source": [
    "# Numpy Arrays  \n",
    "-A numpy array is a grid of values, all of the same type, and is indexed by a tuple of nonnegative integers. The number of dimensions is the rank of the array; the shape of an array is a tuple of integers giving the size of the array along each dimension.  \n",
    "-Indexing starts at 0 (like always)  \n",
    "-Initialize numpy arrays from nested Python lists, and access elements using square brackets.   \n",
    "-Numpy also provides many functions to create arrays. (All zeros, ones, etc.; a constant array; a 2x2 identity matrix; and an array filled with random values)  \n",
    "-Slicing works the same in numpy as python, with : and the second position being exclusionary.  \n",
    "-Remember that * is elementwise multiplication, not matrix multiplication. Instead use the dot function to compute inner products of vectors, to multiply a vector by a matrix, and to multiply matrices. dot is available both as a function in the numpy module and as an instance method of array objects.  \n",
    "-For code examples: http://cs231n.github.io/python-numpy-tutorial/#numpy-arrays"
   ]
  }
 ],
 "metadata": {
  "kernelspec": {
   "display_name": "Python 3",
   "language": "python",
   "name": "python3"
  },
  "language_info": {
   "codemirror_mode": {
    "name": "ipython",
    "version": 3
   },
   "file_extension": ".py",
   "mimetype": "text/x-python",
   "name": "python",
   "nbconvert_exporter": "python",
   "pygments_lexer": "ipython3",
   "version": "3.6.1"
  }
 },
 "nbformat": 4,
 "nbformat_minor": 2
}
