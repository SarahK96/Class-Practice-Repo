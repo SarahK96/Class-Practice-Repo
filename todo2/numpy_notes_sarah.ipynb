{
 "cells": [
  {
   "cell_type": "markdown",
   "metadata": {},
   "source": [
    "Sarah Kerman shk83@pitt.edu 9/7/17\n",
    "numpy notes and reference\n",
    "**note: I'm fully aware that these code cells do not actually run. It's more intuitive for me to write method examples with generic variables, so I know what data goes where, instead of initializing example values.**"
   ]
  },
  {
   "cell_type": "code",
   "execution_count": null,
   "metadata": {
    "collapsed": true
   },
   "outputs": [],
   "source": [
    "#always import using alias\n",
    "import numpy as np"
   ]
  },
  {
   "cell_type": "markdown",
   "metadata": {},
   "source": [
    "- use numpy arrays instead of python lists for efficient storage of large data, array operations\n",
    "- data has to be same type, can convert ints up to floats if needed\n",
    "- multidimensional arrays ok"
   ]
  },
  {
   "cell_type": "code",
   "execution_count": 3,
   "metadata": {},
   "outputs": [
    {
     "data": {
      "text/plain": [
       "array([0, 0, 0, 0, 0, 0, 0, 0, 0, 0])"
      ]
     },
     "execution_count": 3,
     "metadata": {},
     "output_type": "execute_result"
    }
   ],
   "source": [
    "#numpy operations\n",
    "#basically anywhere you specify length you can put (x,y) dimensions for multi-dimensional array\n",
    "\n",
    "#convert a python list to numpy array\n",
    "np.array([1,2,3,4,5])\n",
    "\n",
    "#array initialized to zeros\n",
    "np.zeros(10) #len 10\n",
    "\n",
    "#array of some length (or dimensions) filled with some value\n",
    "np.full(len,val)\n",
    "\n",
    "#array containing numeric sequence\n",
    "np.arrange(start,end,step) #just like python range()\n",
    "\n",
    "#array of some number of evenly-spaced values between two endpoints\n",
    "np.linspace(start,end,num_values)\n",
    "\n",
    "#array of random values between 0 and 1\n",
    "np.random.random(len) #just like random.random\n",
    "\n",
    "#array of random ints in some range\n",
    "np.random.randint(start,end,len)\n",
    "\n",
    "#array containing x by x identity matrix\n",
    "np.eye(x)\n"
   ]
  },
  {
   "cell_type": "markdown",
   "metadata": {},
   "source": [
    "- each array has attributes: ndim (num dimensions), shape (size of each dimension), size (total length of array), dtype\n",
    "- indexing a numpy array works exactly like indexing a python list\n",
    "- if you try to put a float into an int array it will be truncated\n",
    "- can slice like python slicing, multidimensional slices\n",
    "- slicing an array returns a view not a copy\n",
    "    - if you modify a slice of an array, you modify that part in the original array\n",
    "    - can process and edit pieces of large data without having to copy data\n",
    "    - can use .copy() to make an actual copy, edits to this will not effect original"
   ]
  },
  {
   "cell_type": "code",
   "execution_count": null,
   "metadata": {
    "collapsed": true
   },
   "outputs": [],
   "source": [
    "#concatenating arrays\n",
    "np.concatenate((x,y)) #can be used on more than 2 at once\n",
    "\n",
    "#splitting arrays\n",
    "np.split(array, [splitpoint1]) #can put in multiple split points as list. N points gives N+1 new arrays\n",
    "\n",
    "#numpy statistics methods (aggregation)\n",
    "np.sum(array) #faster than python sum(), min(), max()\n",
    "np.min(array)\n",
    "np.max(array)\n",
    "#or use:\n",
    "array.sum()\n",
    "array.min()\n",
    "array.max()"
   ]
  },
  {
   "cell_type": "markdown",
   "metadata": {},
   "source": [
    "- can specify axis for aggregation methods (axis=0 will return aggregate value for each column, axis=1 for row) \n",
    "- other aggregation methods:\n",
    "    - np.prod() product of elements\n",
    "    - np.mean()\n",
    "    - np.std() standard deviation of elements\n",
    "    - np.var() variance\n",
    "    - np.argmin()/max() find index of min/max element\n",
    "    - np.median()\n",
    "    - np.any()/all() are any/all elements true\n"
   ]
  }
 ],
 "metadata": {},
 "nbformat": 4,
 "nbformat_minor": 2
}
