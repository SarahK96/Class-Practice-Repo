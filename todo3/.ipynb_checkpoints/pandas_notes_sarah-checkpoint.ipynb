{
 "cells": [
  {
   "cell_type": "markdown",
   "metadata": {},
   "source": [
    "Sarah Kerman shk83@pitt.edu 9/12/17\n",
    "Pandas Notes"
   ]
  },
  {
   "cell_type": "code",
   "execution_count": 8,
   "metadata": {
    "collapsed": true
   },
   "outputs": [],
   "source": [
    "#import using alias like numpy\n",
    "import numpy as np\n",
    "import pandas as pd"
   ]
  },
  {
   "cell_type": "markdown",
   "metadata": {},
   "source": [
    "- pandas objects are like numpy arrays but can be referenced with labels instead of indices\n",
    "- Series object: 1dim array. can be created from python list or numpy array. has index and value attributes\n",
    "    - series.value is a numpy array of values\n",
    "    - elements can be called/sliced like normal\n",
    "    - series.index is the range of indices\n",
    "    - indices will be integers if unspecified (basically a 1d numpy array) but can specify index labels\n",
    "    - labels can be anything, like python dictionary\n",
    "    - series can be constructed directly from python dictionary, but all keys must be same type, values same type\n"
   ]
  },
  {
   "cell_type": "code",
   "execution_count": 10,
   "metadata": {},
   "outputs": [
    {
     "name": "stdout",
     "output_type": "stream",
     "text": [
      "0       4\n",
      "1    4434\n",
      "2     675\n",
      "3      24\n",
      "4     892\n",
      "dtype: int64\n",
      "[   4 4434  675   24  892]\n",
      "RangeIndex(start=0, stop=5, step=1)\n"
     ]
    }
   ],
   "source": [
    "#a pandas Series with unspecified indices\n",
    "data=pd.Series([4,4434,675,24,892])\n",
    "print(data)\n",
    "print(data.values)\n",
    "print(data.index)"
   ]
  },
  {
   "cell_type": "code",
   "execution_count": 11,
   "metadata": {},
   "outputs": [
    {
     "data": {
      "text/plain": [
       "a     12\n",
       "b    435\n",
       "c    574\n",
       "d    678\n",
       "dtype: int64"
      ]
     },
     "execution_count": 11,
     "metadata": {},
     "output_type": "execute_result"
    }
   ],
   "source": [
    "# a pandas Series with specified indices (labels)\n",
    "data2=pd.Series([12,435,574,678],index=['a','b','c','d'])\n",
    "data2"
   ]
  },
  {
   "cell_type": "code",
   "execution_count": null,
   "metadata": {
    "collapsed": true
   },
   "outputs": [],
   "source": []
  }
 ],
 "metadata": {
  "kernelspec": {
   "display_name": "Python 3",
   "language": "python",
   "name": "python3"
  },
  "language_info": {
   "codemirror_mode": {
    "name": "ipython",
    "version": 3
   },
   "file_extension": ".py",
   "mimetype": "text/x-python",
   "name": "python",
   "nbconvert_exporter": "python",
   "pygments_lexer": "ipython3",
   "version": "3.6.1"
  }
 },
 "nbformat": 4,
 "nbformat_minor": 2
}
