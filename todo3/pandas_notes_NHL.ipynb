{
 "cells": [
  {
   "cell_type": "markdown",
   "metadata": {},
   "source": [
    "# Pandas notes\n",
    "    some nots of bao yun"
   ]
  },
  {
   "cell_type": "code",
   "execution_count": 10,
   "metadata": {},
   "outputs": [
    {
     "name": "stdout",
     "output_type": "stream",
     "text": [
      "         L1  Subject  Region    Word  Time  Sentence Case  Order  Reflexive  \\\n",
      "0  Japanese        1       1     ???   464        49    R     23  Simple S1   \n",
      "1  Japanese        1       2     ???   389        49    R     23  Simple S1   \n",
      "2  Japanese        1       3  ??????   409        49    R     23  Simple S1   \n",
      "3  Japanese        1       4     ???   378        49    R     23  Simple S1   \n",
      "4  Japanese        1       5       ?   650        49    R     23  Simple S1   \n",
      "5  Japanese        1       6      TF   764        49    R     23  Simple S1   \n",
      "6  Japanese        2       1     ???   425        49    R     26  Simple S1   \n",
      "7  Japanese        2       2     ???   369        49    R     26  Simple S1   \n",
      "8  Japanese        2       3  ??????   767        49    R     26  Simple S1   \n",
      "9  Japanese        2       4     ???   288        49    R     26  Simple S1   \n",
      "\n",
      "  Predicate  Binding  \n",
      "0    Simple    False  \n",
      "1    Simple    False  \n",
      "2    Simple    False  \n",
      "3    Simple    False  \n",
      "4    Simple    False  \n",
      "5    Simple    False  \n",
      "6    Simple    False  \n",
      "7    Simple    False  \n",
      "8    Simple    False  \n",
      "9    Simple    False  \n"
     ]
    }
   ],
   "source": [
    "#import pandas as pd\n",
    "import pandas as pd\n",
    "\n",
    "#import the csv file\n",
    "rc = pd.read_csv(\"RelativeClauses.csv\")\n",
    "\n",
    "print(rc[:10])"
   ]
  },
  {
   "cell_type": "markdown",
   "metadata": {},
   "source": [
    "This is a csv file from a self paced reading task in Japanese.\n",
    "The sentences are comparing between simple clauses and relative clauses.\n",
    "The L1s are L1 Japanese and L1 Chinese learners of L2 Japanese.\n",
    "All subjects are marked by numeral 1-n\n",
    "The regions indicate the phrase number.\n",
    "When we originally imported the file from LINGER to Excel, something got messed up and all the MS Mincho Japanese font did not carry over (we tried UTF-8 when convering to csv but it still didn't work). But that's not as important.\n",
    "We are going to look at whether there are differences in the critical regions of oblique relative clauses.\n",
    "Thus, the colums of interest are:\n",
    "    L1, Region, Time, and Predicate\n",
    "The rows of interest are only \n",
    "    Region 2, 3, 4\n",
    "This is where some of the weird things may happen for L2 learners."
   ]
  },
  {
   "cell_type": "markdown",
   "metadata": {},
   "source": [
    "Next, we should print out and see some of the info of the columns of interest.\n",
    "We don't need to fix by including an index_col becuase that was already done in the previous work from R (as shown)"
   ]
  },
  {
   "cell_type": "code",
   "execution_count": 11,
   "metadata": {},
   "outputs": [
    {
     "name": "stdout",
     "output_type": "stream",
     "text": [
      "            L1  Region  Time Predicate\n",
      "0     Japanese       1   464    Simple\n",
      "1     Japanese       2   389    Simple\n",
      "2     Japanese       3   409    Simple\n",
      "3     Japanese       4   378    Simple\n",
      "4     Japanese       5   650    Simple\n",
      "5     Japanese       6   764    Simple\n",
      "6     Japanese       1   425    Simple\n",
      "7     Japanese       2   369    Simple\n",
      "8     Japanese       3   767    Simple\n",
      "9     Japanese       4   288    Simple\n",
      "10    Japanese       5   239    Simple\n",
      "11    Japanese       6  1146    Simple\n",
      "12    Japanese       1   353    Simple\n",
      "13    Japanese       2   276    Simple\n",
      "14    Japanese       3   246    Simple\n",
      "15    Japanese       4   524    Simple\n",
      "16    Japanese       5   286    Simple\n",
      "17    Japanese       6   891    Simple\n",
      "18    Japanese       1   473    Simple\n",
      "19    Japanese       2   416    Simple\n",
      "20    Japanese       3   624    Simple\n",
      "21    Japanese       4   316    Simple\n",
      "22    Japanese       5   246    Simple\n",
      "23    Japanese       6   563    Simple\n",
      "24    Japanese       1   591    Simple\n",
      "25    Japanese       2   474    Simple\n",
      "26    Japanese       3   663    Simple\n",
      "27    Japanese       4   325    Simple\n",
      "28    Japanese       5   306    Simple\n",
      "29    Japanese       6  1447    Simple\n",
      "...        ...     ...   ...       ...\n",
      "3694   Chinese       6   363   Oblique\n",
      "3695   Chinese       7   739   Oblique\n",
      "3696   Chinese       1   524   Oblique\n",
      "3697   Chinese       2  1207   Oblique\n",
      "3698   Chinese       3  4735   Oblique\n",
      "3699   Chinese       4   577   Oblique\n",
      "3700   Chinese       5  1027   Oblique\n",
      "3701   Chinese       6  4665   Oblique\n",
      "3702   Chinese       7  2725   Oblique\n",
      "3703   Chinese       1   670   Oblique\n",
      "3704   Chinese       2  1309   Oblique\n",
      "3705   Chinese       3  4170   Oblique\n",
      "3706   Chinese       4   684   Oblique\n",
      "3707   Chinese       5  1557   Oblique\n",
      "3708   Chinese       6  1796   Oblique\n",
      "3709   Chinese       7  1149   Oblique\n",
      "3710   Chinese       1   482   Oblique\n",
      "3711   Chinese       2   673   Oblique\n",
      "3712   Chinese       3  1458   Oblique\n",
      "3713   Chinese       4   891   Oblique\n",
      "3714   Chinese       5   554   Oblique\n",
      "3715   Chinese       6   594   Oblique\n",
      "3716   Chinese       7  1238   Oblique\n",
      "3717   Chinese       1   427   Oblique\n",
      "3718   Chinese       2   699   Oblique\n",
      "3719   Chinese       3  4853   Oblique\n",
      "3720   Chinese       4   559   Oblique\n",
      "3721   Chinese       5   980   Oblique\n",
      "3722   Chinese       6   389   Oblique\n",
      "3723   Chinese       7  1261   Oblique\n",
      "\n",
      "[3724 rows x 4 columns]\n"
     ]
    }
   ],
   "source": [
    "print(rc[['L1', 'Region', 'Time', 'Predicate']])"
   ]
  },
  {
   "cell_type": "markdown",
   "metadata": {},
   "source": [
    "As we can see there are 3723 rows of data, but since there are only 3 rows of interest for each sentence, this will essentially trim down to 3723/3 = 1241 data points of interest.\n",
    "\n",
    "Mind you that if we included Subject and Object relative clauses this would be triple, which is why I am only looking at Subject for now.\n",
    "\n",
    "Next, try to print out a sub data frame that includes only the regions of interest (2, 3, and 4)\n"
   ]
  },
  {
   "cell_type": "code",
   "execution_count": null,
   "metadata": {
    "collapsed": true
   },
   "outputs": [],
   "source": []
  }
 ],
 "metadata": {
  "kernelspec": {
   "display_name": "Python 3",
   "language": "python",
   "name": "python3"
  },
  "language_info": {
   "codemirror_mode": {
    "name": "ipython",
    "version": 3
   },
   "file_extension": ".py",
   "mimetype": "text/x-python",
   "name": "python",
   "nbconvert_exporter": "python",
   "pygments_lexer": "ipython3",
   "version": "3.6.1"
  }
 },
 "nbformat": 4,
 "nbformat_minor": 2
}
