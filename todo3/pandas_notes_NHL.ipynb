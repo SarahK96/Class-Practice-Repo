{
 "cells": [
  {
   "cell_type": "markdown",
   "metadata": {},
   "source": [
    "# Pandas notes\n",
    "    some nots of bao yun"
   ]
  },
  {
   "cell_type": "code",
   "execution_count": 4,
   "metadata": {},
   "outputs": [
    {
     "name": "stdout",
     "output_type": "stream",
     "text": [
      "         L1  Subject  Region    Word  Time  Sentence Case  Order  Reflexive  \\\n",
      "0  Japanese        1       1     ???   464        49    R     23  Simple S1   \n",
      "1  Japanese        1       2     ???   389        49    R     23  Simple S1   \n",
      "2  Japanese        1       3  ??????   409        49    R     23  Simple S1   \n",
      "3  Japanese        1       4     ???   378        49    R     23  Simple S1   \n",
      "4  Japanese        1       5       ?   650        49    R     23  Simple S1   \n",
      "5  Japanese        1       6      TF   764        49    R     23  Simple S1   \n",
      "6  Japanese        2       1     ???   425        49    R     26  Simple S1   \n",
      "7  Japanese        2       2     ???   369        49    R     26  Simple S1   \n",
      "8  Japanese        2       3  ??????   767        49    R     26  Simple S1   \n",
      "9  Japanese        2       4     ???   288        49    R     26  Simple S1   \n",
      "\n",
      "  Predicate  Binding  \n",
      "0    Simple    False  \n",
      "1    Simple    False  \n",
      "2    Simple    False  \n",
      "3    Simple    False  \n",
      "4    Simple    False  \n",
      "5    Simple    False  \n",
      "6    Simple    False  \n",
      "7    Simple    False  \n",
      "8    Simple    False  \n",
      "9    Simple    False  \n"
     ]
    }
   ],
   "source": [
    "#import pandas as pd\n",
    "import pandas as pd\n",
    "\n",
    "#import the csv file\n",
    "rc = pd.read_csv(\"RelativeClauses.csv\")\n",
    "\n",
    "print(rc[:10])"
   ]
  },
  {
   "cell_type": "markdown",
   "metadata": {},
   "source": [
    "This is a csv file from a self paced reading task in Japanese.\n",
    "The sentences are comparing between simple clauses and relative clauses.\n",
    "The L1s are L1 Japanese and L1 Chinese learners of L2 Japanese.\n",
    "All subjects are marked by numeral 1-n\n",
    "The regions indicate the phrase number.\n",
    "When we originally imported the file from LINGER to Excel, something got messed up and all the MS Mincho Japanese font did not carry over (we tried UTF-8 when convering to csv but it still didn't work). But that's not as important.\n",
    "We are going to look at whether there are differences in the critical regions of oblique relative clauses.\n",
    "Thus, the colums of interest are:\n",
    "    L1, Region, Time, and Predicate\n",
    "The rows of interest are only \n",
    "    Region 2, 3, 4\n",
    "This is where some of the weird things may happen for L2 learners."
   ]
  },
  {
   "cell_type": "code",
   "execution_count": null,
   "metadata": {
    "collapsed": true
   },
   "outputs": [],
   "source": []
  }
 ],
 "metadata": {
  "kernelspec": {
   "display_name": "Python 3",
   "language": "python",
   "name": "python3"
  },
  "language_info": {
   "codemirror_mode": {
    "name": "ipython",
    "version": 3
   },
   "file_extension": ".py",
   "mimetype": "text/x-python",
   "name": "python",
   "nbconvert_exporter": "python",
   "pygments_lexer": "ipython3",
   "version": "3.6.1"
  }
 },
 "nbformat": 4,
 "nbformat_minor": 2
}
