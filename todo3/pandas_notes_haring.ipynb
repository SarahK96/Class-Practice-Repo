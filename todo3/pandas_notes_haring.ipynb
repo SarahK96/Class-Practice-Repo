{
 "cells": [
  {
   "cell_type": "markdown",
   "metadata": {},
   "source": [
    "Paige Haring\n",
    "\n",
    "peh40@pitt.edu\n",
    "\n",
    "9.11.17\n",
    "\n",
    "## PANDAS"
   ]
  },
  {
   "cell_type": "markdown",
   "metadata": {},
   "source": [
    "### Intermediate Python for Data Science\n",
    "\n",
    "#### What is Pandas?\n",
    "- Pandas is a newer package built on top of NumPy for effecient implementation of a *DataFrame*\n",
    "    - multidimensional arrays with attached row and column labels\n",
    "    - full of different types\n",
    "    - can have missing data\n",
    "    - good for labeled data!\n",
    "- Pandas helps with things NumPy can't do\n",
    "    - working with labeled data, working with data where some is missing, etc.\n",
    "    - can group and pivot data\n",
    "    - *This is helpful because the data around us isn't always well structured*\n",
    "\n",
    "#### Introducing Pandas Objects\n",
    "A NumPy array whose rows and columns are given labels, not a numerical index\n",
    "\n",
    "##### Series\n",
    "- one-dimensional array of indexed data\n",
    "- can be created from a list or array\n",
    "- wraps both a sequence of values and a sequence of indices\n",
    "    - values: a numpy array of the values you stored\n",
    "    - index: array-like object pd.Index\n",
    "- data can be accessed by the associated index\n",
    "    "
   ]
  },
  {
   "cell_type": "code",
   "execution_count": 4,
   "metadata": {},
   "outputs": [
    {
     "name": "stdout",
     "output_type": "stream",
     "text": [
      "values:  [ 99 100  85  85  70  76  40  59  64  75  75  82  84  83] <class 'numpy.ndarray'>\n",
      "indices:  RangeIndex(start=0, stop=14, step=1) <class 'pandas.core.indexes.range.RangeIndex'>\n"
     ]
    },
    {
     "data": {
      "text/plain": [
       "0      99\n",
       "1     100\n",
       "2      85\n",
       "3      85\n",
       "4      70\n",
       "5      76\n",
       "6      40\n",
       "7      59\n",
       "8      64\n",
       "9      75\n",
       "10     75\n",
       "11     82\n",
       "12     84\n",
       "13     83\n",
       "dtype: int64"
      ]
     },
     "execution_count": 4,
     "metadata": {},
     "output_type": "execute_result"
    }
   ],
   "source": [
    "import numpy as np\n",
    "import pandas as pd\n",
    "\n",
    "#Create series from a list\n",
    "\n",
    "grades = [99, 100, 85, 85, 70, 76, 40, 59, 64, 75, 75, 82, 84, 83]\n",
    "\n",
    "grades_series = pd.Series(grades)\n",
    "\n",
    "print(\"values: \", grades_series.values, type(grades_series.values))\n",
    "print(\"indices: \", grades_series.index, type(grades_series.index))\n",
    "grades_series"
   ]
  },
  {
   "cell_type": "markdown",
   "metadata": {},
   "source": [
    "Series are a lot like regular NumPy arrays, except the indices are *explicitly defined*, meaning they don't have to be integers!\n",
    "- letters\n",
    "- non-sequential integers"
   ]
  },
  {
   "cell_type": "code",
   "execution_count": 10,
   "metadata": {},
   "outputs": [
    {
     "name": "stdout",
     "output_type": "stream",
     "text": [
      "a    2\n",
      "b    4\n",
      "c    6\n",
      "d    8\n",
      "dtype: int64\n"
     ]
    },
    {
     "data": {
      "text/plain": [
       "4"
      ]
     },
     "execution_count": 10,
     "metadata": {},
     "output_type": "execute_result"
    }
   ],
   "source": [
    "#Multiple choice: What is 2*2?\n",
    "answers = pd.Series([2, 4, 6, 8], index=['a', 'b', 'c', 'd'])\n",
    "print(answers)\n",
    "answers['b']"
   ]
  },
  {
   "cell_type": "markdown",
   "metadata": {},
   "source": [
    "Series can also be looked at like Python dictionaries! However, Series keep track of type information (like an array as opposed to a Python list) making it more efficient. You can also perform some cool operations on it."
   ]
  },
  {
   "cell_type": "code",
   "execution_count": 82,
   "metadata": {},
   "outputs": [
    {
     "name": "stdout",
     "output_type": "stream",
     "text": [
      "Alex         95\n",
      "Cary         90\n",
      "Stephanie    70\n",
      "Steven       63\n",
      "dtype: int64 \n",
      "\n",
      "95 \n",
      "\n",
      "Alex         95\n",
      "Cary         90\n",
      "Stephanie    70\n",
      "dtype: int64\n"
     ]
    }
   ],
   "source": [
    "avgs = {'Cary': 90, 'Alex': 95, 'Stephanie': 70, 'Steven':63}\n",
    "student_avgs = pd.Series(avgs) #NOTE: The dictionary is rearranged alphabetically by key\n",
    "print(student_avgs, '\\n')\n",
    "print(student_avgs['Alex'], '\\n')\n",
    "print(student_avgs['Alex':'Stephanie']) #NOTE: This includes the value at the Stephanie index"
   ]
  },
  {
   "cell_type": "markdown",
   "metadata": {},
   "source": [
    "##### pd.Series(data, index=index)\n",
    "- data can be a list or NumPy array\n",
    "    - index defaults to an integer sequence\n",
    "- data can be a scalar to fill each spot in array with that scalar\n",
    "    - must specify indices\n",
    "- data can be a dict\n",
    "    - index defaults to keys\n",
    "- indices can always be explicitly declared\n"
   ]
  },
  {
   "cell_type": "code",
   "execution_count": 33,
   "metadata": {},
   "outputs": [
    {
     "name": "stdout",
     "output_type": "stream",
     "text": [
      "0    10\n",
      "1    20\n",
      "2    30\n",
      "3    40\n",
      "dtype: int64 \n",
      "\n",
      "1    5\n",
      "2    5\n",
      "3    5\n",
      "4    5\n",
      "5    5\n",
      "dtype: int64 \n",
      "\n",
      "x    24\n",
      "y    25\n",
      "z    26\n",
      "dtype: int64 \n",
      "\n",
      "x    24\n",
      "z    26\n",
      "dtype: int64 \n",
      "\n",
      "1    5\n",
      "2    5\n",
      "3    5\n",
      "5    5\n",
      "dtype: int64 \n",
      "\n",
      "0.0     5\n",
      "1.0     5\n",
      "2.0     5\n",
      "3.0     5\n",
      "4.0     5\n",
      "5.0     5\n",
      "6.0     5\n",
      "7.0     5\n",
      "8.0     5\n",
      "9.0     5\n",
      "10.0    5\n",
      "dtype: int64 \n",
      "\n"
     ]
    }
   ],
   "source": [
    "data1 = pd.Series([10, 20, 30, 40])\n",
    "data2 = pd.Series(5, index=[1,2,3,4,5])\n",
    "data3 = pd.Series({'x': 24, 'y': 25, 'z':26})\n",
    "#Note: we can explicitly declare the indices and only those are kept\n",
    "data4 = pd.Series({'x': 24, 'y': 25, 'z':26}, index=['x', 'z'])\n",
    "data5 = pd.Series(5, index=[1,2,3,5])\n",
    "\n",
    "print(data1, '\\n')\n",
    "print(data2, '\\n')\n",
    "print(data3, '\\n')\n",
    "print(data4, '\\n')\n",
    "print(data5, '\\n')\n",
    "\n",
    "#How can we do a scalar if we want there to be a large number of entries w/o typing each index?\n",
    "data6 = pd.Series(5, index = np.linspace(0, 10, 11))\n",
    "print(data6, '\\n')"
   ]
  },
  {
   "cell_type": "markdown",
   "metadata": {},
   "source": [
    "##### DataFrames\n",
    "- two-dimensional array with both flexible row indices and flexible column names\n",
    "- sequence of aligned Series objects\n",
    "    - *aligned*- share the same index\n",
    "- index attribute that gives access to the index (row) labels\n",
    "- columns attribute, which is an Index object holding the column labels\n"
   ]
  },
  {
   "cell_type": "code",
   "execution_count": 39,
   "metadata": {},
   "outputs": [
    {
     "name": "stdout",
     "output_type": "stream",
     "text": [
      "Index(['Average', 'Grade'], dtype='object')\n",
      "Index(['Alex', 'Cary', 'Stephanie', 'Steven'], dtype='object')\n"
     ]
    },
    {
     "data": {
      "text/html": [
       "<div>\n",
       "<style>\n",
       "    .dataframe thead tr:only-child th {\n",
       "        text-align: right;\n",
       "    }\n",
       "\n",
       "    .dataframe thead th {\n",
       "        text-align: left;\n",
       "    }\n",
       "\n",
       "    .dataframe tbody tr th {\n",
       "        vertical-align: top;\n",
       "    }\n",
       "</style>\n",
       "<table border=\"1\" class=\"dataframe\">\n",
       "  <thead>\n",
       "    <tr style=\"text-align: right;\">\n",
       "      <th></th>\n",
       "      <th>Average</th>\n",
       "      <th>Grade</th>\n",
       "    </tr>\n",
       "  </thead>\n",
       "  <tbody>\n",
       "    <tr>\n",
       "      <th>Alex</th>\n",
       "      <td>95</td>\n",
       "      <td>A</td>\n",
       "    </tr>\n",
       "    <tr>\n",
       "      <th>Cary</th>\n",
       "      <td>90</td>\n",
       "      <td>A</td>\n",
       "    </tr>\n",
       "    <tr>\n",
       "      <th>Stephanie</th>\n",
       "      <td>70</td>\n",
       "      <td>C</td>\n",
       "    </tr>\n",
       "    <tr>\n",
       "      <th>Steven</th>\n",
       "      <td>63</td>\n",
       "      <td>D</td>\n",
       "    </tr>\n",
       "  </tbody>\n",
       "</table>\n",
       "</div>"
      ],
      "text/plain": [
       "           Average Grade\n",
       "Alex            95     A\n",
       "Cary            90     A\n",
       "Stephanie       70     C\n",
       "Steven          63     D"
      ]
     },
     "execution_count": 39,
     "metadata": {},
     "output_type": "execute_result"
    }
   ],
   "source": [
    "#We will use student_avgs from before, and make anoter letter grade series right now\n",
    "letter_grade = pd.Series(['A', 'A', 'C', 'D'], index=['Alex', 'Cary', 'Stephanie', 'Steven'])\n",
    "grades = pd.DataFrame({'Grade': letter_grade, 'Average': student_avgs})\n",
    "print(grades.columns)\n",
    "print(grades.index)\n",
    "grades"
   ]
  },
  {
   "cell_type": "markdown",
   "metadata": {},
   "source": [
    "We can think of DataFrames as dictionaries that map a column name to a Series of column data"
   ]
  },
  {
   "cell_type": "code",
   "execution_count": 102,
   "metadata": {},
   "outputs": [
    {
     "name": "stdout",
     "output_type": "stream",
     "text": [
      "Alex         95\n",
      "Cary         90\n",
      "Stephanie    70\n",
      "Steven       63\n",
      "Name: Average, dtype: int64 \n",
      "\n",
      "Alex         A\n",
      "Cary         A\n",
      "Stephanie    C\n",
      "Steven       D\n",
      "Name: Grade, dtype: object \n",
      "\n",
      "95\n"
     ]
    }
   ],
   "source": [
    "print(grades['Average'], '\\n')\n",
    "print(grades['Grade'], '\\n')\n",
    "\n",
    "#Note: grades['Alex'] cause an error. It does not return Alex 95 A\n",
    "#But I feel like maybe it should?\n",
    "print(grades['Average']['Alex'])"
   ]
  },
  {
   "cell_type": "markdown",
   "metadata": {},
   "source": [
    "##### pd.DataFrame(population, columns=[columns])\n",
    "- can be constructed from a single series\n",
    "- can be constructed from a list of dictionaries\n",
    "    - if some keys are missing, Pandas puts in NaN- not a number\n",
    "- can be constructed from a dictionary of series objects\n",
    "- can be constructed from a 2D numpy array"
   ]
  },
  {
   "cell_type": "code",
   "execution_count": 62,
   "metadata": {},
   "outputs": [
    {
     "name": "stdout",
     "output_type": "stream",
     "text": [
      "          Grade\n",
      "Alex          A\n",
      "Cary          A\n",
      "Stephanie     C\n",
      "Steven        D\n",
      "     Dad  Mom  Sister\n",
      "Age   51   50      18\n"
     ]
    }
   ],
   "source": [
    "letter_grades_df = pd.DataFrame(letter_grade, columns = ['Grade'])\n",
    "print(letter_grades_df)\n",
    "ages = pd.DataFrame([{'Sister':18, 'Mom':50, 'Dad':51}], index=['Age'])\n",
    "print(ages)\n"
   ]
  },
  {
   "cell_type": "markdown",
   "metadata": {},
   "source": [
    "##### Indexes\n",
    "- immutable array or ordered set"
   ]
  },
  {
   "cell_type": "code",
   "execution_count": 63,
   "metadata": {},
   "outputs": [
    {
     "name": "stdout",
     "output_type": "stream",
     "text": [
      "Index([10], dtype='object')\n",
      "Index([10, 20, 30, 40, 50, 5, 15, 'a', 'b'], dtype='object')\n"
     ]
    }
   ],
   "source": [
    "#As an ordered set\n",
    "indA = pd.Index([10, 20, 30, 40, 50])\n",
    "indB = pd.Index([5, 10, 15, 'a', 'b'])\n",
    "\n",
    "print(indA&indB)\n",
    "print(indA|indB)"
   ]
  },
  {
   "cell_type": "markdown",
   "metadata": {},
   "source": [
    "#### Some Cool Indexing"
   ]
  },
  {
   "cell_type": "code",
   "execution_count": 72,
   "metadata": {},
   "outputs": [
    {
     "data": {
      "text/plain": [
       "True"
      ]
     },
     "execution_count": 72,
     "metadata": {},
     "output_type": "execute_result"
    }
   ],
   "source": [
    "'Alex' in student_avgs"
   ]
  },
  {
   "cell_type": "code",
   "execution_count": 73,
   "metadata": {},
   "outputs": [
    {
     "data": {
      "text/plain": [
       "95"
      ]
     },
     "execution_count": 73,
     "metadata": {},
     "output_type": "execute_result"
    }
   ],
   "source": [
    "student_avgs['Alex']"
   ]
  },
  {
   "cell_type": "code",
   "execution_count": 79,
   "metadata": {},
   "outputs": [
    {
     "data": {
      "text/plain": [
       "[('Alex', 95), ('Cary', 90), ('Stephanie', 70), ('Steven', 63)]"
      ]
     },
     "execution_count": 79,
     "metadata": {},
     "output_type": "execute_result"
    }
   ],
   "source": [
    "list(student_avgs.items())"
   ]
  },
  {
   "cell_type": "code",
   "execution_count": 89,
   "metadata": {},
   "outputs": [
    {
     "data": {
      "text/plain": [
       "Alex         95\n",
       "Cary         90\n",
       "Stephanie    97\n",
       "Steven       63\n",
       "dtype: int64"
      ]
     },
     "execution_count": 89,
     "metadata": {},
     "output_type": "execute_result"
    }
   ],
   "source": [
    "student_avgs['Stephanie'] = 97\n",
    "student_avgs"
   ]
  },
  {
   "cell_type": "code",
   "execution_count": 81,
   "metadata": {},
   "outputs": [
    {
     "data": {
      "text/plain": [
       "Alex         95\n",
       "Cary         90\n",
       "Stephanie    97\n",
       "dtype: int64"
      ]
     },
     "execution_count": 81,
     "metadata": {},
     "output_type": "execute_result"
    }
   ],
   "source": [
    "student_avgs['Alex':'Stephanie']"
   ]
  },
  {
   "cell_type": "code",
   "execution_count": 84,
   "metadata": {},
   "outputs": [
    {
     "data": {
      "text/plain": [
       "Alex         95\n",
       "Cary         90\n",
       "Stephanie    70\n",
       "dtype: int64"
      ]
     },
     "execution_count": 84,
     "metadata": {},
     "output_type": "execute_result"
    }
   ],
   "source": [
    "student_avgs[0:3]"
   ]
  },
  {
   "cell_type": "code",
   "execution_count": 91,
   "metadata": {},
   "outputs": [
    {
     "data": {
      "text/plain": [
       "Steven    63\n",
       "dtype: int64"
      ]
     },
     "execution_count": 91,
     "metadata": {},
     "output_type": "execute_result"
    }
   ],
   "source": [
    "student_avgs[(student_avgs>60) & (student_avgs<90)] #NEED those parenthesis"
   ]
  },
  {
   "cell_type": "code",
   "execution_count": 93,
   "metadata": {},
   "outputs": [
    {
     "data": {
      "text/plain": [
       "1    a\n",
       "3    b\n",
       "5    c\n",
       "dtype: object"
      ]
     },
     "execution_count": 93,
     "metadata": {},
     "output_type": "execute_result"
    }
   ],
   "source": [
    "#Uses explicit index for indexing, implicit for slicing\n",
    "data = pd.Series(['a', 'b', 'c'], index=[1, 3, 5])\n",
    "data"
   ]
  },
  {
   "cell_type": "code",
   "execution_count": 94,
   "metadata": {},
   "outputs": [
    {
     "data": {
      "text/plain": [
       "'a'"
      ]
     },
     "execution_count": 94,
     "metadata": {},
     "output_type": "execute_result"
    }
   ],
   "source": [
    "data[1]"
   ]
  },
  {
   "cell_type": "code",
   "execution_count": 95,
   "metadata": {},
   "outputs": [
    {
     "data": {
      "text/plain": [
       "3    b\n",
       "5    c\n",
       "dtype: object"
      ]
     },
     "execution_count": 95,
     "metadata": {},
     "output_type": "execute_result"
    }
   ],
   "source": [
    "data[1:3]"
   ]
  },
  {
   "cell_type": "code",
   "execution_count": 97,
   "metadata": {},
   "outputs": [
    {
     "data": {
      "text/plain": [
       "Series([], dtype: object)"
      ]
     },
     "execution_count": 97,
     "metadata": {},
     "output_type": "execute_result"
    }
   ],
   "source": [
    "data[3:5] #Empty because we dont have those implicit indices"
   ]
  },
  {
   "cell_type": "code",
   "execution_count": 98,
   "metadata": {},
   "outputs": [
    {
     "data": {
      "text/plain": [
       "'a'"
      ]
     },
     "execution_count": 98,
     "metadata": {},
     "output_type": "execute_result"
    }
   ],
   "source": [
    "# .loc means you ALWAYS use the explicit index for indexing AND slicing\n",
    "data.loc[1]"
   ]
  },
  {
   "cell_type": "code",
   "execution_count": 99,
   "metadata": {},
   "outputs": [
    {
     "data": {
      "text/plain": [
       "1    a\n",
       "3    b\n",
       "dtype: object"
      ]
     },
     "execution_count": 99,
     "metadata": {},
     "output_type": "execute_result"
    }
   ],
   "source": [
    "data.loc[1:3]"
   ]
  },
  {
   "cell_type": "code",
   "execution_count": 100,
   "metadata": {},
   "outputs": [
    {
     "data": {
      "text/plain": [
       "3    b\n",
       "5    c\n",
       "dtype: object"
      ]
     },
     "execution_count": 100,
     "metadata": {},
     "output_type": "execute_result"
    }
   ],
   "source": [
    "data.loc[3:5]"
   ]
  },
  {
   "cell_type": "code",
   "execution_count": 101,
   "metadata": {},
   "outputs": [
    {
     "data": {
      "text/plain": [
       "'b'"
      ]
     },
     "execution_count": 101,
     "metadata": {},
     "output_type": "execute_result"
    }
   ],
   "source": [
    "# .iloc uses the implicit\n",
    "data.iloc[1]"
   ]
  },
  {
   "cell_type": "code",
   "execution_count": 105,
   "metadata": {},
   "outputs": [
    {
     "data": {
      "text/plain": [
       "Average    95\n",
       "Grade       A\n",
       "Name: Alex, dtype: object"
      ]
     },
     "execution_count": 105,
     "metadata": {},
     "output_type": "execute_result"
    }
   ],
   "source": [
    "#From above when I tried to index just the row of 'Alex' and couldn't\n",
    "grades.loc['Alex']"
   ]
  },
  {
   "cell_type": "markdown",
   "metadata": {},
   "source": [
    "**One guiding principle of Python code is that \"explicit is better than implicit.\"**\n",
    "\n",
    "**Indexing refers to columns, slicing refers to rows**"
   ]
  },
  {
   "cell_type": "code",
   "execution_count": 107,
   "metadata": {},
   "outputs": [
    {
     "data": {
      "text/html": [
       "<div>\n",
       "<style>\n",
       "    .dataframe thead tr:only-child th {\n",
       "        text-align: right;\n",
       "    }\n",
       "\n",
       "    .dataframe thead th {\n",
       "        text-align: left;\n",
       "    }\n",
       "\n",
       "    .dataframe tbody tr th {\n",
       "        vertical-align: top;\n",
       "    }\n",
       "</style>\n",
       "<table border=\"1\" class=\"dataframe\">\n",
       "  <thead>\n",
       "    <tr style=\"text-align: right;\">\n",
       "      <th></th>\n",
       "      <th>Alex</th>\n",
       "      <th>Cary</th>\n",
       "      <th>Stephanie</th>\n",
       "      <th>Steven</th>\n",
       "    </tr>\n",
       "  </thead>\n",
       "  <tbody>\n",
       "    <tr>\n",
       "      <th>Average</th>\n",
       "      <td>95</td>\n",
       "      <td>90</td>\n",
       "      <td>70</td>\n",
       "      <td>63</td>\n",
       "    </tr>\n",
       "    <tr>\n",
       "      <th>Grade</th>\n",
       "      <td>A</td>\n",
       "      <td>A</td>\n",
       "      <td>C</td>\n",
       "      <td>D</td>\n",
       "    </tr>\n",
       "  </tbody>\n",
       "</table>\n",
       "</div>"
      ],
      "text/plain": [
       "        Alex Cary Stephanie Steven\n",
       "Average   95   90        70     63\n",
       "Grade      A    A         C      D"
      ]
     },
     "execution_count": 107,
     "metadata": {},
     "output_type": "execute_result"
    }
   ],
   "source": [
    "grades.T #transpose the DataFrame!"
   ]
  },
  {
   "cell_type": "code",
   "execution_count": 111,
   "metadata": {},
   "outputs": [
    {
     "name": "stdout",
     "output_type": "stream",
     "text": [
      "Average    95\n",
      "Grade       A\n",
      "Name: Alex, dtype: object\n"
     ]
    }
   ],
   "source": []
  },
  {
   "cell_type": "code",
   "execution_count": null,
   "metadata": {
    "collapsed": true
   },
   "outputs": [],
   "source": []
  }
 ],
 "metadata": {
  "kernelspec": {
   "display_name": "Python 3",
   "language": "python",
   "name": "python3"
  },
  "language_info": {
   "codemirror_mode": {
    "name": "ipython",
    "version": 3
   },
   "file_extension": ".py",
   "mimetype": "text/x-python",
   "name": "python",
   "nbconvert_exporter": "python",
   "pygments_lexer": "ipython3",
   "version": "3.6.1"
  }
 },
 "nbformat": 4,
 "nbformat_minor": 2
}
