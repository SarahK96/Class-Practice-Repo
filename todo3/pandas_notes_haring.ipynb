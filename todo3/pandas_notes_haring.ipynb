{
 "cells": [
  {
   "cell_type": "markdown",
   "metadata": {},
   "source": [
    "Paige Haring\n",
    "\n",
    "peh40@pitt.edu\n",
    "\n",
    "9.11.17\n",
    "\n",
    "## PANDAS"
   ]
  },
  {
   "cell_type": "markdown",
   "metadata": {},
   "source": [
    "### Intermediate Python for Data Science\n",
    "\n",
    "#### What is Pandas?\n",
    "- Pandas is a newer package built on top of NumPy for effecient implementation of a *DataFrame*\n",
    "    - multidimensional arrays with attached row and column labels\n",
    "    - full of different types\n",
    "    - can have missing data\n",
    "    - good for labeled data!\n",
    "- Pandas helps with things NumPy can't do\n",
    "    - working with labeled data, working with data where some is missing, etc.\n",
    "    - can group and pivot data\n",
    "    - *This is helpful because the data around us isn't always well structured*\n",
    "\n",
    "#### Introducing Pandas Objects\n",
    "A NumPy array whose rows and columns are given labels, not a numerical index\n",
    "\n",
    "##### Series\n",
    "- one-dimensional array of indexed data\n",
    "- can be created from a list or array\n",
    "- wraps both a sequence of values and a sequence of indices\n",
    "    - values: a numpy array of the values you stored\n",
    "    - index: array-like object pd.Index\n",
    "- data can be accessed by the associated index\n",
    "    "
   ]
  },
  {
   "cell_type": "code",
   "execution_count": 4,
   "metadata": {},
   "outputs": [
    {
     "name": "stdout",
     "output_type": "stream",
     "text": [
      "values:  [ 99 100  85  85  70  76  40  59  64  75  75  82  84  83] <class 'numpy.ndarray'>\n",
      "indices:  RangeIndex(start=0, stop=14, step=1) <class 'pandas.core.indexes.range.RangeIndex'>\n"
     ]
    },
    {
     "data": {
      "text/plain": [
       "0      99\n",
       "1     100\n",
       "2      85\n",
       "3      85\n",
       "4      70\n",
       "5      76\n",
       "6      40\n",
       "7      59\n",
       "8      64\n",
       "9      75\n",
       "10     75\n",
       "11     82\n",
       "12     84\n",
       "13     83\n",
       "dtype: int64"
      ]
     },
     "execution_count": 4,
     "metadata": {},
     "output_type": "execute_result"
    }
   ],
   "source": [
    "import numpy as np\n",
    "import pandas as pd\n",
    "\n",
    "#Create series from a list\n",
    "\n",
    "grades = [99, 100, 85, 85, 70, 76, 40, 59, 64, 75, 75, 82, 84, 83]\n",
    "\n",
    "grades_series = pd.Series(grades)\n",
    "\n",
    "print(\"values: \", grades_series.values, type(grades_series.values))\n",
    "print(\"indices: \", grades_series.index, type(grades_series.index))\n",
    "grades_series"
   ]
  },
  {
   "cell_type": "code",
   "execution_count": null,
   "metadata": {
    "collapsed": true
   },
   "outputs": [],
   "source": []
  }
 ],
 "metadata": {
  "kernelspec": {
   "display_name": "Python 3",
   "language": "python",
   "name": "python3"
  },
  "language_info": {
   "codemirror_mode": {
    "name": "ipython",
    "version": 3
   },
   "file_extension": ".py",
   "mimetype": "text/x-python",
   "name": "python",
   "nbconvert_exporter": "python",
   "pygments_lexer": "ipython3",
   "version": "3.6.1"
  }
 },
 "nbformat": 4,
 "nbformat_minor": 2
}
