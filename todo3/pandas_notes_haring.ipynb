{
 "cells": [
  {
   "cell_type": "markdown",
   "metadata": {},
   "source": [
    "Paige Haring\n",
    "\n",
    "peh40@pitt.edu\n",
    "\n",
    "9.11.17\n",
    "\n",
    "## PANDAS"
   ]
  },
  {
   "cell_type": "markdown",
   "metadata": {},
   "source": [
    "### Intermediate Python for Data Science\n",
    "\n",
    "#### What is Pandas?\n",
    "- Pandas is a newer package built on top of NumPy for effecient implementation of a *DataFrame*\n",
    "    - multidimensional arrays with attached row and column labels\n",
    "    - full of different types\n",
    "    - can have missing data\n",
    "    - good for labeled data!\n",
    "- Pandas helps with things NumPy can't do\n",
    "    - working with labeled data, working with data where some is missing, etc.\n",
    "    - can group and pivot data\n",
    "    - *This is helpful because the data around us isn't always well structured*\n",
    "\n",
    "#### Introducing Pandas Objects\n",
    "A NumPy array whose rows and columns are given labels, not a numerical index\n",
    "\n",
    "##### Series\n",
    "- one-dimensional array of indexed data\n",
    "- can be created from a list or array\n",
    "- wraps both a sequence of values and a sequence of indices\n",
    "    - values: a numpy array of the values you stored\n",
    "    - index: array-like object pd.Index\n",
    "- data can be accessed by the associated index\n",
    "    "
   ]
  },
  {
   "cell_type": "code",
   "execution_count": 4,
   "metadata": {},
   "outputs": [
    {
     "name": "stdout",
     "output_type": "stream",
     "text": [
      "values:  [ 99 100  85  85  70  76  40  59  64  75  75  82  84  83] <class 'numpy.ndarray'>\n",
      "indices:  RangeIndex(start=0, stop=14, step=1) <class 'pandas.core.indexes.range.RangeIndex'>\n"
     ]
    },
    {
     "data": {
      "text/plain": [
       "0      99\n",
       "1     100\n",
       "2      85\n",
       "3      85\n",
       "4      70\n",
       "5      76\n",
       "6      40\n",
       "7      59\n",
       "8      64\n",
       "9      75\n",
       "10     75\n",
       "11     82\n",
       "12     84\n",
       "13     83\n",
       "dtype: int64"
      ]
     },
     "execution_count": 4,
     "metadata": {},
     "output_type": "execute_result"
    }
   ],
   "source": [
    "import numpy as np\n",
    "import pandas as pd\n",
    "\n",
    "#Create series from a list\n",
    "\n",
    "grades = [99, 100, 85, 85, 70, 76, 40, 59, 64, 75, 75, 82, 84, 83]\n",
    "\n",
    "grades_series = pd.Series(grades)\n",
    "\n",
    "print(\"values: \", grades_series.values, type(grades_series.values))\n",
    "print(\"indices: \", grades_series.index, type(grades_series.index))\n",
    "grades_series"
   ]
  },
  {
   "cell_type": "markdown",
   "metadata": {},
   "source": [
    "Series are a lot like regular NumPy arrays, except the indices are *explicitly defined*, meaning they don't have to be integers!\n",
    "- letters\n",
    "- non-sequential integers"
   ]
  },
  {
   "cell_type": "code",
   "execution_count": 10,
   "metadata": {},
   "outputs": [
    {
     "name": "stdout",
     "output_type": "stream",
     "text": [
      "a    2\n",
      "b    4\n",
      "c    6\n",
      "d    8\n",
      "dtype: int64\n"
     ]
    },
    {
     "data": {
      "text/plain": [
       "4"
      ]
     },
     "execution_count": 10,
     "metadata": {},
     "output_type": "execute_result"
    }
   ],
   "source": [
    "#Multiple choice: What is 2*2?\n",
    "answers = pd.Series([2, 4, 6, 8], index=['a', 'b', 'c', 'd'])\n",
    "print(answers)\n",
    "answers['b']"
   ]
  },
  {
   "cell_type": "markdown",
   "metadata": {},
   "source": [
    "Series can also be looked at like Python dictionaries! However, Series keep track of type information (like an array as opposed to a Python list) making it more efficient. You can also perform some cool operations on it."
   ]
  },
  {
   "cell_type": "code",
   "execution_count": 19,
   "metadata": {},
   "outputs": [
    {
     "name": "stdout",
     "output_type": "stream",
     "text": [
      "Alex         95\n",
      "Cary         90\n",
      "Stephanie    70\n",
      "Steven       63\n",
      "dtype: int64 \n",
      "\n",
      "95 \n",
      "\n",
      "Alex         95\n",
      "Cary         90\n",
      "Stephanie    70\n",
      "dtype: int64\n"
     ]
    }
   ],
   "source": [
    "avgs = {'Cary': 90, 'Alex': 95, 'Stephanie': 70, 'Steven':63}\n",
    "student_avgs = pd.Series(avgs) #NOTE: The dictionary is rearranged from largest to smallest values\n",
    "print(student_avgs, '\\n')\n",
    "print(student_avgs['Alex'], '\\n')\n",
    "print(student_avgs['Alex':'Stephanie']) #NOTE: This includes the value at the Stephanie index"
   ]
  },
  {
   "cell_type": "markdown",
   "metadata": {},
   "source": [
    "##### pd.Series(data, index=index)\n",
    "- data can be a list or NumPy array\n",
    "    - index defaults to an integer sequence\n",
    "- data can be a scalar to fill each spot in array with that scalar\n",
    "    - must specify indices\n",
    "- data can be a dict\n",
    "    - index defaults to keys\n",
    "- indices can always be explicitly declared\n"
   ]
  },
  {
   "cell_type": "code",
   "execution_count": 33,
   "metadata": {},
   "outputs": [
    {
     "name": "stdout",
     "output_type": "stream",
     "text": [
      "0    10\n",
      "1    20\n",
      "2    30\n",
      "3    40\n",
      "dtype: int64 \n",
      "\n",
      "1    5\n",
      "2    5\n",
      "3    5\n",
      "4    5\n",
      "5    5\n",
      "dtype: int64 \n",
      "\n",
      "x    24\n",
      "y    25\n",
      "z    26\n",
      "dtype: int64 \n",
      "\n",
      "x    24\n",
      "z    26\n",
      "dtype: int64 \n",
      "\n",
      "1    5\n",
      "2    5\n",
      "3    5\n",
      "5    5\n",
      "dtype: int64 \n",
      "\n",
      "0.0     5\n",
      "1.0     5\n",
      "2.0     5\n",
      "3.0     5\n",
      "4.0     5\n",
      "5.0     5\n",
      "6.0     5\n",
      "7.0     5\n",
      "8.0     5\n",
      "9.0     5\n",
      "10.0    5\n",
      "dtype: int64 \n",
      "\n"
     ]
    }
   ],
   "source": [
    "data1 = pd.Series([10, 20, 30, 40])\n",
    "data2 = pd.Series(5, index=[1,2,3,4,5])\n",
    "data3 = pd.Series({'x': 24, 'y': 25, 'z':26})\n",
    "#Note: we can explicitly declare the indices and only those are kept\n",
    "data4 = pd.Series({'x': 24, 'y': 25, 'z':26}, index=['x', 'z'])\n",
    "data5 = pd.Series(5, index=[1,2,3,5])\n",
    "\n",
    "print(data1, '\\n')\n",
    "print(data2, '\\n')\n",
    "print(data3, '\\n')\n",
    "print(data4, '\\n')\n",
    "print(data5, '\\n')\n",
    "\n",
    "#How can we do a scalar if we want there to be a large number of entries w/o typing each index?\n",
    "data6 = pd.Series(5, index = np.linspace(0, 10, 11))\n",
    "print(data6, '\\n')"
   ]
  },
  {
   "cell_type": "code",
   "execution_count": null,
   "metadata": {
    "collapsed": true
   },
   "outputs": [],
   "source": []
  }
 ],
 "metadata": {
  "kernelspec": {
   "display_name": "Python 3",
   "language": "python",
   "name": "python3"
  },
  "language_info": {
   "codemirror_mode": {
    "name": "ipython",
    "version": 3
   },
   "file_extension": ".py",
   "mimetype": "text/x-python",
   "name": "python",
   "nbconvert_exporter": "python",
   "pygments_lexer": "ipython3",
   "version": "3.6.1"
  }
 },
 "nbformat": 4,
 "nbformat_minor": 2
}
